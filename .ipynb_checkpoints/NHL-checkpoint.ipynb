{
 "cells": [
  {
   "cell_type": "code",
   "execution_count": 1,
   "metadata": {},
   "outputs": [],
   "source": [
    "import requests\n",
    "import pandas as pd\n",
    "import json\n",
    "import matplotlib.pyplot as plt  \n",
    "import numpy as np\n",
    "import seaborn as sns\n",
    "\n"
   ]
  },
  {
   "cell_type": "markdown",
   "metadata": {},
   "source": [
    "# Depreicated"
   ]
  },
  {
   "cell_type": "markdown",
   "metadata": {},
   "source": [
    "***This file was downloaded directly to the laptop.  Since it's available for download, there is no API call made.  You'll have to download this yourself. http://inalitic.com/datasets/nhl%20player%20data.html*** "
   ]
  },
  {
   "cell_type": "code",
   "execution_count": 2,
   "metadata": {
    "scrolled": false
   },
   "outputs": [
    {
     "name": "stderr",
     "output_type": "stream",
     "text": [
      "//anaconda3/lib/python3.7/site-packages/IPython/core/interactiveshell.py:3058: DtypeWarning: Columns (22,23) have mixed types. Specify dtype option on import or set low_memory=False.\n",
      "  interactivity=interactivity, compiler=compiler, result=result)\n"
     ]
    }
   ],
   "source": [
    "df = pd.read_csv('skater_stats.csv', encoding='latin1')"
   ]
  },
  {
   "cell_type": "markdown",
   "metadata": {},
   "source": [
    "# New API"
   ]
  },
  {
   "cell_type": "code",
   "execution_count": 3,
   "metadata": {},
   "outputs": [
    {
     "name": "stdout",
     "output_type": "stream",
     "text": [
      "19931994\n",
      "19941995\n",
      "19951996\n",
      "19961997\n",
      "19971998\n",
      "19981999\n",
      "19992000\n",
      "20002001\n",
      "20012002\n",
      "20022003\n",
      "20062007\n",
      "20072008\n",
      "20082009\n",
      "20092010\n",
      "20102011\n",
      "20112012\n",
      "20122013\n",
      "20132014\n",
      "20142015\n",
      "20152016\n"
     ]
    }
   ],
   "source": [
    "teamgoalsdict = {}\n",
    "yeardict = {}\n",
    "listofgoalgpgBefore = []\n",
    "\n",
    "# For each year that there was an NHL season \n",
    "# for i in range(10):\n",
    "#     year = 1993+i\n",
    "#     year2 = year+1\n",
    "#     if year != 2004:\n",
    "#         yearhtml = 'https://statsapi.web.nhl.com/api/v1/teams?expand=team.stats&season=' + str(year) + str(year2)\n",
    "#         r = requests.get(yearhtml, auth=('user', 'pass'))\n",
    "#         nestdict = r.json()\n",
    "#         for i in [26, 26, 26, 26, 26, 27, 28, 30, 30, 30]:\n",
    "#             name = nestdict['teams'][i]['teamStats'][0]['splits'][0]['team']['name']\n",
    "#             goalsPerGame = nestdict['teams'][i]['teamStats'][0]['splits'][0]['stat']['goalsPerGame']\n",
    "#             listofgoalgpgBefore.append(goalsPerGame)\n",
    "# \n",
    "# 'goalsPerGame'\n",
    "\n",
    "seasonindices = ['19931994', '19941995', '19951996', '19961997', '19971998', '19981999', '19992000', '20002001', '20012002', '20022003']\n",
    "# seasonindices = ['19981999', '19992000', '20002001', '20012002', '20022003']\n",
    "\n",
    "for index in seasonindices:\n",
    "    print(index)\n",
    "    yearhtml = 'https://statsapi.web.nhl.com/api/v1/teams?expand=team.stats&season=' + index\n",
    "    r = requests.get(yearhtml, auth=('user', 'pass'))\n",
    "    nestdict = r.json()\n",
    "    for i in range(len(nestdict['teams'])):\n",
    "        name = nestdict['teams'][i]['teamStats'][0]['splits'][0]['team']['name']\n",
    "        goalsPerGame = nestdict['teams'][i]['teamStats'][0]['splits'][0]['stat']['goalsPerGame']\n",
    "        listofgoalgpgBefore.append(goalsPerGame)\n",
    "\n",
    "\n",
    "seasonindicesaft = ['20062007', '20072008', '20082009', '20092010', '20102011', '20112012', '20122013', '20132014', '20142015', '20152016']\n",
    "# seasonindicesaft = ['20112012', '20122013', '20132014', '20142015', '20152016']\n",
    "listofgoalgpgAfter = []\n",
    "\n",
    "for index in seasonindicesaft:\n",
    "    print(index)\n",
    "    yearhtml = 'https://statsapi.web.nhl.com/api/v1/teams?expand=team.stats&season=' + index\n",
    "    r = requests.get(yearhtml, auth=('user', 'pass'))\n",
    "    nestdict = r.json()\n",
    "    for i in range(len(nestdict['teams'])):\n",
    "        name = nestdict['teams'][i]['teamStats'][0]['splits'][0]['team']['name']\n",
    "        goalsPerGame = nestdict['teams'][i]['teamStats'][0]['splits'][0]['stat']['goalsPerGame']\n",
    "        listofgoalgpgAfter.append(goalsPerGame)        \n",
    "        \n",
    "\n",
    "        "
   ]
  },
  {
   "cell_type": "code",
   "execution_count": 4,
   "metadata": {},
   "outputs": [
    {
     "data": {
      "text/plain": [
       "<matplotlib.axes._subplots.AxesSubplot at 0x1a279dc048>"
      ]
     },
     "execution_count": 4,
     "metadata": {},
     "output_type": "execute_result"
    },
    {
     "data": {
      "image/png": "[encoded data removed]",
      "text/plain": [
       "<Figure size 432x288 with 1 Axes>"
      ]
     },
     "metadata": {
      "needs_background": "light"
     },
     "output_type": "display_data"
    }
   ],
   "source": [
    "sns.distplot(listofgoalgpgBefore)\n",
    "sns.distplot(listofgoalgpgAfter)"
   ]
  },
  {
   "cell_type": "markdown",
   "metadata": {},
   "source": [
    "For relatively normal graphs, the mean should equal the median.  This is just a quick and dirty way of determining normality.  Probably not the best way, but should be good enough."
   ]
  },
  {
   "cell_type": "code",
   "execution_count": 5,
   "metadata": {},
   "outputs": [
    {
     "data": {
      "text/plain": [
       "1.0070877970693264"
      ]
     },
     "execution_count": 5,
     "metadata": {},
     "output_type": "execute_result"
    }
   ],
   "source": [
    "np.mean(np.array(listofgoalgpgAfter))/np.median(np.array(listofgoalgpgAfter))"
   ]
  },
  {
   "cell_type": "markdown",
   "metadata": {},
   "source": [
    "Still gonna bootstrap.  But here is a look without bootstrapping."
   ]
  },
  {
   "cell_type": "code",
   "execution_count": 9,
   "metadata": {},
   "outputs": [
    {
     "data": {
      "text/plain": [
       "Ttest_indResult(statistic=3.442300149495998, pvalue=0.000618864598146791)"
      ]
     },
     "execution_count": 9,
     "metadata": {},
     "output_type": "execute_result"
    }
   ],
   "source": [
    "import scipy.stats as stats\n",
    "import statsmodels.stats as sm\n",
    "\n",
    "stats.ttest_ind(listofgoalgpgBefore, listofgoalgpgAfter)\n",
    "\n",
    "# print(np.average(np.array(listofgoalgpgBefore)), np.average(np.array(listofgoalgpgAfter)))"
   ]
  },
  {
   "cell_type": "markdown",
   "metadata": {},
   "source": [
    "### Bootstrapping"
   ]
  },
  {
   "cell_type": "code",
   "execution_count": 10,
   "metadata": {},
   "outputs": [],
   "source": [
    "sampledgpgBefore = []\n",
    "sampledgpgAfter = []\n",
    "bootstrap_means_before = []\n",
    "bootstrap_means_after = []\n",
    "\n",
    "for iteration in range(1000):\n",
    "    for gpgs in range(10):\n",
    "        sampledgpgBefore.append(np.random.choice(listofgoalgpgBefore))\n",
    "        sampledgpgAfter.append(np.random.choice(listofgoalgpgAfter))\n",
    "    bootstrap_means_before.append(np.average(sampledgpgBefore))\n",
    "    bootstrap_means_after.append(np.average(sampledgpgAfter))"
   ]
  },
  {
   "cell_type": "code",
   "execution_count": 11,
   "metadata": {
    "scrolled": true
   },
   "outputs": [
    {
     "data": {
      "text/plain": [
       "<matplotlib.axes._subplots.AxesSubplot at 0x1a246f90b8>"
      ]
     },
     "execution_count": 11,
     "metadata": {},
     "output_type": "execute_result"
    },
    {
     "data": {
      "image/png": "[encoded data removed]",
      "text/plain": [
       "<Figure size 432x288 with 1 Axes>"
      ]
     },
     "metadata": {
      "needs_background": "light"
     },
     "output_type": "display_data"
    }
   ],
   "source": [
    "sns.distplot(bootstrap_means_before)\n",
    "sns.distplot(bootstrap_means_after)"
   ]
  },
  {
   "cell_type": "code",
   "execution_count": 13,
   "metadata": {},
   "outputs": [
    {
     "data": {
      "text/plain": [
       "Ttest_indResult(statistic=377.4134664326216, pvalue=0.0)"
      ]
     },
     "execution_count": 13,
     "metadata": {},
     "output_type": "execute_result"
    }
   ],
   "source": [
    "stats.ttest_ind(bootstrap_means_before, bootstrap_means_after)"
   ]
  },
  {
   "cell_type": "code",
   "execution_count": null,
   "metadata": {
    "scrolled": true
   },
   "outputs": [],
   "source": []
  },
  {
   "cell_type": "code",
   "execution_count": 17,
   "metadata": {},
   "outputs": [],
   "source": [
    "# listofgpg = []\n",
    "# yearhtml = 'https://statsapi.web.nhl.com/api/v1/teams?expand=team.stats&season=20052006'\n",
    "# r = requests.get(yearhtml, auth=('user', 'pass'))\n",
    "# nestdict = r.json()\n",
    "# for i in range(30):\n",
    "#     name = nestdict['teams'][i]['teamStats'][0]['splits'][0]['team']['name']\n",
    "#     goalsPerGame = nestdict['teams'][i]['teamStats'][0]['splits'][0]['stat']['goalsPerGame']\n",
    "#     listofgpg.append(goalsPerGame)\n"
   ]
  },
  {
   "cell_type": "code",
   "execution_count": 18,
   "metadata": {},
   "outputs": [
    {
     "data": {
      "text/plain": [
       "480"
      ]
     },
     "execution_count": 18,
     "metadata": {},
     "output_type": "execute_result"
    }
   ],
   "source": [
    "len(listofgoalgpg)"
   ]
  },
  {
   "cell_type": "code",
   "execution_count": 19,
   "metadata": {},
   "outputs": [
    {
     "data": {
      "image/png": "[encoded data removed]",
      "text/plain": [
       "<Figure size 432x288 with 1 Axes>"
      ]
     },
     "metadata": {
      "needs_background": "light"
     },
     "output_type": "display_data"
    }
   ],
   "source": [
    "plt.hist(listofgoalgpg, color = 'green', \n",
    "        histtype = 'bar', rwidth = 0.8) \n",
    "plt.hist(listofgpg, color = 'blue', histtype= 'bar', rwidth= .8)\n",
    "\n",
    "# x-axis label \n",
    "plt.xlabel('Goals Per Game') \n",
    "# frequency label \n",
    "plt.ylabel('Number of times teams have scored in this range') \n",
    "# plot title \n",
    "plt.title('My histogram') \n",
    "  \n",
    "# function to show the plot \n",
    "plt.show() "
   ]
  },
  {
   "cell_type": "markdown",
   "metadata": {},
   "source": [
    "listofgoalgpg is each team's average goals per game from the last 16 years so 2000-2001 to 2016-2017."
   ]
  },
  {
   "cell_type": "code",
   "execution_count": 23,
   "metadata": {},
   "outputs": [],
   "source": [
    "goalgpg = []\n",
    "bootstrap_means = []\n",
    "\n",
    "for iteration in range(10000):\n",
    "    for team in range(10):\n",
    "        goalgpg.append(np.random.choice(listofgoalgpg))\n",
    "    bootstrap_means.append(np.average(goalgpg))\n",
    "    goalgpg = []\n",
    "\n",
    "bootstrap_means"
   ]
  },
  {
   "cell_type": "code",
   "execution_count": 24,
   "metadata": {},
   "outputs": [
    {
     "data": {
      "text/plain": [
       "<matplotlib.axes._subplots.AxesSubplot at 0x1a21684550>"
      ]
     },
     "execution_count": 24,
     "metadata": {},
     "output_type": "execute_result"
    },
    {
     "data": {
      "image/png": "[encoded data removed]",
      "text/plain": [
       "<Figure size 432x288 with 1 Axes>"
      ]
     },
     "metadata": {
      "needs_background": "light"
     },
     "output_type": "display_data"
    }
   ],
   "source": [
    "sns.distplot(bootstrap_means)"
   ]
  },
  {
   "cell_type": "code",
   "execution_count": null,
   "metadata": {},
   "outputs": [],
   "source": []
  }
 ],
 "metadata": {
  "kernelspec": {
   "display_name": "Python 3",
   "language": "python",
   "name": "python3"
  },
  "language_info": {
   "codemirror_mode": {
    "name": "ipython",
    "version": 3
   },
   "file_extension": ".py",
   "mimetype": "text/x-python",
   "name": "python",
   "nbconvert_exporter": "python",
   "pygments_lexer": "ipython3",
   "version": "3.7.3"
  }
 },
 "nbformat": 4,
 "nbformat_minor": 2
}
