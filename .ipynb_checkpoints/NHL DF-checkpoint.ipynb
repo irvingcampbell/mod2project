{
 "cells": [
  {
   "cell_type": "code",
   "execution_count": 2,
   "metadata": {},
   "outputs": [],
   "source": [
    "import requests\n",
    "import pandas as pd\n",
    "import json\n"
   ]
  },
  {
   "cell_type": "markdown",
   "metadata": {},
   "source": [
    "***This file was downloaded directly to the laptop.  Since it's available for download, there is no API call made.  You'll have to download this yourself. http://inalitic.com/datasets/nhl%20player%20data.html*** "
   ]
  },
  {
   "cell_type": "code",
   "execution_count": 4,
   "metadata": {},
   "outputs": [
    {
     "name": "stderr",
     "output_type": "stream",
     "text": [
      "//anaconda3/lib/python3.7/site-packages/IPython/core/interactiveshell.py:3058: DtypeWarning: Columns (22,23) have mixed types. Specify dtype option on import or set low_memory=False.\n",
      "  interactivity=interactivity, compiler=compiler, result=result)\n"
     ]
    }
   ],
   "source": [
    "df = pd.read_csv('skater_stats.csv', encoding='latin1')"
   ]
  },
  {
   "cell_type": "code",
   "execution_count": 5,
   "metadata": {},
   "outputs": [
    {
     "data": {
      "text/html": [
       "<div>\n",
       "<style scoped>\n",
       "    .dataframe tbody tr th:only-of-type {\n",
       "        vertical-align: middle;\n",
       "    }\n",
       "\n",
       "    .dataframe tbody tr th {\n",
       "        vertical-align: top;\n",
       "    }\n",
       "\n",
       "    .dataframe thead th {\n",
       "        text-align: right;\n",
       "    }\n",
       "</style>\n",
       "<table border=\"1\" class=\"dataframe\">\n",
       "  <thead>\n",
       "    <tr style=\"text-align: right;\">\n",
       "      <th></th>\n",
       "      <th>Unnamed: 0</th>\n",
       "      <th>Season</th>\n",
       "      <th>Player</th>\n",
       "      <th>Age</th>\n",
       "      <th>Tm</th>\n",
       "      <th>Pos</th>\n",
       "      <th>GP</th>\n",
       "      <th>G</th>\n",
       "      <th>GPG</th>\n",
       "      <th>A</th>\n",
       "      <th>...</th>\n",
       "      <th>SHA</th>\n",
       "      <th>S</th>\n",
       "      <th>S%</th>\n",
       "      <th>TOI</th>\n",
       "      <th>ATOI</th>\n",
       "      <th>BLK</th>\n",
       "      <th>HIT</th>\n",
       "      <th>FOwin</th>\n",
       "      <th>FOloss</th>\n",
       "      <th>FO%</th>\n",
       "    </tr>\n",
       "  </thead>\n",
       "  <tbody>\n",
       "    <tr>\n",
       "      <th>0</th>\n",
       "      <td>2018Justin Abdelkader</td>\n",
       "      <td>2018</td>\n",
       "      <td>Justin Abdelkader</td>\n",
       "      <td>30.0</td>\n",
       "      <td>DET</td>\n",
       "      <td>LW</td>\n",
       "      <td>75</td>\n",
       "      <td>13</td>\n",
       "      <td>0.1733</td>\n",
       "      <td>22</td>\n",
       "      <td>...</td>\n",
       "      <td>-</td>\n",
       "      <td>110</td>\n",
       "      <td>12</td>\n",
       "      <td>1,241</td>\n",
       "      <td>16:33</td>\n",
       "      <td>40.0</td>\n",
       "      <td>174.0</td>\n",
       "      <td>47.0</td>\n",
       "      <td>50.0</td>\n",
       "      <td>48.5</td>\n",
       "    </tr>\n",
       "    <tr>\n",
       "      <th>1</th>\n",
       "      <td>2018Pontus Aberg</td>\n",
       "      <td>2018</td>\n",
       "      <td>Pontus Aberg</td>\n",
       "      <td>24.0</td>\n",
       "      <td>TOT</td>\n",
       "      <td>LW</td>\n",
       "      <td>53</td>\n",
       "      <td>4</td>\n",
       "      <td>0.0755</td>\n",
       "      <td>12</td>\n",
       "      <td>...</td>\n",
       "      <td>-</td>\n",
       "      <td>70</td>\n",
       "      <td>6</td>\n",
       "      <td>645</td>\n",
       "      <td>12:10</td>\n",
       "      <td>8.0</td>\n",
       "      <td>24.0</td>\n",
       "      <td>4.0</td>\n",
       "      <td>8.0</td>\n",
       "      <td>33.3</td>\n",
       "    </tr>\n",
       "    <tr>\n",
       "      <th>2</th>\n",
       "      <td>2018Noel Acciari</td>\n",
       "      <td>2018</td>\n",
       "      <td>Noel Acciari</td>\n",
       "      <td>26.0</td>\n",
       "      <td>BOS</td>\n",
       "      <td>C</td>\n",
       "      <td>60</td>\n",
       "      <td>10</td>\n",
       "      <td>0.1667</td>\n",
       "      <td>1</td>\n",
       "      <td>...</td>\n",
       "      <td>-</td>\n",
       "      <td>66</td>\n",
       "      <td>15</td>\n",
       "      <td>775</td>\n",
       "      <td>12:55</td>\n",
       "      <td>41.0</td>\n",
       "      <td>152.0</td>\n",
       "      <td>42.0</td>\n",
       "      <td>51.0</td>\n",
       "      <td>45.2</td>\n",
       "    </tr>\n",
       "    <tr>\n",
       "      <th>3</th>\n",
       "      <td>2018Kenny Agostino</td>\n",
       "      <td>2018</td>\n",
       "      <td>Kenny Agostino</td>\n",
       "      <td>25.0</td>\n",
       "      <td>BOS</td>\n",
       "      <td>LW</td>\n",
       "      <td>5</td>\n",
       "      <td>-</td>\n",
       "      <td>0.0000</td>\n",
       "      <td>1</td>\n",
       "      <td>...</td>\n",
       "      <td>-</td>\n",
       "      <td>11</td>\n",
       "      <td>-</td>\n",
       "      <td>60</td>\n",
       "      <td>12:03</td>\n",
       "      <td>1.0</td>\n",
       "      <td>4.0</td>\n",
       "      <td>0.0</td>\n",
       "      <td>1.0</td>\n",
       "      <td>0.0</td>\n",
       "    </tr>\n",
       "    <tr>\n",
       "      <th>4</th>\n",
       "      <td>2018Sebastian Aho</td>\n",
       "      <td>2018</td>\n",
       "      <td>Sebastian Aho</td>\n",
       "      <td>20.0</td>\n",
       "      <td>CAR</td>\n",
       "      <td>RW</td>\n",
       "      <td>78</td>\n",
       "      <td>29</td>\n",
       "      <td>0.3718</td>\n",
       "      <td>36</td>\n",
       "      <td>...</td>\n",
       "      <td>-</td>\n",
       "      <td>200</td>\n",
       "      <td>15</td>\n",
       "      <td>1,398</td>\n",
       "      <td>17:55</td>\n",
       "      <td>17.0</td>\n",
       "      <td>65.0</td>\n",
       "      <td>78.0</td>\n",
       "      <td>94.0</td>\n",
       "      <td>45.3</td>\n",
       "    </tr>\n",
       "  </tbody>\n",
       "</table>\n",
       "<p>5 rows × 29 columns</p>\n",
       "</div>"
      ],
      "text/plain": [
       "              Unnamed: 0  Season             Player   Age     Tm   Pos  GP  \\\n",
       "0  2018Justin Abdelkader    2018  Justin Abdelkader  30.0   DET    LW   75   \n",
       "1       2018Pontus Aberg    2018       Pontus Aberg  24.0   TOT    LW   53   \n",
       "2       2018Noel Acciari    2018       Noel Acciari  26.0   BOS     C   60   \n",
       "3     2018Kenny Agostino    2018     Kenny Agostino  25.0   BOS    LW    5   \n",
       "4      2018Sebastian Aho    2018      Sebastian Aho  20.0   CAR    RW   78   \n",
       "\n",
       "       G     GPG     A  ...    SHA      S     S%      TOI   ATOI   BLK    HIT  \\\n",
       "0    13   0.1733   22   ...   -      110     12    1,241   16:33  40.0  174.0   \n",
       "1     4   0.0755   12   ...   -       70      6      645   12:10   8.0   24.0   \n",
       "2    10   0.1667    1   ...   -       66     15      775   12:55  41.0  152.0   \n",
       "3   -     0.0000    1   ...   -       11    -         60   12:03   1.0    4.0   \n",
       "4    29   0.3718   36   ...   -      200     15    1,398   17:55  17.0   65.0   \n",
       "\n",
       "  FOwin FOloss   FO%  \n",
       "0  47.0   50.0  48.5  \n",
       "1   4.0    8.0  33.3  \n",
       "2  42.0   51.0  45.2  \n",
       "3   0.0    1.0   0.0  \n",
       "4  78.0   94.0  45.3  \n",
       "\n",
       "[5 rows x 29 columns]"
      ]
     },
     "execution_count": 5,
     "metadata": {},
     "output_type": "execute_result"
    }
   ],
   "source": [
    "df.head()"
   ]
  },
  {
   "cell_type": "code",
   "execution_count": 6,
   "metadata": {},
   "outputs": [
    {
     "data": {
      "text/plain": [
       "(37825, 29)"
      ]
     },
     "execution_count": 6,
     "metadata": {},
     "output_type": "execute_result"
    }
   ],
   "source": [
    "df.shape"
   ]
  },
  {
   "cell_type": "code",
   "execution_count": 7,
   "metadata": {},
   "outputs": [],
   "source": [
    "df_fixed = df.drop('Unnamed: 0', axis = 1)"
   ]
  },
  {
   "cell_type": "code",
   "execution_count": 8,
   "metadata": {},
   "outputs": [],
   "source": [
    "df_nhl = df_fixed"
   ]
  },
  {
   "cell_type": "code",
   "execution_count": 57,
   "metadata": {},
   "outputs": [
    {
     "data": {
      "text/html": [
       "<div>\n",
       "<style scoped>\n",
       "    .dataframe tbody tr th:only-of-type {\n",
       "        vertical-align: middle;\n",
       "    }\n",
       "\n",
       "    .dataframe tbody tr th {\n",
       "        vertical-align: top;\n",
       "    }\n",
       "\n",
       "    .dataframe thead th {\n",
       "        text-align: right;\n",
       "    }\n",
       "</style>\n",
       "<table border=\"1\" class=\"dataframe\">\n",
       "  <thead>\n",
       "    <tr style=\"text-align: right;\">\n",
       "      <th></th>\n",
       "      <th>Season</th>\n",
       "      <th>Player</th>\n",
       "      <th>Tm</th>\n",
       "      <th>S</th>\n",
       "      <th>S%</th>\n",
       "    </tr>\n",
       "  </thead>\n",
       "  <tbody>\n",
       "    <tr>\n",
       "      <th>0</th>\n",
       "      <td>2018</td>\n",
       "      <td>Justin Abdelkader</td>\n",
       "      <td>DET</td>\n",
       "      <td>110</td>\n",
       "      <td>12</td>\n",
       "    </tr>\n",
       "    <tr>\n",
       "      <th>1</th>\n",
       "      <td>2018</td>\n",
       "      <td>Pontus Aberg</td>\n",
       "      <td>TOT</td>\n",
       "      <td>70</td>\n",
       "      <td>6</td>\n",
       "    </tr>\n",
       "    <tr>\n",
       "      <th>2</th>\n",
       "      <td>2018</td>\n",
       "      <td>Noel Acciari</td>\n",
       "      <td>BOS</td>\n",
       "      <td>66</td>\n",
       "      <td>15</td>\n",
       "    </tr>\n",
       "    <tr>\n",
       "      <th>3</th>\n",
       "      <td>2018</td>\n",
       "      <td>Kenny Agostino</td>\n",
       "      <td>BOS</td>\n",
       "      <td>11</td>\n",
       "      <td>-</td>\n",
       "    </tr>\n",
       "    <tr>\n",
       "      <th>4</th>\n",
       "      <td>2018</td>\n",
       "      <td>Sebastian Aho</td>\n",
       "      <td>CAR</td>\n",
       "      <td>200</td>\n",
       "      <td>15</td>\n",
       "    </tr>\n",
       "    <tr>\n",
       "      <th>...</th>\n",
       "      <td>...</td>\n",
       "      <td>...</td>\n",
       "      <td>...</td>\n",
       "      <td>...</td>\n",
       "      <td>...</td>\n",
       "    </tr>\n",
       "    <tr>\n",
       "      <th>37820</th>\n",
       "      <td>1940</td>\n",
       "      <td>Gordie Drillon*</td>\n",
       "      <td>TOR</td>\n",
       "      <td>NaN</td>\n",
       "      <td>NaN</td>\n",
       "    </tr>\n",
       "    <tr>\n",
       "      <th>37821</th>\n",
       "      <td>1940</td>\n",
       "      <td>Bill Cowley*</td>\n",
       "      <td>BOS</td>\n",
       "      <td>NaN</td>\n",
       "      <td>NaN</td>\n",
       "    </tr>\n",
       "    <tr>\n",
       "      <th>37822</th>\n",
       "      <td>1940</td>\n",
       "      <td>Woody Dumart*</td>\n",
       "      <td>BOS</td>\n",
       "      <td>NaN</td>\n",
       "      <td>NaN</td>\n",
       "    </tr>\n",
       "    <tr>\n",
       "      <th>37823</th>\n",
       "      <td>1940</td>\n",
       "      <td>Bobby Bauer*</td>\n",
       "      <td>BOS</td>\n",
       "      <td>NaN</td>\n",
       "      <td>NaN</td>\n",
       "    </tr>\n",
       "    <tr>\n",
       "      <th>37824</th>\n",
       "      <td>1940</td>\n",
       "      <td>Milt Schmidt*</td>\n",
       "      <td>BOS</td>\n",
       "      <td>NaN</td>\n",
       "      <td>NaN</td>\n",
       "    </tr>\n",
       "  </tbody>\n",
       "</table>\n",
       "<p>37825 rows × 5 columns</p>\n",
       "</div>"
      ],
      "text/plain": [
       "       Season             Player     Tm      S     S%\n",
       "0        2018  Justin Abdelkader   DET    110     12 \n",
       "1        2018       Pontus Aberg   TOT     70      6 \n",
       "2        2018       Noel Acciari   BOS     66     15 \n",
       "3        2018     Kenny Agostino   BOS     11    -   \n",
       "4        2018      Sebastian Aho   CAR    200     15 \n",
       "...       ...                ...    ...    ...    ...\n",
       "37820    1940    Gordie Drillon*   TOR     NaN    NaN\n",
       "37821    1940       Bill Cowley*   BOS     NaN    NaN\n",
       "37822    1940      Woody Dumart*   BOS     NaN    NaN\n",
       "37823    1940       Bobby Bauer*   BOS     NaN    NaN\n",
       "37824    1940      Milt Schmidt*   BOS     NaN    NaN\n",
       "\n",
       "[37825 rows x 5 columns]"
      ]
     },
     "execution_count": 57,
     "metadata": {},
     "output_type": "execute_result"
    }
   ],
   "source": [
    "df_nhl[['Season', 'Player', 'Tm', 'S', 'S%']]"
   ]
  },
  {
   "cell_type": "code",
   "execution_count": 9,
   "metadata": {},
   "outputs": [
    {
     "name": "stdout",
     "output_type": "stream",
     "text": [
      "<class 'pandas.core.frame.DataFrame'>\n",
      "RangeIndex: 37825 entries, 0 to 37824\n",
      "Data columns (total 29 columns):\n",
      "Unnamed: 0    37825 non-null object\n",
      "Season        37825 non-null int64\n",
      "Player        37825 non-null object\n",
      "Age           37823 non-null float64\n",
      "Tm            37825 non-null object\n",
      "Pos           37825 non-null object\n",
      "GP            37825 non-null int64\n",
      "G             37825 non-null object\n",
      "GPG           37825 non-null float64\n",
      "A             37825 non-null object\n",
      "PTS           37825 non-null object\n",
      "+/-           33913 non-null object\n",
      "PIM           37824 non-null object\n",
      "EVG           34537 non-null object\n",
      "PPG           34537 non-null object\n",
      "SHG           34537 non-null object\n",
      "GWG           34537 non-null object\n",
      "EVA           33913 non-null object\n",
      "PPA           33913 non-null object\n",
      "SHA           33913 non-null object\n",
      "S             33911 non-null object\n",
      "S%            32723 non-null object\n",
      "TOI           16625 non-null object\n",
      "ATOI          16625 non-null object\n",
      "BLK           9674 non-null float64\n",
      "HIT           9684 non-null float64\n",
      "FOwin         9674 non-null float64\n",
      "FOloss        9674 non-null float64\n",
      "FO%           6149 non-null float64\n",
      "dtypes: float64(7), int64(2), object(20)\n",
      "memory usage: 8.4+ MB\n"
     ]
    }
   ],
   "source": [
    "df.info()"
   ]
  },
  {
   "cell_type": "code",
   "execution_count": 11,
   "metadata": {},
   "outputs": [
    {
     "data": {
      "text/plain": [
       "array([' DET ', ' TOT ', ' BOS ', ' CAR ', ' NYI ', ' MTL ', ' LAK ',\n",
       "       ' CBJ ', ' NYR ', ' CGY ', ' COL ', ' CHI ', ' BUF ', ' VAN ',\n",
       "       ' WPG ', ' NSH ', ' PIT ', ' EDM ', ' WSH ', ' FLA ', ' STL ',\n",
       "       ' ANA ', ' VEG ', ' MIN ', ' DAL ', ' OTT ', ' SJS ', ' TOR ',\n",
       "       ' TBL ', ' NJD ', ' ARI ', ' PHI ', ' PHX ', ' ATL ', ' MDA ',\n",
       "       ' HAR ', ' WIN ', ' QUE ', ' MNS ', ' CBH ', ' CLR ', ' ATF ',\n",
       "       ' CLE ', ' CGS ', ' KCS ', ' OAK ', ' BRO ', ' NYA '], dtype=object)"
      ]
     },
     "execution_count": 11,
     "metadata": {},
     "output_type": "execute_result"
    }
   ],
   "source": [
    "df_nhl.Tm.unique()"
   ]
  },
  {
   "cell_type": "code",
   "execution_count": 38,
   "metadata": {},
   "outputs": [],
   "source": [
    "df_nhl_before_pad_change = df_nhl.loc[(df_nhl.Season == 2001) | (df_nhl.Season == 2002)]\n",
    "df_nhl_before_pad_change = df_nhl.loc[(df_nhl.Season == 2003) | (df_nhl.Season == 2005)]"
   ]
  },
  {
   "cell_type": "code",
   "execution_count": 45,
   "metadata": {},
   "outputs": [
    {
     "data": {
      "text/html": [
       "<div>\n",
       "<style scoped>\n",
       "    .dataframe tbody tr th:only-of-type {\n",
       "        vertical-align: middle;\n",
       "    }\n",
       "\n",
       "    .dataframe tbody tr th {\n",
       "        vertical-align: top;\n",
       "    }\n",
       "\n",
       "    .dataframe thead th {\n",
       "        text-align: right;\n",
       "    }\n",
       "</style>\n",
       "<table border=\"1\" class=\"dataframe\">\n",
       "  <thead>\n",
       "    <tr style=\"text-align: right;\">\n",
       "      <th></th>\n",
       "      <th>Season</th>\n",
       "      <th>Player</th>\n",
       "      <th>Age</th>\n",
       "      <th>Tm</th>\n",
       "      <th>Pos</th>\n",
       "      <th>GP</th>\n",
       "      <th>G</th>\n",
       "      <th>GPG</th>\n",
       "      <th>A</th>\n",
       "      <th>PTS</th>\n",
       "      <th>...</th>\n",
       "      <th>SHA</th>\n",
       "      <th>S</th>\n",
       "      <th>S%</th>\n",
       "      <th>TOI</th>\n",
       "      <th>ATOI</th>\n",
       "      <th>BLK</th>\n",
       "      <th>HIT</th>\n",
       "      <th>FOwin</th>\n",
       "      <th>FOloss</th>\n",
       "      <th>FO%</th>\n",
       "    </tr>\n",
       "  </thead>\n",
       "  <tbody>\n",
       "    <tr>\n",
       "      <th>451</th>\n",
       "      <td>2018</td>\n",
       "      <td>Nikita Kucherov</td>\n",
       "      <td>24.0</td>\n",
       "      <td>TBL</td>\n",
       "      <td>RW</td>\n",
       "      <td>80</td>\n",
       "      <td>39</td>\n",
       "      <td>0.4875</td>\n",
       "      <td>61</td>\n",
       "      <td>100</td>\n",
       "      <td>...</td>\n",
       "      <td>-</td>\n",
       "      <td>279</td>\n",
       "      <td>14</td>\n",
       "      <td>1,586</td>\n",
       "      <td>19:49</td>\n",
       "      <td>15.0</td>\n",
       "      <td>31.0</td>\n",
       "      <td>3.0</td>\n",
       "      <td>2.0</td>\n",
       "      <td>60.0</td>\n",
       "    </tr>\n",
       "    <tr>\n",
       "      <th>1316</th>\n",
       "      <td>2017</td>\n",
       "      <td>Nikita Kucherov</td>\n",
       "      <td>23.0</td>\n",
       "      <td>TBL</td>\n",
       "      <td>RW</td>\n",
       "      <td>74</td>\n",
       "      <td>40</td>\n",
       "      <td>0.5405</td>\n",
       "      <td>45</td>\n",
       "      <td>85</td>\n",
       "      <td>...</td>\n",
       "      <td>-</td>\n",
       "      <td>246</td>\n",
       "      <td>16</td>\n",
       "      <td>1,438</td>\n",
       "      <td>19:26</td>\n",
       "      <td>20.0</td>\n",
       "      <td>30.0</td>\n",
       "      <td>0.0</td>\n",
       "      <td>0.0</td>\n",
       "      <td>NaN</td>\n",
       "    </tr>\n",
       "    <tr>\n",
       "      <th>1799</th>\n",
       "      <td>2016</td>\n",
       "      <td>Nikita Kucherov</td>\n",
       "      <td>22.0</td>\n",
       "      <td>TBL</td>\n",
       "      <td>RW</td>\n",
       "      <td>77</td>\n",
       "      <td>30</td>\n",
       "      <td>0.3896</td>\n",
       "      <td>36</td>\n",
       "      <td>66</td>\n",
       "      <td>...</td>\n",
       "      <td>-</td>\n",
       "      <td>209</td>\n",
       "      <td>14</td>\n",
       "      <td>1,402</td>\n",
       "      <td>18:13</td>\n",
       "      <td>28.0</td>\n",
       "      <td>61.0</td>\n",
       "      <td>0.0</td>\n",
       "      <td>1.0</td>\n",
       "      <td>0.0</td>\n",
       "    </tr>\n",
       "    <tr>\n",
       "      <th>2702</th>\n",
       "      <td>2015</td>\n",
       "      <td>Nikita Kucherov</td>\n",
       "      <td>21.0</td>\n",
       "      <td>TBL</td>\n",
       "      <td>RW</td>\n",
       "      <td>82</td>\n",
       "      <td>29</td>\n",
       "      <td>0.3537</td>\n",
       "      <td>36</td>\n",
       "      <td>65</td>\n",
       "      <td>...</td>\n",
       "      <td>-</td>\n",
       "      <td>191</td>\n",
       "      <td>15</td>\n",
       "      <td>1,226</td>\n",
       "      <td>14:57</td>\n",
       "      <td>28.0</td>\n",
       "      <td>65.0</td>\n",
       "      <td>0.0</td>\n",
       "      <td>2.0</td>\n",
       "      <td>0.0</td>\n",
       "    </tr>\n",
       "    <tr>\n",
       "      <th>3935</th>\n",
       "      <td>2014</td>\n",
       "      <td>Nikita Kucherov</td>\n",
       "      <td>20.0</td>\n",
       "      <td>TBL</td>\n",
       "      <td>RW</td>\n",
       "      <td>52</td>\n",
       "      <td>9</td>\n",
       "      <td>0.1731</td>\n",
       "      <td>9</td>\n",
       "      <td>18</td>\n",
       "      <td>...</td>\n",
       "      <td>-</td>\n",
       "      <td>102</td>\n",
       "      <td>9</td>\n",
       "      <td>682</td>\n",
       "      <td>13:07</td>\n",
       "      <td>19.0</td>\n",
       "      <td>15.0</td>\n",
       "      <td>1.0</td>\n",
       "      <td>0.0</td>\n",
       "      <td>100.0</td>\n",
       "    </tr>\n",
       "  </tbody>\n",
       "</table>\n",
       "<p>5 rows × 28 columns</p>\n",
       "</div>"
      ],
      "text/plain": [
       "      Season           Player   Age     Tm   Pos  GP     G     GPG     A  \\\n",
       "451     2018  Nikita Kucherov  24.0   TBL    RW   80   39   0.4875   61    \n",
       "1316    2017  Nikita Kucherov  23.0   TBL    RW   74   40   0.5405   45    \n",
       "1799    2016  Nikita Kucherov  22.0   TBL    RW   77   30   0.3896   36    \n",
       "2702    2015  Nikita Kucherov  21.0   TBL    RW   82   29   0.3537   36    \n",
       "3935    2014  Nikita Kucherov  20.0   TBL    RW   52    9   0.1731    9    \n",
       "\n",
       "        PTS  ...    SHA      S    S%      TOI   ATOI   BLK   HIT FOwin FOloss  \\\n",
       "451    100   ...   -      279    14    1,586   19:49  15.0  31.0   3.0    2.0   \n",
       "1316    85   ...   -      246    16    1,438   19:26  20.0  30.0   0.0    0.0   \n",
       "1799    66   ...   -      209    14    1,402   18:13  28.0  61.0   0.0    1.0   \n",
       "2702    65   ...   -      191    15    1,226   14:57  28.0  65.0   0.0    2.0   \n",
       "3935    18   ...   -      102     9      682   13:07  19.0  15.0   1.0    0.0   \n",
       "\n",
       "        FO%  \n",
       "451    60.0  \n",
       "1316    NaN  \n",
       "1799    0.0  \n",
       "2702    0.0  \n",
       "3935  100.0  \n",
       "\n",
       "[5 rows x 28 columns]"
      ]
     },
     "execution_count": 45,
     "metadata": {},
     "output_type": "execute_result"
    }
   ],
   "source": [
    "df_nhl.loc[df_nhl.Player == 'Nikita Kucherov']"
   ]
  },
  {
   "cell_type": "markdown",
   "metadata": {},
   "source": [
    "Assumptions here:  The 2004-2005 season was a lockout year and it never actually happened.  Our comparisons are:\n",
    "    \n",
    "    For pads - 2002-03 vs 2003-04 (2003 vs 2004 in DataFrame)\n",
    "    For 2-line - 2003-04 vs 2004-06 (2004 vs 2006 in DataFrame)"
   ]
  },
  {
   "cell_type": "code",
   "execution_count": 132,
   "metadata": {},
   "outputs": [],
   "source": [
    "df_nhl_2003 = df_nhl.loc[df_nhl.Season == 2003]\n",
    "df_nhl_2004 = df_nhl.loc[df_nhl.Season == 2004]\n",
    "df_nhl_2006 = df_nhl.loc[df_nhl.Season == 2006]"
   ]
  },
  {
   "cell_type": "code",
   "execution_count": 112,
   "metadata": {},
   "outputs": [],
   "source": [
    "df_nhl_2006_working = df_nhl_2006"
   ]
  },
  {
   "cell_type": "code",
   "execution_count": 113,
   "metadata": {},
   "outputs": [
    {
     "data": {
      "text/plain": [
       "array([' 29 ', ' 54 ', ' 52 ', ' 43 ', ' 50 ', ' 39 ', ' 45 ', ' 28 ',\n",
       "       ' 56 ', ' 23 ', ' 40 ', ' 19 ', ' 48 ', ' 38 ', ' 32 ', ' 34 ',\n",
       "       ' 31 ', ' 33 ', ' 16 ', ' 25 ', ' 47 ', ' 27 ', ' 21 ', ' 22 ',\n",
       "       ' 35 ', ' 18 ', ' 13 ', ' 26 ', ' 30 ', ' 9 ', ' 17 ', ' 36 ',\n",
       "       ' 24 ', ' 20 ', ' 12 ', ' 15 ', ' 14 ', ' 10 ', ' 11 ', ' 6 ',\n",
       "       ' 5 ', ' 2 ', ' 8 ', ' 7 ', ' 4 ', ' 3 ', ' 1 ', ' -   '],\n",
       "      dtype=object)"
      ]
     },
     "execution_count": 113,
     "metadata": {},
     "output_type": "execute_result"
    }
   ],
   "source": [
    "df_nhl_2006_working.G.unique()"
   ]
  },
  {
   "cell_type": "code",
   "execution_count": 103,
   "metadata": {},
   "outputs": [],
   "source": [
    "df_nhl_2006_working = df_nhl_2006_working.loc[df_nhl_2006_working.G == ' -   '].replace(' -   ', ' 0 ')"
   ]
  },
  {
   "cell_type": "code",
   "execution_count": 114,
   "metadata": {
    "scrolled": true
   },
   "outputs": [],
   "source": [
    "df_nhl_2006_working.G.replace(' -   ',' 0  ',inplace=True)"
   ]
  },
  {
   "cell_type": "code",
   "execution_count": 115,
   "metadata": {},
   "outputs": [
    {
     "data": {
      "text/plain": [
       "array([' 29 ', ' 54 ', ' 52 ', ' 43 ', ' 50 ', ' 39 ', ' 45 ', ' 28 ',\n",
       "       ' 56 ', ' 23 ', ' 40 ', ' 19 ', ' 48 ', ' 38 ', ' 32 ', ' 34 ',\n",
       "       ' 31 ', ' 33 ', ' 16 ', ' 25 ', ' 47 ', ' 27 ', ' 21 ', ' 22 ',\n",
       "       ' 35 ', ' 18 ', ' 13 ', ' 26 ', ' 30 ', ' 9 ', ' 17 ', ' 36 ',\n",
       "       ' 24 ', ' 20 ', ' 12 ', ' 15 ', ' 14 ', ' 10 ', ' 11 ', ' 6 ',\n",
       "       ' 5 ', ' 2 ', ' 8 ', ' 7 ', ' 4 ', ' 3 ', ' 1 ', ' 0  '],\n",
       "      dtype=object)"
      ]
     },
     "execution_count": 115,
     "metadata": {},
     "output_type": "execute_result"
    }
   ],
   "source": [
    "df_nhl_2006_working.G.unique()"
   ]
  },
  {
   "cell_type": "code",
   "execution_count": 116,
   "metadata": {},
   "outputs": [
    {
     "name": "stdout",
     "output_type": "stream",
     "text": [
      "<class 'pandas.core.frame.DataFrame'>\n",
      "Int64Index: 870 entries, 10542 to 11411\n",
      "Data columns (total 28 columns):\n",
      "Season    870 non-null int64\n",
      "Player    870 non-null object\n",
      "Age       870 non-null float64\n",
      "Tm        870 non-null object\n",
      "Pos       870 non-null object\n",
      "GP        870 non-null int64\n",
      "G         870 non-null object\n",
      "GPG       870 non-null float64\n",
      "A         870 non-null object\n",
      "PTS       870 non-null object\n",
      "+/-       870 non-null object\n",
      "PIM       870 non-null object\n",
      "EVG       870 non-null object\n",
      "PPG       870 non-null object\n",
      "SHG       870 non-null object\n",
      "GWG       870 non-null object\n",
      "EVA       870 non-null object\n",
      "PPA       870 non-null object\n",
      "SHA       870 non-null object\n",
      "S         870 non-null object\n",
      "S%        837 non-null object\n",
      "TOI       870 non-null object\n",
      "ATOI      870 non-null object\n",
      "BLK       0 non-null float64\n",
      "HIT       0 non-null float64\n",
      "FOwin     0 non-null float64\n",
      "FOloss    0 non-null float64\n",
      "FO%       0 non-null float64\n",
      "dtypes: float64(7), int64(2), object(19)\n",
      "memory usage: 197.1+ KB\n"
     ]
    }
   ],
   "source": [
    "df_nhl_2006_working.info()"
   ]
  },
  {
   "cell_type": "code",
   "execution_count": 90,
   "metadata": {},
   "outputs": [
    {
     "ename": "TypeError",
     "evalue": "map() missing 1 required positional argument: 'arg'",
     "output_type": "error",
     "traceback": [
      "\u001b[0;31m---------------------------------------------------------------------------\u001b[0m",
      "\u001b[0;31mTypeError\u001b[0m                                 Traceback (most recent call last)",
      "\u001b[0;32m<ipython-input-90-ef88d6274dbc>\u001b[0m in \u001b[0;36m<module>\u001b[0;34m\u001b[0m\n\u001b[0;32m----> 1\u001b[0;31m \u001b[0mdf_nhl_2006_working\u001b[0m\u001b[0;34m.\u001b[0m\u001b[0mG\u001b[0m\u001b[0;34m.\u001b[0m\u001b[0mmap\u001b[0m\u001b[0;34m(\u001b[0m\u001b[0;34m)\u001b[0m\u001b[0;34m\u001b[0m\u001b[0;34m\u001b[0m\u001b[0m\n\u001b[0m",
      "\u001b[0;31mTypeError\u001b[0m: map() missing 1 required positional argument: 'arg'"
     ]
    }
   ],
   "source": [
    "df_nhl_2006_working.G.map()"
   ]
  },
  {
   "cell_type": "code",
   "execution_count": 119,
   "metadata": {},
   "outputs": [
    {
     "name": "stderr",
     "output_type": "stream",
     "text": [
      "//anaconda3/lib/python3.7/site-packages/pandas/core/generic.py:5208: SettingWithCopyWarning: \n",
      "A value is trying to be set on a copy of a slice from a DataFrame.\n",
      "Try using .loc[row_indexer,col_indexer] = value instead\n",
      "\n",
      "See the caveats in the documentation: http://pandas.pydata.org/pandas-docs/stable/user_guide/indexing.html#returning-a-view-versus-a-copy\n",
      "  self[name] = value\n"
     ]
    }
   ],
   "source": [
    "df_nhl_2006_working.G = df_nhl_2006_working.G.astype(int)"
   ]
  },
  {
   "cell_type": "code",
   "execution_count": 120,
   "metadata": {},
   "outputs": [
    {
     "name": "stdout",
     "output_type": "stream",
     "text": [
      "<class 'pandas.core.frame.DataFrame'>\n",
      "Int64Index: 870 entries, 10542 to 11411\n",
      "Data columns (total 28 columns):\n",
      "Season    870 non-null int64\n",
      "Player    870 non-null object\n",
      "Age       870 non-null float64\n",
      "Tm        870 non-null object\n",
      "Pos       870 non-null object\n",
      "GP        870 non-null int64\n",
      "G         870 non-null int64\n",
      "GPG       870 non-null float64\n",
      "A         870 non-null object\n",
      "PTS       870 non-null object\n",
      "+/-       870 non-null object\n",
      "PIM       870 non-null object\n",
      "EVG       870 non-null object\n",
      "PPG       870 non-null object\n",
      "SHG       870 non-null object\n",
      "GWG       870 non-null object\n",
      "EVA       870 non-null object\n",
      "PPA       870 non-null object\n",
      "SHA       870 non-null object\n",
      "S         870 non-null object\n",
      "S%        837 non-null object\n",
      "TOI       870 non-null object\n",
      "ATOI      870 non-null object\n",
      "BLK       0 non-null float64\n",
      "HIT       0 non-null float64\n",
      "FOwin     0 non-null float64\n",
      "FOloss    0 non-null float64\n",
      "FO%       0 non-null float64\n",
      "dtypes: float64(7), int64(3), object(18)\n",
      "memory usage: 197.1+ KB\n"
     ]
    }
   ],
   "source": [
    "df_nhl_2006_working.info()"
   ]
  },
  {
   "cell_type": "code",
   "execution_count": 122,
   "metadata": {},
   "outputs": [],
   "source": [
    "goals_06 = df_nhl_2006_working.G.sum()"
   ]
  },
  {
   "cell_type": "code",
   "execution_count": 137,
   "metadata": {},
   "outputs": [],
   "source": [
    "df_nhl_2004_working = df_nhl_2004\n",
    "df_nhl_2004_working.G.replace(' -   ',' 0  ',inplace=True)\n",
    "goals_04 = df_nhl_2004_working.loc[:,'G'].astype(int)"
   ]
  },
  {
   "cell_type": "code",
   "execution_count": 138,
   "metadata": {},
   "outputs": [],
   "source": [
    "df_nhl_2003_working = df_nhl_2003\n",
    "df_nhl_2003_working.G.replace(' -   ',' 0  ',inplace=True)\n",
    "goals_03 = df_nhl_2003_working.loc[:,'G'].astype(int)"
   ]
  },
  {
   "cell_type": "code",
   "execution_count": 139,
   "metadata": {},
   "outputs": [],
   "source": [
    "df_nhl_2002 = df_nhl.loc[df_nhl.Season == 2002]\n",
    "df_nhl_2002_working = df_nhl_2002\n",
    "df_nhl_2002_working.G.replace(' -   ',' 0  ',inplace=True)\n",
    "goals_02 = df_nhl_2002_working.loc[:,'G'].astype(int)"
   ]
  },
  {
   "cell_type": "code",
   "execution_count": 140,
   "metadata": {},
   "outputs": [],
   "source": [
    "df_nhl_2001 = df_nhl.loc[df_nhl.Season == 2001]\n",
    "df_nhl_2001_working = df_nhl_2001\n",
    "df_nhl_2001_working.G.replace(' -   ',' 0  ',inplace=True)\n",
    "goals_01 = df_nhl_2001_working.loc[:,'G'].astype(int)"
   ]
  },
  {
   "cell_type": "code",
   "execution_count": 141,
   "metadata": {},
   "outputs": [],
   "source": [
    "df_nhl_2000 = df_nhl.loc[df_nhl.Season == 2000]\n",
    "df_nhl_2000_working = df_nhl_2000\n",
    "df_nhl_2000_working.G.replace(' -   ',' 0  ',inplace=True)\n",
    "goals_00 = df_nhl_2000_working.loc[:,'G'].astype(int)"
   ]
  },
  {
   "cell_type": "code",
   "execution_count": 142,
   "metadata": {},
   "outputs": [
    {
     "data": {
      "text/plain": [
       "7442"
      ]
     },
     "execution_count": 142,
     "metadata": {},
     "output_type": "execute_result"
    }
   ],
   "source": [
    "goals_06"
   ]
  },
  {
   "cell_type": "code",
   "execution_count": 151,
   "metadata": {},
   "outputs": [
    {
     "data": {
      "text/plain": [
       "6317"
      ]
     },
     "execution_count": 151,
     "metadata": {},
     "output_type": "execute_result"
    }
   ],
   "source": [
    "goals_04"
   ]
  },
  {
   "cell_type": "code",
   "execution_count": 154,
   "metadata": {},
   "outputs": [],
   "source": [
    "goals_03 = goals_03.sum()"
   ]
  },
  {
   "cell_type": "code",
   "execution_count": 155,
   "metadata": {},
   "outputs": [],
   "source": [
    "goals_02 = goals_02.sum()"
   ]
  },
  {
   "cell_type": "code",
   "execution_count": 156,
   "metadata": {},
   "outputs": [],
   "source": [
    "goals_01 = goals_01.sum()"
   ]
  },
  {
   "cell_type": "code",
   "execution_count": 157,
   "metadata": {},
   "outputs": [],
   "source": [
    "goals_00 = goals_00.sum()"
   ]
  },
  {
   "cell_type": "code",
   "execution_count": 168,
   "metadata": {},
   "outputs": [
    {
     "name": "stdout",
     "output_type": "stream",
     "text": [
      "15812     0\n",
      "15813     0\n",
      "15814     0\n",
      "15815     0\n",
      "15816     0\n",
      "         ..\n",
      "16621    41\n",
      "16622    30\n",
      "16623    39\n",
      "16624    47\n",
      "16625    44\n",
      "Name: G, Length: 814, dtype: int64\n"
     ]
    }
   ],
   "source": [
    "df_nhl_1999 = df_nhl.loc[df_nhl.Season == 1999]\n",
    "df_nhl_1999_working = df_nhl_1999\n",
    "df_nhl_1999_working.G.replace(' -   ',' 0  ',inplace=True)\n",
    "goals_99 = df_nhl_1999_working.loc[:,'G'].astype(int)\n",
    "print(goals_99)\n",
    "goals_99 = goals_99.sum()"
   ]
  },
  {
   "cell_type": "code",
   "execution_count": 169,
   "metadata": {},
   "outputs": [
    {
     "name": "stdout",
     "output_type": "stream",
     "text": [
      "15812     0\n",
      "15813     0\n",
      "15814     0\n",
      "15815     0\n",
      "15816     0\n",
      "         ..\n",
      "16621    41\n",
      "16622    30\n",
      "16623    39\n",
      "16624    47\n",
      "16625    44\n",
      "Name: G, Length: 814, dtype: int64\n"
     ]
    }
   ],
   "source": [
    "df_nhl_1998 = df_nhl.loc[df_nhl.Season == 1998]\n",
    "df_nhl_1998_working = df_nhl_1998\n",
    "df_nhl_1998_working.G.replace(' -   ',' 0  ',inplace=True)\n",
    "goals_98 = df_nhl_1999_working.loc[:,'G'].astype(int)\n",
    "print(goals_98)\n",
    "goals_98 = goals_98.sum()"
   ]
  },
  {
   "cell_type": "code",
   "execution_count": 164,
   "metadata": {},
   "outputs": [],
   "source": [
    "df_nhl_1997 = df_nhl.loc[df_nhl.Season == 1997]\n",
    "df_nhl_1997_working = df_nhl_1997\n",
    "df_nhl_1997_working.G.replace(' -   ',' 0  ',inplace=True)\n",
    "goals_97 = df_nhl_1997_working.loc[:,'G'].astype(int)\n",
    "goals_97 = goals_97.sum()"
   ]
  },
  {
   "cell_type": "code",
   "execution_count": 181,
   "metadata": {},
   "outputs": [
    {
     "data": {
      "text/plain": [
       "(6216, 5624, 5829, 6305, 6781, 6441, 6530, 6317, 7442, 7082)"
      ]
     },
     "execution_count": 181,
     "metadata": {},
     "output_type": "execute_result"
    }
   ],
   "source": [
    "goals_97, goals_98, goals_99, goals_00, goals_01, goals_02, goals_03, goals_04, goals_06, goals_07"
   ]
  },
  {
   "cell_type": "code",
   "execution_count": 171,
   "metadata": {},
   "outputs": [
    {
     "data": {
      "text/html": [
       "<div>\n",
       "<style scoped>\n",
       "    .dataframe tbody tr th:only-of-type {\n",
       "        vertical-align: middle;\n",
       "    }\n",
       "\n",
       "    .dataframe tbody tr th {\n",
       "        vertical-align: top;\n",
       "    }\n",
       "\n",
       "    .dataframe thead th {\n",
       "        text-align: right;\n",
       "    }\n",
       "</style>\n",
       "<table border=\"1\" class=\"dataframe\">\n",
       "  <thead>\n",
       "    <tr style=\"text-align: right;\">\n",
       "      <th></th>\n",
       "      <th>Season</th>\n",
       "      <th>Player</th>\n",
       "      <th>Age</th>\n",
       "      <th>Tm</th>\n",
       "      <th>Pos</th>\n",
       "      <th>GP</th>\n",
       "      <th>G</th>\n",
       "      <th>GPG</th>\n",
       "      <th>A</th>\n",
       "      <th>PTS</th>\n",
       "      <th>...</th>\n",
       "      <th>SHA</th>\n",
       "      <th>S</th>\n",
       "      <th>S%</th>\n",
       "      <th>TOI</th>\n",
       "      <th>ATOI</th>\n",
       "      <th>BLK</th>\n",
       "      <th>HIT</th>\n",
       "      <th>FOwin</th>\n",
       "      <th>FOloss</th>\n",
       "      <th>FO%</th>\n",
       "    </tr>\n",
       "  </thead>\n",
       "  <tbody>\n",
       "    <tr>\n",
       "      <th>15812</th>\n",
       "      <td>1999</td>\n",
       "      <td>Rob Zettler</td>\n",
       "      <td>30.0</td>\n",
       "      <td>NSH</td>\n",
       "      <td>D</td>\n",
       "      <td>2</td>\n",
       "      <td>0</td>\n",
       "      <td>0.0</td>\n",
       "      <td>-</td>\n",
       "      <td>-</td>\n",
       "      <td>...</td>\n",
       "      <td>-</td>\n",
       "      <td>-</td>\n",
       "      <td>NaN</td>\n",
       "      <td>33</td>\n",
       "      <td>16:16</td>\n",
       "      <td>NaN</td>\n",
       "      <td>NaN</td>\n",
       "      <td>NaN</td>\n",
       "      <td>NaN</td>\n",
       "      <td>NaN</td>\n",
       "    </tr>\n",
       "    <tr>\n",
       "      <th>15813</th>\n",
       "      <td>1999</td>\n",
       "      <td>Jason Zent</td>\n",
       "      <td>27.0</td>\n",
       "      <td>PHI</td>\n",
       "      <td>LW</td>\n",
       "      <td>2</td>\n",
       "      <td>0</td>\n",
       "      <td>0.0</td>\n",
       "      <td>-</td>\n",
       "      <td>-</td>\n",
       "      <td>...</td>\n",
       "      <td>-</td>\n",
       "      <td>1</td>\n",
       "      <td>-</td>\n",
       "      <td>6</td>\n",
       "      <td>2:58</td>\n",
       "      <td>NaN</td>\n",
       "      <td>NaN</td>\n",
       "      <td>NaN</td>\n",
       "      <td>NaN</td>\n",
       "      <td>NaN</td>\n",
       "    </tr>\n",
       "    <tr>\n",
       "      <th>15814</th>\n",
       "      <td>1999</td>\n",
       "      <td>Trent Yawney</td>\n",
       "      <td>33.0</td>\n",
       "      <td>CHI</td>\n",
       "      <td>D</td>\n",
       "      <td>20</td>\n",
       "      <td>0</td>\n",
       "      <td>0.0</td>\n",
       "      <td>-</td>\n",
       "      <td>-</td>\n",
       "      <td>...</td>\n",
       "      <td>-</td>\n",
       "      <td>11</td>\n",
       "      <td>-</td>\n",
       "      <td>269</td>\n",
       "      <td>13:28</td>\n",
       "      <td>NaN</td>\n",
       "      <td>NaN</td>\n",
       "      <td>NaN</td>\n",
       "      <td>NaN</td>\n",
       "      <td>NaN</td>\n",
       "    </tr>\n",
       "    <tr>\n",
       "      <th>15815</th>\n",
       "      <td>1999</td>\n",
       "      <td>Tyler Wright</td>\n",
       "      <td>25.0</td>\n",
       "      <td>PIT</td>\n",
       "      <td>C</td>\n",
       "      <td>61</td>\n",
       "      <td>0</td>\n",
       "      <td>0.0</td>\n",
       "      <td>-</td>\n",
       "      <td>-</td>\n",
       "      <td>...</td>\n",
       "      <td>-</td>\n",
       "      <td>16</td>\n",
       "      <td>-</td>\n",
       "      <td>230</td>\n",
       "      <td>3:46</td>\n",
       "      <td>NaN</td>\n",
       "      <td>NaN</td>\n",
       "      <td>NaN</td>\n",
       "      <td>NaN</td>\n",
       "      <td>NaN</td>\n",
       "    </tr>\n",
       "    <tr>\n",
       "      <th>15816</th>\n",
       "      <td>1999</td>\n",
       "      <td>Jamie Wright</td>\n",
       "      <td>22.0</td>\n",
       "      <td>DAL</td>\n",
       "      <td>LW</td>\n",
       "      <td>11</td>\n",
       "      <td>0</td>\n",
       "      <td>0.0</td>\n",
       "      <td>-</td>\n",
       "      <td>-</td>\n",
       "      <td>...</td>\n",
       "      <td>-</td>\n",
       "      <td>10</td>\n",
       "      <td>-</td>\n",
       "      <td>84</td>\n",
       "      <td>7:37</td>\n",
       "      <td>NaN</td>\n",
       "      <td>NaN</td>\n",
       "      <td>NaN</td>\n",
       "      <td>NaN</td>\n",
       "      <td>NaN</td>\n",
       "    </tr>\n",
       "  </tbody>\n",
       "</table>\n",
       "<p>5 rows × 28 columns</p>\n",
       "</div>"
      ],
      "text/plain": [
       "       Season        Player   Age     Tm   Pos  GP     G  GPG      A    PTS  \\\n",
       "15812    1999   Rob Zettler  30.0   NSH     D    2   0    0.0   -      -      \n",
       "15813    1999    Jason Zent  27.0   PHI    LW    2   0    0.0   -      -      \n",
       "15814    1999  Trent Yawney  33.0   CHI     D   20   0    0.0   -      -      \n",
       "15815    1999  Tyler Wright  25.0   PIT     C   61   0    0.0   -      -      \n",
       "15816    1999  Jamie Wright  22.0   DAL    LW   11   0    0.0   -      -      \n",
       "\n",
       "       ...    SHA      S     S%    TOI   ATOI BLK HIT FOwin FOloss FO%  \n",
       "15812  ...   -      -       NaN    33   16:16 NaN NaN   NaN    NaN NaN  \n",
       "15813  ...   -        1    -        6    2:58 NaN NaN   NaN    NaN NaN  \n",
       "15814  ...   -       11    -      269   13:28 NaN NaN   NaN    NaN NaN  \n",
       "15815  ...   -       16    -      230    3:46 NaN NaN   NaN    NaN NaN  \n",
       "15816  ...   -       10    -       84    7:37 NaN NaN   NaN    NaN NaN  \n",
       "\n",
       "[5 rows x 28 columns]"
      ]
     },
     "execution_count": 171,
     "metadata": {},
     "output_type": "execute_result"
    }
   ],
   "source": [
    "df_nhl_1999_working.head()"
   ]
  },
  {
   "cell_type": "code",
   "execution_count": 180,
   "metadata": {},
   "outputs": [],
   "source": [
    "df_nhl_2007 = df_nhl.loc[df_nhl.Season == 2007]\n",
    "df_nhl_2007_working = df_nhl_2007\n",
    "df_nhl_2007_working.G.replace(' -   ',' 0  ',inplace=True)\n",
    "goals_07 = df_nhl_2007_working.G.astype(int).sum()"
   ]
  },
  {
   "cell_type": "code",
   "execution_count": 182,
   "metadata": {},
   "outputs": [
    {
     "data": {
      "text/plain": [
       "(6781, 6441, 6530, 6317, 7442, 7082)"
      ]
     },
     "execution_count": 182,
     "metadata": {},
     "output_type": "execute_result"
    }
   ],
   "source": [
    "goals_01, goals_02, goals_03, goals_04, goals_06, goals_07"
   ]
  },
  {
   "cell_type": "code",
   "execution_count": 195,
   "metadata": {},
   "outputs": [
    {
     "data": {
      "text/plain": [
       "6691"
      ]
     },
     "execution_count": 195,
     "metadata": {},
     "output_type": "execute_result"
    }
   ],
   "source": [
    "df_nhl_2008 = df_nhl.loc[df_nhl.Season == 2008]\n",
    "df_nhl_2008_working = df_nhl_2008\n",
    "df_nhl_2008_working.G.replace(' -   ',' 0  ',inplace=True)\n",
    "goals_08 = df_nhl_2008_working.G.astype(int).sum()\n",
    "goals_08"
   ]
  },
  {
   "cell_type": "code",
   "execution_count": 196,
   "metadata": {},
   "outputs": [
    {
     "data": {
      "text/plain": [
       "7006"
      ]
     },
     "execution_count": 196,
     "metadata": {},
     "output_type": "execute_result"
    }
   ],
   "source": [
    "df_nhl_2009 = df_nhl.loc[df_nhl.Season == 2009]\n",
    "df_nhl_2009_working = df_nhl_2009\n",
    "df_nhl_2009_working.G.replace(' -   ',' 0  ',inplace=True)\n",
    "goals_09 = df_nhl_2009_working.G.astype(int).sum()\n",
    "goals_09"
   ]
  },
  {
   "cell_type": "code",
   "execution_count": 197,
   "metadata": {},
   "outputs": [
    {
     "data": {
      "text/plain": [
       "6803"
      ]
     },
     "execution_count": 197,
     "metadata": {},
     "output_type": "execute_result"
    }
   ],
   "source": [
    "df_nhl_2010 = df_nhl.loc[df_nhl.Season == 2010]\n",
    "df_nhl_2010_working = df_nhl_2010\n",
    "df_nhl_2010_working.G.replace(' -   ',' 0  ',inplace=True)\n",
    "goals_10 = df_nhl_2010_working.G.astype(int).sum()\n",
    "goals_10"
   ]
  },
  {
   "cell_type": "code",
   "execution_count": 198,
   "metadata": {},
   "outputs": [
    {
     "data": {
      "text/plain": [
       "6721"
      ]
     },
     "execution_count": 198,
     "metadata": {},
     "output_type": "execute_result"
    }
   ],
   "source": [
    "df_nhl_2011 = df_nhl.loc[df_nhl.Season == 2011]\n",
    "df_nhl_2011_working = df_nhl_2011\n",
    "df_nhl_2011_working.G.replace(' -   ',' 0  ',inplace=True)\n",
    "goals_11 = df_nhl_2011_working.G.astype(int).sum()\n",
    "goals_11"
   ]
  },
  {
   "cell_type": "code",
   "execution_count": 200,
   "metadata": {},
   "outputs": [
    {
     "data": {
      "text/plain": [
       "(6216,\n",
       " 5624,\n",
       " 5829,\n",
       " 6305,\n",
       " 6781,\n",
       " 6441,\n",
       " 6530,\n",
       " 6317,\n",
       " 7442,\n",
       " 7082,\n",
       " 6691,\n",
       " 7006,\n",
       " 6803,\n",
       " 6721)"
      ]
     },
     "execution_count": 200,
     "metadata": {},
     "output_type": "execute_result"
    }
   ],
   "source": [
    "goals_97, goals_98, goals_99, goals_00, goals_01, goals_02, goals_03, goals_04, goals_06, goals_07, goals_08, goals_09, goals_10, goals_11"
   ]
  },
  {
   "cell_type": "code",
   "execution_count": 201,
   "metadata": {},
   "outputs": [
    {
     "data": {
      "text/plain": [
       "6700"
      ]
     },
     "execution_count": 201,
     "metadata": {},
     "output_type": "execute_result"
    }
   ],
   "source": [
    "df_nhl_1996 = df_nhl.loc[df_nhl.Season == 1996]\n",
    "df_nhl_1996_working = df_nhl_1996\n",
    "df_nhl_1996_working.G.replace(' -   ',' 0  ',inplace=True)\n",
    "goals_96 = df_nhl_1996_working.G.astype(int).sum()\n",
    "goals_96"
   ]
  },
  {
   "cell_type": "code",
   "execution_count": 202,
   "metadata": {},
   "outputs": [
    {
     "data": {
      "text/plain": [
       "3727"
      ]
     },
     "execution_count": 202,
     "metadata": {},
     "output_type": "execute_result"
    }
   ],
   "source": [
    "df_nhl_1995 = df_nhl.loc[df_nhl.Season == 1995]\n",
    "df_nhl_1995_working = df_nhl_1995\n",
    "df_nhl_1995_working.G.replace(' -   ',' 0  ',inplace=True)\n",
    "goals_95 = df_nhl_1995_working.G.astype(int).sum()\n",
    "goals_95"
   ]
  },
  {
   "cell_type": "code",
   "execution_count": 203,
   "metadata": {},
   "outputs": [
    {
     "data": {
      "text/plain": [
       "7081"
      ]
     },
     "execution_count": 203,
     "metadata": {},
     "output_type": "execute_result"
    }
   ],
   "source": [
    "df_nhl_1994 = df_nhl.loc[df_nhl.Season == 1994]\n",
    "df_nhl_1994_working = df_nhl_1994\n",
    "df_nhl_1994_working.G.replace(' -   ',' 0  ',inplace=True)\n",
    "goals_94 = df_nhl_1994_working.G.astype(int).sum()\n",
    "goals_94"
   ]
  },
  {
   "cell_type": "code",
   "execution_count": 204,
   "metadata": {},
   "outputs": [
    {
     "data": {
      "text/plain": [
       "7311"
      ]
     },
     "execution_count": 204,
     "metadata": {},
     "output_type": "execute_result"
    }
   ],
   "source": [
    "df_nhl_1993 = df_nhl.loc[df_nhl.Season == 1993]\n",
    "df_nhl_1993_working = df_nhl_1993\n",
    "df_nhl_1993_working.G.replace(' -   ',' 0  ',inplace=True)\n",
    "goals_93 = df_nhl_1993_working.G.astype(int).sum()\n",
    "goals_93"
   ]
  },
  {
   "cell_type": "code",
   "execution_count": 206,
   "metadata": {},
   "outputs": [],
   "source": [
    "import numpy as np\n",
    "goals = [goals_93, goals_94, goals_95, goals_96, goals_97, goals_98, goals_99, goals_00, goals_01, goals_02, goals_03, goals_04, goals_06, goals_07, goals_08, goals_09, goals_10, goals_11]"
   ]
  },
  {
   "cell_type": "code",
   "execution_count": 208,
   "metadata": {},
   "outputs": [
    {
     "data": {
      "text/plain": [
       "[82, 82, 82, 82, 82, 82, 82, 82, 82, 82, 82, 82, 82, 82, 82, 82, 82, 82]"
      ]
     },
     "execution_count": 208,
     "metadata": {},
     "output_type": "execute_result"
    }
   ],
   "source": [
    "season = [82] * (len(goals))\n",
    "season"
   ]
  },
  {
   "cell_type": "code",
   "execution_count": 213,
   "metadata": {},
   "outputs": [
    {
     "data": {
      "text/plain": [
       "[84, 84, 48, 82, 82, 82, 82, 82, 82, 82, 82, 82, 82, 82, 82, 82, 82, 82]"
      ]
     },
     "execution_count": 213,
     "metadata": {},
     "output_type": "execute_result"
    }
   ],
   "source": [
    "season[2] = 48\n",
    "season[0] = 84\n",
    "season[1] = 84\n",
    "season"
   ]
  },
  {
   "cell_type": "code",
   "execution_count": 217,
   "metadata": {},
   "outputs": [],
   "source": [
    "teams = [24, 26, 26, 26, 26, 26, 27, 28, 30, 30, 30, 30, 30, 30, 30, 30, 30, 30]"
   ]
  },
  {
   "cell_type": "code",
   "execution_count": 218,
   "metadata": {},
   "outputs": [],
   "source": [
    "avg_gpg = np.array(goals)/(np.array(season)*np.array(teams)*.5)"
   ]
  },
  {
   "cell_type": "code",
   "execution_count": 219,
   "metadata": {},
   "outputs": [
    {
     "data": {
      "text/plain": [
       "array([7.25297619, 6.48443223, 5.97275641, 6.28517824, 5.83114447,\n",
       "       5.27579737, 5.26558266, 5.49216028, 5.51300813, 5.23658537,\n",
       "       5.30894309, 5.13577236, 6.0504065 , 5.75772358, 5.4398374 ,\n",
       "       5.69593496, 5.53089431, 5.46422764])"
      ]
     },
     "execution_count": 219,
     "metadata": {},
     "output_type": "execute_result"
    }
   ],
   "source": [
    "avg_gpg"
   ]
  },
  {
   "cell_type": "code",
   "execution_count": 216,
   "metadata": {},
   "outputs": [
    {
     "data": {
      "text/plain": [
       "7.252976190476191"
      ]
     },
     "execution_count": 216,
     "metadata": {},
     "output_type": "execute_result"
    }
   ],
   "source": [
    "avg_gpg[0]/12\n"
   ]
  },
  {
   "cell_type": "code",
   "execution_count": 223,
   "metadata": {},
   "outputs": [],
   "source": [
    "nhl_dict = {}\n"
   ]
  },
  {
   "cell_type": "code",
   "execution_count": 226,
   "metadata": {},
   "outputs": [],
   "source": [
    "nhl_dict[1993] = avg_gpg[0]\n",
    "nhl_dict[1994] = avg_gpg[1]\n",
    "nhl_dict[1995] = avg_gpg[2]\n",
    "nhl_dict[1996] = avg_gpg[3]\n",
    "nhl_dict[1997] = avg_gpg[4]\n",
    "nhl_dict[1998] = avg_gpg[5]\n",
    "nhl_dict[1999] = avg_gpg[6]\n",
    "nhl_dict[2000] = avg_gpg[7]\n",
    "nhl_dict[2001] = avg_gpg[8]\n",
    "nhl_dict[2002] = avg_gpg[9]\n",
    "nhl_dict[2003] = avg_gpg[10]\n",
    "nhl_dict[2004] = avg_gpg[11]\n",
    "nhl_dict[2006] = avg_gpg[12]\n",
    "nhl_dict[2007] = avg_gpg[13]\n",
    "nhl_dict[2008] = avg_gpg[14]\n",
    "nhl_dict[2009] = avg_gpg[15]\n",
    "nhl_dict[2010] = avg_gpg[16]\n",
    "nhl_dict[2011] = avg_gpg[17]\n"
   ]
  },
  {
   "cell_type": "code",
   "execution_count": 227,
   "metadata": {},
   "outputs": [
    {
     "data": {
      "text/plain": [
       "{1993: 7.252976190476191,\n",
       " 1994: 6.4844322344322345,\n",
       " 1995: 5.972756410256411,\n",
       " 1996: 6.285178236397749,\n",
       " 1997: 5.831144465290807,\n",
       " 1998: 5.2757973733583485,\n",
       " 1999: 5.265582655826559,\n",
       " 2000: 5.4921602787456445,\n",
       " 2001: 5.5130081300813005,\n",
       " 2002: 5.236585365853658,\n",
       " 2003: 5.308943089430894,\n",
       " 2004: 5.135772357723577,\n",
       " 2006: 6.050406504065041,\n",
       " 2007: 5.757723577235772,\n",
       " 2008: 5.439837398373983,\n",
       " 2009: 5.695934959349594,\n",
       " 2010: 5.53089430894309,\n",
       " 2011: 5.464227642276422}"
      ]
     },
     "execution_count": 227,
     "metadata": {},
     "output_type": "execute_result"
    }
   ],
   "source": [
    "nhl_dict"
   ]
  },
  {
   "cell_type": "code",
   "execution_count": 317,
   "metadata": {},
   "outputs": [
    {
     "data": {
      "text/plain": [
       "[5.972756410256411,\n",
       " 6.285178236397749,\n",
       " 5.831144465290807,\n",
       " 5.2757973733583485,\n",
       " 5.265582655826559,\n",
       " 5.4921602787456445,\n",
       " 5.5130081300813005,\n",
       " 5.236585365853658,\n",
       " 5.308943089430894,\n",
       " 5.135772357723577]"
      ]
     },
     "execution_count": 317,
     "metadata": {},
     "output_type": "execute_result"
    }
   ],
   "source": [
    "years = list(range(1995,2005))\n",
    "season_pop_before_2lp_rule = []\n",
    "for year in years:\n",
    "    season_pop_before_2lp_rule.append(nhl_dict[year])\n",
    "    \n",
    "season_pop_before_2lp_rule"
   ]
  },
  {
   "cell_type": "code",
   "execution_count": 279,
   "metadata": {},
   "outputs": [
    {
     "data": {
      "text/plain": [
       "[5.972756410256411,\n",
       " 6.285178236397749,\n",
       " 5.831144465290807,\n",
       " 5.2757973733583485,\n",
       " 5.265582655826559,\n",
       " 5.4921602787456445,\n",
       " 5.5130081300813005,\n",
       " 5.236585365853658,\n",
       " 5.308943089430894,\n",
       " 5.135772357723577]"
      ]
     },
     "execution_count": 279,
     "metadata": {},
     "output_type": "execute_result"
    }
   ],
   "source": [
    "season_pop_before_2lp_rule_test = season_pop_before_2lp_rule[0:]\n",
    "season_pop_before_2lp_rule_test"
   ]
  },
  {
   "cell_type": "code",
   "execution_count": 284,
   "metadata": {},
   "outputs": [],
   "source": [
    "# bootstrapping and finding means\n",
    "\n",
    "import numpy as np\n",
    "\n",
    "sel_season = []\n",
    "bootstrap_means = []\n",
    "\n",
    "for iteration in range(1000):\n",
    "    for samples in range(10):\n",
    "        sel_season.append(np.random.choice(season_pop_before_2lp_rule_test))\n",
    "    bootstrap_means.append(np.average(sel_season))\n",
    "    sel_season = []\n",
    "\n",
    "    "
   ]
  },
  {
   "cell_type": "code",
   "execution_count": 285,
   "metadata": {},
   "outputs": [
    {
     "data": {
      "text/plain": [
       "<matplotlib.axes._subplots.AxesSubplot at 0x1a25495ac8>"
      ]
     },
     "execution_count": 285,
     "metadata": {},
     "output_type": "execute_result"
    },
    {
     "data": {
      "image/png": "[encoded data removed]",
      "text/plain": [
       "<Figure size 432x288 with 1 Axes>"
      ]
     },
     "metadata": {
      "needs_background": "light"
     },
     "output_type": "display_data"
    }
   ],
   "source": [
    "import seaborn as sns\n",
    "%matplotlib inline\n",
    "sns.distplot(bootstrap_means)"
   ]
  },
  {
   "cell_type": "code",
   "execution_count": 286,
   "metadata": {},
   "outputs": [
    {
     "name": "stdout",
     "output_type": "stream",
     "text": [
      "5.536224512492927 5.526736613657345\n",
      "1.0017167271572407\n"
     ]
    }
   ],
   "source": [
    "print(np.average(bootstrap_means), np.median(bootstrap_means))\n",
    "print(np.average(bootstrap_means)/np.median(bootstrap_means))"
   ]
  },
  {
   "cell_type": "code",
   "execution_count": 306,
   "metadata": {},
   "outputs": [],
   "source": [
    "import scipy.stats as stats\n",
    "\n"
   ]
  },
  {
   "cell_type": "code",
   "execution_count": 304,
   "metadata": {},
   "outputs": [],
   "source": [
    "import statsmodels.stats as sm\n"
   ]
  },
  {
   "cell_type": "code",
   "execution_count": 315,
   "metadata": {
    "scrolled": true
   },
   "outputs": [
    {
     "data": {
      "text/plain": [
       "(4.501643680054216, 7.5365637568480886e-06, 999.0)"
      ]
     },
     "execution_count": 315,
     "metadata": {},
     "output_type": "execute_result"
    }
   ],
   "source": [
    "sm.weightstats.ttest_ind([nhl_dict[2006]], bootstrap_means)"
   ]
  },
  {
   "cell_type": "code",
   "execution_count": 316,
   "metadata": {},
   "outputs": [
    {
     "data": {
      "text/plain": [
       "(4.501643680054216, 6.742995805454414e-06)"
      ]
     },
     "execution_count": 316,
     "metadata": {},
     "output_type": "execute_result"
    }
   ],
   "source": [
    "sm.weightstats.ztest([nhl_dict[2006]], bootstrap_means)"
   ]
  },
  {
   "cell_type": "markdown",
   "metadata": {},
   "source": [
    "## Quick and dirty summary\n",
    "\n",
    "So this is what the above represents:\n",
    "\n",
    "Our t-score: 4.50164....\n",
    "\n",
    "Our z-score: same\n",
    "\n",
    "Our p-value (t-test): 0.00000753636....\n",
    "\n",
    "Our p-value (z-test): 0.0000067429958....\n",
    "\n",
    "Our df (degrees of freedom for t-test): 999\n",
    "\n",
    "What we are doing here is taking the average goals per game for each of the ten seasons before the rule change (that's from 1994-95 to 2003-04). \n",
    "\n",
    "From there, we bootstrap (choosing 10 samples *with replacement* from the 10 seasons of average goals per game data) 1000 times, and calculate the means for each bootstrapped sample.\n",
    "\n",
    "Above, we plotted the histogram of these bootstrapped means and showed that it's relatively normal.  The mean and median are CLOSE, so it isn't unfair to assume normality - even though we can see from the graph that it is slightly skewed.\n",
    "\n",
    "Then, we run a two sample t-test using statsmodel comparing the 2006 season average goals per game versus the distribution of the bootstrapped means.  This gives us a t-score of over 4.5 and a p-value way below our alpha of 0.05.\n",
    "\n",
    "This is statistically significant, so it means we can reject our null hypothesis of \"the rule change between before the 2005-2006 season did **not** have a net-positive effect on goals scored the following season\" with 95% confidence.\n",
    "\n"
   ]
  },
  {
   "cell_type": "code",
   "execution_count": null,
   "metadata": {},
   "outputs": [],
   "source": []
  },
  {
   "cell_type": "code",
   "execution_count": null,
   "metadata": {},
   "outputs": [],
   "source": []
  },
  {
   "cell_type": "code",
   "execution_count": null,
   "metadata": {},
   "outputs": [],
   "source": []
  },
  {
   "cell_type": "code",
   "execution_count": null,
   "metadata": {},
   "outputs": [],
   "source": []
  },
  {
   "cell_type": "code",
   "execution_count": null,
   "metadata": {},
   "outputs": [],
   "source": []
  },
  {
   "cell_type": "code",
   "execution_count": null,
   "metadata": {},
   "outputs": [],
   "source": []
  },
  {
   "cell_type": "code",
   "execution_count": null,
   "metadata": {},
   "outputs": [],
   "source": []
  },
  {
   "cell_type": "code",
   "execution_count": null,
   "metadata": {},
   "outputs": [],
   "source": []
  },
  {
   "cell_type": "code",
   "execution_count": null,
   "metadata": {},
   "outputs": [],
   "source": []
  },
  {
   "cell_type": "code",
   "execution_count": null,
   "metadata": {},
   "outputs": [],
   "source": []
  },
  {
   "cell_type": "code",
   "execution_count": null,
   "metadata": {},
   "outputs": [],
   "source": []
  },
  {
   "cell_type": "code",
   "execution_count": null,
   "metadata": {},
   "outputs": [],
   "source": []
  },
  {
   "cell_type": "code",
   "execution_count": null,
   "metadata": {},
   "outputs": [],
   "source": []
  },
  {
   "cell_type": "code",
   "execution_count": null,
   "metadata": {},
   "outputs": [],
   "source": []
  },
  {
   "cell_type": "code",
   "execution_count": null,
   "metadata": {},
   "outputs": [],
   "source": []
  },
  {
   "cell_type": "markdown",
   "metadata": {},
   "source": [
    "### Playing with the undocumented NHL API"
   ]
  },
  {
   "cell_type": "code",
   "execution_count": 21,
   "metadata": {},
   "outputs": [],
   "source": [
    "resp = requests.get('https://statsapi.web.nhl.com/api/v1/teams')"
   ]
  },
  {
   "cell_type": "code",
   "execution_count": null,
   "metadata": {},
   "outputs": [],
   "source": []
  },
  {
   "cell_type": "code",
   "execution_count": 22,
   "metadata": {},
   "outputs": [],
   "source": [
    "resp_work = resp"
   ]
  },
  {
   "cell_type": "code",
   "execution_count": 33,
   "metadata": {},
   "outputs": [],
   "source": [
    "resp_work_t = resp_work.json()"
   ]
  },
  {
   "cell_type": "code",
   "execution_count": 36,
   "metadata": {},
   "outputs": [
    {
     "data": {
      "text/plain": [
       "dict"
      ]
     },
     "execution_count": 36,
     "metadata": {},
     "output_type": "execute_result"
    }
   ],
   "source": [
    "type(resp_work_t)"
   ]
  },
  {
   "cell_type": "code",
   "execution_count": 41,
   "metadata": {},
   "outputs": [],
   "source": [
    "df_teams = pd.DataFrame(resp_work_t['teams'])"
   ]
  },
  {
   "cell_type": "code",
   "execution_count": 42,
   "metadata": {
    "scrolled": false
   },
   "outputs": [
    {
     "data": {
      "text/html": [
       "<div>\n",
       "<style scoped>\n",
       "    .dataframe tbody tr th:only-of-type {\n",
       "        vertical-align: middle;\n",
       "    }\n",
       "\n",
       "    .dataframe tbody tr th {\n",
       "        vertical-align: top;\n",
       "    }\n",
       "\n",
       "    .dataframe thead th {\n",
       "        text-align: right;\n",
       "    }\n",
       "</style>\n",
       "<table border=\"1\" class=\"dataframe\">\n",
       "  <thead>\n",
       "    <tr style=\"text-align: right;\">\n",
       "      <th></th>\n",
       "      <th>id</th>\n",
       "      <th>name</th>\n",
       "      <th>link</th>\n",
       "      <th>venue</th>\n",
       "      <th>abbreviation</th>\n",
       "      <th>teamName</th>\n",
       "      <th>locationName</th>\n",
       "      <th>firstYearOfPlay</th>\n",
       "      <th>division</th>\n",
       "      <th>conference</th>\n",
       "      <th>franchise</th>\n",
       "      <th>shortName</th>\n",
       "      <th>officialSiteUrl</th>\n",
       "      <th>franchiseId</th>\n",
       "      <th>active</th>\n",
       "    </tr>\n",
       "  </thead>\n",
       "  <tbody>\n",
       "    <tr>\n",
       "      <th>0</th>\n",
       "      <td>1</td>\n",
       "      <td>New Jersey Devils</td>\n",
       "      <td>/api/v1/teams/1</td>\n",
       "      <td>{'name': 'Prudential Center', 'link': '/api/v1...</td>\n",
       "      <td>NJD</td>\n",
       "      <td>Devils</td>\n",
       "      <td>New Jersey</td>\n",
       "      <td>1982</td>\n",
       "      <td>{'id': 18, 'name': 'Metropolitan', 'nameShort'...</td>\n",
       "      <td>{'id': 6, 'name': 'Eastern', 'link': '/api/v1/...</td>\n",
       "      <td>{'franchiseId': 23, 'teamName': 'Devils', 'lin...</td>\n",
       "      <td>New Jersey</td>\n",
       "      <td>http://www.newjerseydevils.com/</td>\n",
       "      <td>23</td>\n",
       "      <td>True</td>\n",
       "    </tr>\n",
       "    <tr>\n",
       "      <th>1</th>\n",
       "      <td>2</td>\n",
       "      <td>New York Islanders</td>\n",
       "      <td>/api/v1/teams/2</td>\n",
       "      <td>{'id': 5026, 'name': 'Barclays Center', 'link'...</td>\n",
       "      <td>NYI</td>\n",
       "      <td>Islanders</td>\n",
       "      <td>New York</td>\n",
       "      <td>1972</td>\n",
       "      <td>{'id': 18, 'name': 'Metropolitan', 'nameShort'...</td>\n",
       "      <td>{'id': 6, 'name': 'Eastern', 'link': '/api/v1/...</td>\n",
       "      <td>{'franchiseId': 22, 'teamName': 'Islanders', '...</td>\n",
       "      <td>NY Islanders</td>\n",
       "      <td>http://www.newyorkislanders.com/</td>\n",
       "      <td>22</td>\n",
       "      <td>True</td>\n",
       "    </tr>\n",
       "    <tr>\n",
       "      <th>2</th>\n",
       "      <td>3</td>\n",
       "      <td>New York Rangers</td>\n",
       "      <td>/api/v1/teams/3</td>\n",
       "      <td>{'id': 5054, 'name': 'Madison Square Garden', ...</td>\n",
       "      <td>NYR</td>\n",
       "      <td>Rangers</td>\n",
       "      <td>New York</td>\n",
       "      <td>1926</td>\n",
       "      <td>{'id': 18, 'name': 'Metropolitan', 'nameShort'...</td>\n",
       "      <td>{'id': 6, 'name': 'Eastern', 'link': '/api/v1/...</td>\n",
       "      <td>{'franchiseId': 10, 'teamName': 'Rangers', 'li...</td>\n",
       "      <td>NY Rangers</td>\n",
       "      <td>http://www.newyorkrangers.com/</td>\n",
       "      <td>10</td>\n",
       "      <td>True</td>\n",
       "    </tr>\n",
       "    <tr>\n",
       "      <th>3</th>\n",
       "      <td>4</td>\n",
       "      <td>Philadelphia Flyers</td>\n",
       "      <td>/api/v1/teams/4</td>\n",
       "      <td>{'id': 5096, 'name': 'Wells Fargo Center', 'li...</td>\n",
       "      <td>PHI</td>\n",
       "      <td>Flyers</td>\n",
       "      <td>Philadelphia</td>\n",
       "      <td>1967</td>\n",
       "      <td>{'id': 18, 'name': 'Metropolitan', 'nameShort'...</td>\n",
       "      <td>{'id': 6, 'name': 'Eastern', 'link': '/api/v1/...</td>\n",
       "      <td>{'franchiseId': 16, 'teamName': 'Flyers', 'lin...</td>\n",
       "      <td>Philadelphia</td>\n",
       "      <td>http://www.philadelphiaflyers.com/</td>\n",
       "      <td>16</td>\n",
       "      <td>True</td>\n",
       "    </tr>\n",
       "    <tr>\n",
       "      <th>4</th>\n",
       "      <td>5</td>\n",
       "      <td>Pittsburgh Penguins</td>\n",
       "      <td>/api/v1/teams/5</td>\n",
       "      <td>{'id': 5034, 'name': 'PPG Paints Arena', 'link...</td>\n",
       "      <td>PIT</td>\n",
       "      <td>Penguins</td>\n",
       "      <td>Pittsburgh</td>\n",
       "      <td>1967</td>\n",
       "      <td>{'id': 18, 'name': 'Metropolitan', 'nameShort'...</td>\n",
       "      <td>{'id': 6, 'name': 'Eastern', 'link': '/api/v1/...</td>\n",
       "      <td>{'franchiseId': 17, 'teamName': 'Penguins', 'l...</td>\n",
       "      <td>Pittsburgh</td>\n",
       "      <td>http://pittsburghpenguins.com/</td>\n",
       "      <td>17</td>\n",
       "      <td>True</td>\n",
       "    </tr>\n",
       "    <tr>\n",
       "      <th>5</th>\n",
       "      <td>6</td>\n",
       "      <td>Boston Bruins</td>\n",
       "      <td>/api/v1/teams/6</td>\n",
       "      <td>{'id': 5085, 'name': 'TD Garden', 'link': '/ap...</td>\n",
       "      <td>BOS</td>\n",
       "      <td>Bruins</td>\n",
       "      <td>Boston</td>\n",
       "      <td>1924</td>\n",
       "      <td>{'id': 17, 'name': 'Atlantic', 'nameShort': 'A...</td>\n",
       "      <td>{'id': 6, 'name': 'Eastern', 'link': '/api/v1/...</td>\n",
       "      <td>{'franchiseId': 6, 'teamName': 'Bruins', 'link...</td>\n",
       "      <td>Boston</td>\n",
       "      <td>http://www.bostonbruins.com/</td>\n",
       "      <td>6</td>\n",
       "      <td>True</td>\n",
       "    </tr>\n",
       "    <tr>\n",
       "      <th>6</th>\n",
       "      <td>7</td>\n",
       "      <td>Buffalo Sabres</td>\n",
       "      <td>/api/v1/teams/7</td>\n",
       "      <td>{'id': 5039, 'name': 'KeyBank Center', 'link':...</td>\n",
       "      <td>BUF</td>\n",
       "      <td>Sabres</td>\n",
       "      <td>Buffalo</td>\n",
       "      <td>1970</td>\n",
       "      <td>{'id': 17, 'name': 'Atlantic', 'nameShort': 'A...</td>\n",
       "      <td>{'id': 6, 'name': 'Eastern', 'link': '/api/v1/...</td>\n",
       "      <td>{'franchiseId': 19, 'teamName': 'Sabres', 'lin...</td>\n",
       "      <td>Buffalo</td>\n",
       "      <td>http://www.sabres.com/</td>\n",
       "      <td>19</td>\n",
       "      <td>True</td>\n",
       "    </tr>\n",
       "    <tr>\n",
       "      <th>7</th>\n",
       "      <td>8</td>\n",
       "      <td>Montréal Canadiens</td>\n",
       "      <td>/api/v1/teams/8</td>\n",
       "      <td>{'id': 5028, 'name': 'Bell Centre', 'link': '/...</td>\n",
       "      <td>MTL</td>\n",
       "      <td>Canadiens</td>\n",
       "      <td>Montréal</td>\n",
       "      <td>1909</td>\n",
       "      <td>{'id': 17, 'name': 'Atlantic', 'nameShort': 'A...</td>\n",
       "      <td>{'id': 6, 'name': 'Eastern', 'link': '/api/v1/...</td>\n",
       "      <td>{'franchiseId': 1, 'teamName': 'Canadiens', 'l...</td>\n",
       "      <td>Montréal</td>\n",
       "      <td>http://www.canadiens.com/</td>\n",
       "      <td>1</td>\n",
       "      <td>True</td>\n",
       "    </tr>\n",
       "    <tr>\n",
       "      <th>8</th>\n",
       "      <td>9</td>\n",
       "      <td>Ottawa Senators</td>\n",
       "      <td>/api/v1/teams/9</td>\n",
       "      <td>{'id': 5031, 'name': 'Canadian Tire Centre', '...</td>\n",
       "      <td>OTT</td>\n",
       "      <td>Senators</td>\n",
       "      <td>Ottawa</td>\n",
       "      <td>1990</td>\n",
       "      <td>{'id': 17, 'name': 'Atlantic', 'nameShort': 'A...</td>\n",
       "      <td>{'id': 6, 'name': 'Eastern', 'link': '/api/v1/...</td>\n",
       "      <td>{'franchiseId': 30, 'teamName': 'Senators', 'l...</td>\n",
       "      <td>Ottawa</td>\n",
       "      <td>http://www.ottawasenators.com/</td>\n",
       "      <td>30</td>\n",
       "      <td>True</td>\n",
       "    </tr>\n",
       "    <tr>\n",
       "      <th>9</th>\n",
       "      <td>10</td>\n",
       "      <td>Toronto Maple Leafs</td>\n",
       "      <td>/api/v1/teams/10</td>\n",
       "      <td>{'name': 'Scotiabank Arena', 'link': '/api/v1/...</td>\n",
       "      <td>TOR</td>\n",
       "      <td>Maple Leafs</td>\n",
       "      <td>Toronto</td>\n",
       "      <td>1917</td>\n",
       "      <td>{'id': 17, 'name': 'Atlantic', 'nameShort': 'A...</td>\n",
       "      <td>{'id': 6, 'name': 'Eastern', 'link': '/api/v1/...</td>\n",
       "      <td>{'franchiseId': 5, 'teamName': 'Maple Leafs', ...</td>\n",
       "      <td>Toronto</td>\n",
       "      <td>http://www.mapleleafs.com/</td>\n",
       "      <td>5</td>\n",
       "      <td>True</td>\n",
       "    </tr>\n",
       "    <tr>\n",
       "      <th>10</th>\n",
       "      <td>12</td>\n",
       "      <td>Carolina Hurricanes</td>\n",
       "      <td>/api/v1/teams/12</td>\n",
       "      <td>{'id': 5066, 'name': 'PNC Arena', 'link': '/ap...</td>\n",
       "      <td>CAR</td>\n",
       "      <td>Hurricanes</td>\n",
       "      <td>Carolina</td>\n",
       "      <td>1979</td>\n",
       "      <td>{'id': 18, 'name': 'Metropolitan', 'nameShort'...</td>\n",
       "      <td>{'id': 6, 'name': 'Eastern', 'link': '/api/v1/...</td>\n",
       "      <td>{'franchiseId': 26, 'teamName': 'Hurricanes', ...</td>\n",
       "      <td>Carolina</td>\n",
       "      <td>http://www.carolinahurricanes.com/</td>\n",
       "      <td>26</td>\n",
       "      <td>True</td>\n",
       "    </tr>\n",
       "    <tr>\n",
       "      <th>11</th>\n",
       "      <td>13</td>\n",
       "      <td>Florida Panthers</td>\n",
       "      <td>/api/v1/teams/13</td>\n",
       "      <td>{'id': 5027, 'name': 'BB&amp;T Center', 'link': '/...</td>\n",
       "      <td>FLA</td>\n",
       "      <td>Panthers</td>\n",
       "      <td>Florida</td>\n",
       "      <td>1993</td>\n",
       "      <td>{'id': 17, 'name': 'Atlantic', 'nameShort': 'A...</td>\n",
       "      <td>{'id': 6, 'name': 'Eastern', 'link': '/api/v1/...</td>\n",
       "      <td>{'franchiseId': 33, 'teamName': 'Panthers', 'l...</td>\n",
       "      <td>Florida</td>\n",
       "      <td>http://www.floridapanthers.com/</td>\n",
       "      <td>33</td>\n",
       "      <td>True</td>\n",
       "    </tr>\n",
       "    <tr>\n",
       "      <th>12</th>\n",
       "      <td>14</td>\n",
       "      <td>Tampa Bay Lightning</td>\n",
       "      <td>/api/v1/teams/14</td>\n",
       "      <td>{'name': 'AMALIE Arena', 'link': '/api/v1/venu...</td>\n",
       "      <td>TBL</td>\n",
       "      <td>Lightning</td>\n",
       "      <td>Tampa Bay</td>\n",
       "      <td>1991</td>\n",
       "      <td>{'id': 17, 'name': 'Atlantic', 'nameShort': 'A...</td>\n",
       "      <td>{'id': 6, 'name': 'Eastern', 'link': '/api/v1/...</td>\n",
       "      <td>{'franchiseId': 31, 'teamName': 'Lightning', '...</td>\n",
       "      <td>Tampa Bay</td>\n",
       "      <td>http://www.tampabaylightning.com/</td>\n",
       "      <td>31</td>\n",
       "      <td>True</td>\n",
       "    </tr>\n",
       "    <tr>\n",
       "      <th>13</th>\n",
       "      <td>15</td>\n",
       "      <td>Washington Capitals</td>\n",
       "      <td>/api/v1/teams/15</td>\n",
       "      <td>{'id': 5094, 'name': 'Capital One Arena', 'lin...</td>\n",
       "      <td>WSH</td>\n",
       "      <td>Capitals</td>\n",
       "      <td>Washington</td>\n",
       "      <td>1974</td>\n",
       "      <td>{'id': 18, 'name': 'Metropolitan', 'nameShort'...</td>\n",
       "      <td>{'id': 6, 'name': 'Eastern', 'link': '/api/v1/...</td>\n",
       "      <td>{'franchiseId': 24, 'teamName': 'Capitals', 'l...</td>\n",
       "      <td>Washington</td>\n",
       "      <td>http://www.washingtoncapitals.com/</td>\n",
       "      <td>24</td>\n",
       "      <td>True</td>\n",
       "    </tr>\n",
       "    <tr>\n",
       "      <th>14</th>\n",
       "      <td>16</td>\n",
       "      <td>Chicago Blackhawks</td>\n",
       "      <td>/api/v1/teams/16</td>\n",
       "      <td>{'id': 5092, 'name': 'United Center', 'link': ...</td>\n",
       "      <td>CHI</td>\n",
       "      <td>Blackhawks</td>\n",
       "      <td>Chicago</td>\n",
       "      <td>1926</td>\n",
       "      <td>{'id': 16, 'name': 'Central', 'nameShort': 'CE...</td>\n",
       "      <td>{'id': 5, 'name': 'Western', 'link': '/api/v1/...</td>\n",
       "      <td>{'franchiseId': 11, 'teamName': 'Blackhawks', ...</td>\n",
       "      <td>Chicago</td>\n",
       "      <td>http://www.chicagoblackhawks.com/</td>\n",
       "      <td>11</td>\n",
       "      <td>True</td>\n",
       "    </tr>\n",
       "    <tr>\n",
       "      <th>15</th>\n",
       "      <td>17</td>\n",
       "      <td>Detroit Red Wings</td>\n",
       "      <td>/api/v1/teams/17</td>\n",
       "      <td>{'id': 5145, 'name': 'Little Caesars Arena', '...</td>\n",
       "      <td>DET</td>\n",
       "      <td>Red Wings</td>\n",
       "      <td>Detroit</td>\n",
       "      <td>1926</td>\n",
       "      <td>{'id': 17, 'name': 'Atlantic', 'nameShort': 'A...</td>\n",
       "      <td>{'id': 6, 'name': 'Eastern', 'link': '/api/v1/...</td>\n",
       "      <td>{'franchiseId': 12, 'teamName': 'Red Wings', '...</td>\n",
       "      <td>Detroit</td>\n",
       "      <td>http://www.detroitredwings.com/</td>\n",
       "      <td>12</td>\n",
       "      <td>True</td>\n",
       "    </tr>\n",
       "    <tr>\n",
       "      <th>16</th>\n",
       "      <td>18</td>\n",
       "      <td>Nashville Predators</td>\n",
       "      <td>/api/v1/teams/18</td>\n",
       "      <td>{'id': 5030, 'name': 'Bridgestone Arena', 'lin...</td>\n",
       "      <td>NSH</td>\n",
       "      <td>Predators</td>\n",
       "      <td>Nashville</td>\n",
       "      <td>1997</td>\n",
       "      <td>{'id': 16, 'name': 'Central', 'nameShort': 'CE...</td>\n",
       "      <td>{'id': 5, 'name': 'Western', 'link': '/api/v1/...</td>\n",
       "      <td>{'franchiseId': 34, 'teamName': 'Predators', '...</td>\n",
       "      <td>Nashville</td>\n",
       "      <td>http://www.nashvillepredators.com/</td>\n",
       "      <td>34</td>\n",
       "      <td>True</td>\n",
       "    </tr>\n",
       "    <tr>\n",
       "      <th>17</th>\n",
       "      <td>19</td>\n",
       "      <td>St. Louis Blues</td>\n",
       "      <td>/api/v1/teams/19</td>\n",
       "      <td>{'id': 5076, 'name': 'Enterprise Center', 'lin...</td>\n",
       "      <td>STL</td>\n",
       "      <td>Blues</td>\n",
       "      <td>St. Louis</td>\n",
       "      <td>1967</td>\n",
       "      <td>{'id': 16, 'name': 'Central', 'nameShort': 'CE...</td>\n",
       "      <td>{'id': 5, 'name': 'Western', 'link': '/api/v1/...</td>\n",
       "      <td>{'franchiseId': 18, 'teamName': 'Blues', 'link...</td>\n",
       "      <td>St Louis</td>\n",
       "      <td>http://www.stlouisblues.com/</td>\n",
       "      <td>18</td>\n",
       "      <td>True</td>\n",
       "    </tr>\n",
       "    <tr>\n",
       "      <th>18</th>\n",
       "      <td>20</td>\n",
       "      <td>Calgary Flames</td>\n",
       "      <td>/api/v1/teams/20</td>\n",
       "      <td>{'id': 5075, 'name': 'Scotiabank Saddledome', ...</td>\n",
       "      <td>CGY</td>\n",
       "      <td>Flames</td>\n",
       "      <td>Calgary</td>\n",
       "      <td>1980</td>\n",
       "      <td>{'id': 15, 'name': 'Pacific', 'nameShort': 'PA...</td>\n",
       "      <td>{'id': 5, 'name': 'Western', 'link': '/api/v1/...</td>\n",
       "      <td>{'franchiseId': 21, 'teamName': 'Flames', 'lin...</td>\n",
       "      <td>Calgary</td>\n",
       "      <td>http://www.calgaryflames.com/</td>\n",
       "      <td>21</td>\n",
       "      <td>True</td>\n",
       "    </tr>\n",
       "    <tr>\n",
       "      <th>19</th>\n",
       "      <td>21</td>\n",
       "      <td>Colorado Avalanche</td>\n",
       "      <td>/api/v1/teams/21</td>\n",
       "      <td>{'id': 5064, 'name': 'Pepsi Center', 'link': '...</td>\n",
       "      <td>COL</td>\n",
       "      <td>Avalanche</td>\n",
       "      <td>Colorado</td>\n",
       "      <td>1979</td>\n",
       "      <td>{'id': 16, 'name': 'Central', 'nameShort': 'CE...</td>\n",
       "      <td>{'id': 5, 'name': 'Western', 'link': '/api/v1/...</td>\n",
       "      <td>{'franchiseId': 27, 'teamName': 'Avalanche', '...</td>\n",
       "      <td>Colorado</td>\n",
       "      <td>http://www.coloradoavalanche.com/</td>\n",
       "      <td>27</td>\n",
       "      <td>True</td>\n",
       "    </tr>\n",
       "    <tr>\n",
       "      <th>20</th>\n",
       "      <td>22</td>\n",
       "      <td>Edmonton Oilers</td>\n",
       "      <td>/api/v1/teams/22</td>\n",
       "      <td>{'id': 5100, 'name': 'Rogers Place', 'link': '...</td>\n",
       "      <td>EDM</td>\n",
       "      <td>Oilers</td>\n",
       "      <td>Edmonton</td>\n",
       "      <td>1979</td>\n",
       "      <td>{'id': 15, 'name': 'Pacific', 'nameShort': 'PA...</td>\n",
       "      <td>{'id': 5, 'name': 'Western', 'link': '/api/v1/...</td>\n",
       "      <td>{'franchiseId': 25, 'teamName': 'Oilers', 'lin...</td>\n",
       "      <td>Edmonton</td>\n",
       "      <td>http://www.edmontonoilers.com/</td>\n",
       "      <td>25</td>\n",
       "      <td>True</td>\n",
       "    </tr>\n",
       "    <tr>\n",
       "      <th>21</th>\n",
       "      <td>23</td>\n",
       "      <td>Vancouver Canucks</td>\n",
       "      <td>/api/v1/teams/23</td>\n",
       "      <td>{'id': 5073, 'name': 'Rogers Arena', 'link': '...</td>\n",
       "      <td>VAN</td>\n",
       "      <td>Canucks</td>\n",
       "      <td>Vancouver</td>\n",
       "      <td>1970</td>\n",
       "      <td>{'id': 15, 'name': 'Pacific', 'nameShort': 'PA...</td>\n",
       "      <td>{'id': 5, 'name': 'Western', 'link': '/api/v1/...</td>\n",
       "      <td>{'franchiseId': 20, 'teamName': 'Canucks', 'li...</td>\n",
       "      <td>Vancouver</td>\n",
       "      <td>http://www.canucks.com/</td>\n",
       "      <td>20</td>\n",
       "      <td>True</td>\n",
       "    </tr>\n",
       "    <tr>\n",
       "      <th>22</th>\n",
       "      <td>24</td>\n",
       "      <td>Anaheim Ducks</td>\n",
       "      <td>/api/v1/teams/24</td>\n",
       "      <td>{'id': 5046, 'name': 'Honda Center', 'link': '...</td>\n",
       "      <td>ANA</td>\n",
       "      <td>Ducks</td>\n",
       "      <td>Anaheim</td>\n",
       "      <td>1993</td>\n",
       "      <td>{'id': 15, 'name': 'Pacific', 'nameShort': 'PA...</td>\n",
       "      <td>{'id': 5, 'name': 'Western', 'link': '/api/v1/...</td>\n",
       "      <td>{'franchiseId': 32, 'teamName': 'Ducks', 'link...</td>\n",
       "      <td>Anaheim</td>\n",
       "      <td>http://www.anaheimducks.com/</td>\n",
       "      <td>32</td>\n",
       "      <td>True</td>\n",
       "    </tr>\n",
       "    <tr>\n",
       "      <th>23</th>\n",
       "      <td>25</td>\n",
       "      <td>Dallas Stars</td>\n",
       "      <td>/api/v1/teams/25</td>\n",
       "      <td>{'id': 5019, 'name': 'American Airlines Center...</td>\n",
       "      <td>DAL</td>\n",
       "      <td>Stars</td>\n",
       "      <td>Dallas</td>\n",
       "      <td>1967</td>\n",
       "      <td>{'id': 16, 'name': 'Central', 'nameShort': 'CE...</td>\n",
       "      <td>{'id': 5, 'name': 'Western', 'link': '/api/v1/...</td>\n",
       "      <td>{'franchiseId': 15, 'teamName': 'Stars', 'link...</td>\n",
       "      <td>Dallas</td>\n",
       "      <td>http://www.dallasstars.com/</td>\n",
       "      <td>15</td>\n",
       "      <td>True</td>\n",
       "    </tr>\n",
       "    <tr>\n",
       "      <th>24</th>\n",
       "      <td>26</td>\n",
       "      <td>Los Angeles Kings</td>\n",
       "      <td>/api/v1/teams/26</td>\n",
       "      <td>{'id': 5081, 'name': 'STAPLES Center', 'link':...</td>\n",
       "      <td>LAK</td>\n",
       "      <td>Kings</td>\n",
       "      <td>Los Angeles</td>\n",
       "      <td>1967</td>\n",
       "      <td>{'id': 15, 'name': 'Pacific', 'nameShort': 'PA...</td>\n",
       "      <td>{'id': 5, 'name': 'Western', 'link': '/api/v1/...</td>\n",
       "      <td>{'franchiseId': 14, 'teamName': 'Kings', 'link...</td>\n",
       "      <td>Los Angeles</td>\n",
       "      <td>http://www.lakings.com/</td>\n",
       "      <td>14</td>\n",
       "      <td>True</td>\n",
       "    </tr>\n",
       "    <tr>\n",
       "      <th>25</th>\n",
       "      <td>28</td>\n",
       "      <td>San Jose Sharks</td>\n",
       "      <td>/api/v1/teams/28</td>\n",
       "      <td>{'name': 'SAP Center at San Jose', 'link': '/a...</td>\n",
       "      <td>SJS</td>\n",
       "      <td>Sharks</td>\n",
       "      <td>San Jose</td>\n",
       "      <td>1990</td>\n",
       "      <td>{'id': 15, 'name': 'Pacific', 'nameShort': 'PA...</td>\n",
       "      <td>{'id': 5, 'name': 'Western', 'link': '/api/v1/...</td>\n",
       "      <td>{'franchiseId': 29, 'teamName': 'Sharks', 'lin...</td>\n",
       "      <td>San Jose</td>\n",
       "      <td>http://www.sjsharks.com/</td>\n",
       "      <td>29</td>\n",
       "      <td>True</td>\n",
       "    </tr>\n",
       "    <tr>\n",
       "      <th>26</th>\n",
       "      <td>29</td>\n",
       "      <td>Columbus Blue Jackets</td>\n",
       "      <td>/api/v1/teams/29</td>\n",
       "      <td>{'id': 5059, 'name': 'Nationwide Arena', 'link...</td>\n",
       "      <td>CBJ</td>\n",
       "      <td>Blue Jackets</td>\n",
       "      <td>Columbus</td>\n",
       "      <td>1997</td>\n",
       "      <td>{'id': 18, 'name': 'Metropolitan', 'nameShort'...</td>\n",
       "      <td>{'id': 6, 'name': 'Eastern', 'link': '/api/v1/...</td>\n",
       "      <td>{'franchiseId': 36, 'teamName': 'Blue Jackets'...</td>\n",
       "      <td>Columbus</td>\n",
       "      <td>http://www.bluejackets.com/</td>\n",
       "      <td>36</td>\n",
       "      <td>True</td>\n",
       "    </tr>\n",
       "    <tr>\n",
       "      <th>27</th>\n",
       "      <td>30</td>\n",
       "      <td>Minnesota Wild</td>\n",
       "      <td>/api/v1/teams/30</td>\n",
       "      <td>{'id': 5098, 'name': 'Xcel Energy Center', 'li...</td>\n",
       "      <td>MIN</td>\n",
       "      <td>Wild</td>\n",
       "      <td>Minnesota</td>\n",
       "      <td>1997</td>\n",
       "      <td>{'id': 16, 'name': 'Central', 'nameShort': 'CE...</td>\n",
       "      <td>{'id': 5, 'name': 'Western', 'link': '/api/v1/...</td>\n",
       "      <td>{'franchiseId': 37, 'teamName': 'Wild', 'link'...</td>\n",
       "      <td>Minnesota</td>\n",
       "      <td>http://www.wild.com/</td>\n",
       "      <td>37</td>\n",
       "      <td>True</td>\n",
       "    </tr>\n",
       "    <tr>\n",
       "      <th>28</th>\n",
       "      <td>52</td>\n",
       "      <td>Winnipeg Jets</td>\n",
       "      <td>/api/v1/teams/52</td>\n",
       "      <td>{'id': 5058, 'name': 'Bell MTS Place', 'link':...</td>\n",
       "      <td>WPG</td>\n",
       "      <td>Jets</td>\n",
       "      <td>Winnipeg</td>\n",
       "      <td>2011</td>\n",
       "      <td>{'id': 16, 'name': 'Central', 'nameShort': 'CE...</td>\n",
       "      <td>{'id': 5, 'name': 'Western', 'link': '/api/v1/...</td>\n",
       "      <td>{'franchiseId': 35, 'teamName': 'Jets', 'link'...</td>\n",
       "      <td>Winnipeg</td>\n",
       "      <td>http://winnipegjets.com/</td>\n",
       "      <td>35</td>\n",
       "      <td>True</td>\n",
       "    </tr>\n",
       "    <tr>\n",
       "      <th>29</th>\n",
       "      <td>53</td>\n",
       "      <td>Arizona Coyotes</td>\n",
       "      <td>/api/v1/teams/53</td>\n",
       "      <td>{'id': 5043, 'name': 'Gila River Arena', 'link...</td>\n",
       "      <td>ARI</td>\n",
       "      <td>Coyotes</td>\n",
       "      <td>Arizona</td>\n",
       "      <td>1979</td>\n",
       "      <td>{'id': 15, 'name': 'Pacific', 'nameShort': 'PA...</td>\n",
       "      <td>{'id': 5, 'name': 'Western', 'link': '/api/v1/...</td>\n",
       "      <td>{'franchiseId': 28, 'teamName': 'Coyotes', 'li...</td>\n",
       "      <td>Arizona</td>\n",
       "      <td>http://www.arizonacoyotes.com/</td>\n",
       "      <td>28</td>\n",
       "      <td>True</td>\n",
       "    </tr>\n",
       "    <tr>\n",
       "      <th>30</th>\n",
       "      <td>54</td>\n",
       "      <td>Vegas Golden Knights</td>\n",
       "      <td>/api/v1/teams/54</td>\n",
       "      <td>{'id': 5178, 'name': 'T-Mobile Arena', 'link':...</td>\n",
       "      <td>VGK</td>\n",
       "      <td>Golden Knights</td>\n",
       "      <td>Vegas</td>\n",
       "      <td>2016</td>\n",
       "      <td>{'id': 15, 'name': 'Pacific', 'nameShort': 'PA...</td>\n",
       "      <td>{'id': 5, 'name': 'Western', 'link': '/api/v1/...</td>\n",
       "      <td>{'franchiseId': 38, 'teamName': 'Golden Knight...</td>\n",
       "      <td>Vegas</td>\n",
       "      <td>http://www.vegasgoldenknights.com/</td>\n",
       "      <td>38</td>\n",
       "      <td>True</td>\n",
       "    </tr>\n",
       "  </tbody>\n",
       "</table>\n",
       "</div>"
      ],
      "text/plain": [
       "    id                   name              link  \\\n",
       "0    1      New Jersey Devils   /api/v1/teams/1   \n",
       "1    2     New York Islanders   /api/v1/teams/2   \n",
       "2    3       New York Rangers   /api/v1/teams/3   \n",
       "3    4    Philadelphia Flyers   /api/v1/teams/4   \n",
       "4    5    Pittsburgh Penguins   /api/v1/teams/5   \n",
       "5    6          Boston Bruins   /api/v1/teams/6   \n",
       "6    7         Buffalo Sabres   /api/v1/teams/7   \n",
       "7    8     Montréal Canadiens   /api/v1/teams/8   \n",
       "8    9        Ottawa Senators   /api/v1/teams/9   \n",
       "9   10    Toronto Maple Leafs  /api/v1/teams/10   \n",
       "10  12    Carolina Hurricanes  /api/v1/teams/12   \n",
       "11  13       Florida Panthers  /api/v1/teams/13   \n",
       "12  14    Tampa Bay Lightning  /api/v1/teams/14   \n",
       "13  15    Washington Capitals  /api/v1/teams/15   \n",
       "14  16     Chicago Blackhawks  /api/v1/teams/16   \n",
       "15  17      Detroit Red Wings  /api/v1/teams/17   \n",
       "16  18    Nashville Predators  /api/v1/teams/18   \n",
       "17  19        St. Louis Blues  /api/v1/teams/19   \n",
       "18  20         Calgary Flames  /api/v1/teams/20   \n",
       "19  21     Colorado Avalanche  /api/v1/teams/21   \n",
       "20  22        Edmonton Oilers  /api/v1/teams/22   \n",
       "21  23      Vancouver Canucks  /api/v1/teams/23   \n",
       "22  24          Anaheim Ducks  /api/v1/teams/24   \n",
       "23  25           Dallas Stars  /api/v1/teams/25   \n",
       "24  26      Los Angeles Kings  /api/v1/teams/26   \n",
       "25  28        San Jose Sharks  /api/v1/teams/28   \n",
       "26  29  Columbus Blue Jackets  /api/v1/teams/29   \n",
       "27  30         Minnesota Wild  /api/v1/teams/30   \n",
       "28  52          Winnipeg Jets  /api/v1/teams/52   \n",
       "29  53        Arizona Coyotes  /api/v1/teams/53   \n",
       "30  54   Vegas Golden Knights  /api/v1/teams/54   \n",
       "\n",
       "                                                venue abbreviation  \\\n",
       "0   {'name': 'Prudential Center', 'link': '/api/v1...          NJD   \n",
       "1   {'id': 5026, 'name': 'Barclays Center', 'link'...          NYI   \n",
       "2   {'id': 5054, 'name': 'Madison Square Garden', ...          NYR   \n",
       "3   {'id': 5096, 'name': 'Wells Fargo Center', 'li...          PHI   \n",
       "4   {'id': 5034, 'name': 'PPG Paints Arena', 'link...          PIT   \n",
       "5   {'id': 5085, 'name': 'TD Garden', 'link': '/ap...          BOS   \n",
       "6   {'id': 5039, 'name': 'KeyBank Center', 'link':...          BUF   \n",
       "7   {'id': 5028, 'name': 'Bell Centre', 'link': '/...          MTL   \n",
       "8   {'id': 5031, 'name': 'Canadian Tire Centre', '...          OTT   \n",
       "9   {'name': 'Scotiabank Arena', 'link': '/api/v1/...          TOR   \n",
       "10  {'id': 5066, 'name': 'PNC Arena', 'link': '/ap...          CAR   \n",
       "11  {'id': 5027, 'name': 'BB&T Center', 'link': '/...          FLA   \n",
       "12  {'name': 'AMALIE Arena', 'link': '/api/v1/venu...          TBL   \n",
       "13  {'id': 5094, 'name': 'Capital One Arena', 'lin...          WSH   \n",
       "14  {'id': 5092, 'name': 'United Center', 'link': ...          CHI   \n",
       "15  {'id': 5145, 'name': 'Little Caesars Arena', '...          DET   \n",
       "16  {'id': 5030, 'name': 'Bridgestone Arena', 'lin...          NSH   \n",
       "17  {'id': 5076, 'name': 'Enterprise Center', 'lin...          STL   \n",
       "18  {'id': 5075, 'name': 'Scotiabank Saddledome', ...          CGY   \n",
       "19  {'id': 5064, 'name': 'Pepsi Center', 'link': '...          COL   \n",
       "20  {'id': 5100, 'name': 'Rogers Place', 'link': '...          EDM   \n",
       "21  {'id': 5073, 'name': 'Rogers Arena', 'link': '...          VAN   \n",
       "22  {'id': 5046, 'name': 'Honda Center', 'link': '...          ANA   \n",
       "23  {'id': 5019, 'name': 'American Airlines Center...          DAL   \n",
       "24  {'id': 5081, 'name': 'STAPLES Center', 'link':...          LAK   \n",
       "25  {'name': 'SAP Center at San Jose', 'link': '/a...          SJS   \n",
       "26  {'id': 5059, 'name': 'Nationwide Arena', 'link...          CBJ   \n",
       "27  {'id': 5098, 'name': 'Xcel Energy Center', 'li...          MIN   \n",
       "28  {'id': 5058, 'name': 'Bell MTS Place', 'link':...          WPG   \n",
       "29  {'id': 5043, 'name': 'Gila River Arena', 'link...          ARI   \n",
       "30  {'id': 5178, 'name': 'T-Mobile Arena', 'link':...          VGK   \n",
       "\n",
       "          teamName  locationName firstYearOfPlay  \\\n",
       "0           Devils    New Jersey            1982   \n",
       "1        Islanders      New York            1972   \n",
       "2          Rangers      New York            1926   \n",
       "3           Flyers  Philadelphia            1967   \n",
       "4         Penguins    Pittsburgh            1967   \n",
       "5           Bruins        Boston            1924   \n",
       "6           Sabres       Buffalo            1970   \n",
       "7        Canadiens      Montréal            1909   \n",
       "8         Senators        Ottawa            1990   \n",
       "9      Maple Leafs       Toronto            1917   \n",
       "10      Hurricanes      Carolina            1979   \n",
       "11        Panthers       Florida            1993   \n",
       "12       Lightning     Tampa Bay            1991   \n",
       "13        Capitals    Washington            1974   \n",
       "14      Blackhawks       Chicago            1926   \n",
       "15       Red Wings       Detroit            1926   \n",
       "16       Predators     Nashville            1997   \n",
       "17           Blues     St. Louis            1967   \n",
       "18          Flames       Calgary            1980   \n",
       "19       Avalanche      Colorado            1979   \n",
       "20          Oilers      Edmonton            1979   \n",
       "21         Canucks     Vancouver            1970   \n",
       "22           Ducks       Anaheim            1993   \n",
       "23           Stars        Dallas            1967   \n",
       "24           Kings   Los Angeles            1967   \n",
       "25          Sharks      San Jose            1990   \n",
       "26    Blue Jackets      Columbus            1997   \n",
       "27            Wild     Minnesota            1997   \n",
       "28            Jets      Winnipeg            2011   \n",
       "29         Coyotes       Arizona            1979   \n",
       "30  Golden Knights         Vegas            2016   \n",
       "\n",
       "                                             division  \\\n",
       "0   {'id': 18, 'name': 'Metropolitan', 'nameShort'...   \n",
       "1   {'id': 18, 'name': 'Metropolitan', 'nameShort'...   \n",
       "2   {'id': 18, 'name': 'Metropolitan', 'nameShort'...   \n",
       "3   {'id': 18, 'name': 'Metropolitan', 'nameShort'...   \n",
       "4   {'id': 18, 'name': 'Metropolitan', 'nameShort'...   \n",
       "5   {'id': 17, 'name': 'Atlantic', 'nameShort': 'A...   \n",
       "6   {'id': 17, 'name': 'Atlantic', 'nameShort': 'A...   \n",
       "7   {'id': 17, 'name': 'Atlantic', 'nameShort': 'A...   \n",
       "8   {'id': 17, 'name': 'Atlantic', 'nameShort': 'A...   \n",
       "9   {'id': 17, 'name': 'Atlantic', 'nameShort': 'A...   \n",
       "10  {'id': 18, 'name': 'Metropolitan', 'nameShort'...   \n",
       "11  {'id': 17, 'name': 'Atlantic', 'nameShort': 'A...   \n",
       "12  {'id': 17, 'name': 'Atlantic', 'nameShort': 'A...   \n",
       "13  {'id': 18, 'name': 'Metropolitan', 'nameShort'...   \n",
       "14  {'id': 16, 'name': 'Central', 'nameShort': 'CE...   \n",
       "15  {'id': 17, 'name': 'Atlantic', 'nameShort': 'A...   \n",
       "16  {'id': 16, 'name': 'Central', 'nameShort': 'CE...   \n",
       "17  {'id': 16, 'name': 'Central', 'nameShort': 'CE...   \n",
       "18  {'id': 15, 'name': 'Pacific', 'nameShort': 'PA...   \n",
       "19  {'id': 16, 'name': 'Central', 'nameShort': 'CE...   \n",
       "20  {'id': 15, 'name': 'Pacific', 'nameShort': 'PA...   \n",
       "21  {'id': 15, 'name': 'Pacific', 'nameShort': 'PA...   \n",
       "22  {'id': 15, 'name': 'Pacific', 'nameShort': 'PA...   \n",
       "23  {'id': 16, 'name': 'Central', 'nameShort': 'CE...   \n",
       "24  {'id': 15, 'name': 'Pacific', 'nameShort': 'PA...   \n",
       "25  {'id': 15, 'name': 'Pacific', 'nameShort': 'PA...   \n",
       "26  {'id': 18, 'name': 'Metropolitan', 'nameShort'...   \n",
       "27  {'id': 16, 'name': 'Central', 'nameShort': 'CE...   \n",
       "28  {'id': 16, 'name': 'Central', 'nameShort': 'CE...   \n",
       "29  {'id': 15, 'name': 'Pacific', 'nameShort': 'PA...   \n",
       "30  {'id': 15, 'name': 'Pacific', 'nameShort': 'PA...   \n",
       "\n",
       "                                           conference  \\\n",
       "0   {'id': 6, 'name': 'Eastern', 'link': '/api/v1/...   \n",
       "1   {'id': 6, 'name': 'Eastern', 'link': '/api/v1/...   \n",
       "2   {'id': 6, 'name': 'Eastern', 'link': '/api/v1/...   \n",
       "3   {'id': 6, 'name': 'Eastern', 'link': '/api/v1/...   \n",
       "4   {'id': 6, 'name': 'Eastern', 'link': '/api/v1/...   \n",
       "5   {'id': 6, 'name': 'Eastern', 'link': '/api/v1/...   \n",
       "6   {'id': 6, 'name': 'Eastern', 'link': '/api/v1/...   \n",
       "7   {'id': 6, 'name': 'Eastern', 'link': '/api/v1/...   \n",
       "8   {'id': 6, 'name': 'Eastern', 'link': '/api/v1/...   \n",
       "9   {'id': 6, 'name': 'Eastern', 'link': '/api/v1/...   \n",
       "10  {'id': 6, 'name': 'Eastern', 'link': '/api/v1/...   \n",
       "11  {'id': 6, 'name': 'Eastern', 'link': '/api/v1/...   \n",
       "12  {'id': 6, 'name': 'Eastern', 'link': '/api/v1/...   \n",
       "13  {'id': 6, 'name': 'Eastern', 'link': '/api/v1/...   \n",
       "14  {'id': 5, 'name': 'Western', 'link': '/api/v1/...   \n",
       "15  {'id': 6, 'name': 'Eastern', 'link': '/api/v1/...   \n",
       "16  {'id': 5, 'name': 'Western', 'link': '/api/v1/...   \n",
       "17  {'id': 5, 'name': 'Western', 'link': '/api/v1/...   \n",
       "18  {'id': 5, 'name': 'Western', 'link': '/api/v1/...   \n",
       "19  {'id': 5, 'name': 'Western', 'link': '/api/v1/...   \n",
       "20  {'id': 5, 'name': 'Western', 'link': '/api/v1/...   \n",
       "21  {'id': 5, 'name': 'Western', 'link': '/api/v1/...   \n",
       "22  {'id': 5, 'name': 'Western', 'link': '/api/v1/...   \n",
       "23  {'id': 5, 'name': 'Western', 'link': '/api/v1/...   \n",
       "24  {'id': 5, 'name': 'Western', 'link': '/api/v1/...   \n",
       "25  {'id': 5, 'name': 'Western', 'link': '/api/v1/...   \n",
       "26  {'id': 6, 'name': 'Eastern', 'link': '/api/v1/...   \n",
       "27  {'id': 5, 'name': 'Western', 'link': '/api/v1/...   \n",
       "28  {'id': 5, 'name': 'Western', 'link': '/api/v1/...   \n",
       "29  {'id': 5, 'name': 'Western', 'link': '/api/v1/...   \n",
       "30  {'id': 5, 'name': 'Western', 'link': '/api/v1/...   \n",
       "\n",
       "                                            franchise     shortName  \\\n",
       "0   {'franchiseId': 23, 'teamName': 'Devils', 'lin...    New Jersey   \n",
       "1   {'franchiseId': 22, 'teamName': 'Islanders', '...  NY Islanders   \n",
       "2   {'franchiseId': 10, 'teamName': 'Rangers', 'li...    NY Rangers   \n",
       "3   {'franchiseId': 16, 'teamName': 'Flyers', 'lin...  Philadelphia   \n",
       "4   {'franchiseId': 17, 'teamName': 'Penguins', 'l...    Pittsburgh   \n",
       "5   {'franchiseId': 6, 'teamName': 'Bruins', 'link...        Boston   \n",
       "6   {'franchiseId': 19, 'teamName': 'Sabres', 'lin...       Buffalo   \n",
       "7   {'franchiseId': 1, 'teamName': 'Canadiens', 'l...      Montréal   \n",
       "8   {'franchiseId': 30, 'teamName': 'Senators', 'l...        Ottawa   \n",
       "9   {'franchiseId': 5, 'teamName': 'Maple Leafs', ...       Toronto   \n",
       "10  {'franchiseId': 26, 'teamName': 'Hurricanes', ...      Carolina   \n",
       "11  {'franchiseId': 33, 'teamName': 'Panthers', 'l...       Florida   \n",
       "12  {'franchiseId': 31, 'teamName': 'Lightning', '...     Tampa Bay   \n",
       "13  {'franchiseId': 24, 'teamName': 'Capitals', 'l...    Washington   \n",
       "14  {'franchiseId': 11, 'teamName': 'Blackhawks', ...       Chicago   \n",
       "15  {'franchiseId': 12, 'teamName': 'Red Wings', '...       Detroit   \n",
       "16  {'franchiseId': 34, 'teamName': 'Predators', '...     Nashville   \n",
       "17  {'franchiseId': 18, 'teamName': 'Blues', 'link...      St Louis   \n",
       "18  {'franchiseId': 21, 'teamName': 'Flames', 'lin...       Calgary   \n",
       "19  {'franchiseId': 27, 'teamName': 'Avalanche', '...      Colorado   \n",
       "20  {'franchiseId': 25, 'teamName': 'Oilers', 'lin...      Edmonton   \n",
       "21  {'franchiseId': 20, 'teamName': 'Canucks', 'li...     Vancouver   \n",
       "22  {'franchiseId': 32, 'teamName': 'Ducks', 'link...       Anaheim   \n",
       "23  {'franchiseId': 15, 'teamName': 'Stars', 'link...        Dallas   \n",
       "24  {'franchiseId': 14, 'teamName': 'Kings', 'link...   Los Angeles   \n",
       "25  {'franchiseId': 29, 'teamName': 'Sharks', 'lin...      San Jose   \n",
       "26  {'franchiseId': 36, 'teamName': 'Blue Jackets'...      Columbus   \n",
       "27  {'franchiseId': 37, 'teamName': 'Wild', 'link'...     Minnesota   \n",
       "28  {'franchiseId': 35, 'teamName': 'Jets', 'link'...      Winnipeg   \n",
       "29  {'franchiseId': 28, 'teamName': 'Coyotes', 'li...       Arizona   \n",
       "30  {'franchiseId': 38, 'teamName': 'Golden Knight...         Vegas   \n",
       "\n",
       "                       officialSiteUrl  franchiseId  active  \n",
       "0      http://www.newjerseydevils.com/           23    True  \n",
       "1     http://www.newyorkislanders.com/           22    True  \n",
       "2       http://www.newyorkrangers.com/           10    True  \n",
       "3   http://www.philadelphiaflyers.com/           16    True  \n",
       "4       http://pittsburghpenguins.com/           17    True  \n",
       "5         http://www.bostonbruins.com/            6    True  \n",
       "6               http://www.sabres.com/           19    True  \n",
       "7            http://www.canadiens.com/            1    True  \n",
       "8       http://www.ottawasenators.com/           30    True  \n",
       "9           http://www.mapleleafs.com/            5    True  \n",
       "10  http://www.carolinahurricanes.com/           26    True  \n",
       "11     http://www.floridapanthers.com/           33    True  \n",
       "12   http://www.tampabaylightning.com/           31    True  \n",
       "13  http://www.washingtoncapitals.com/           24    True  \n",
       "14   http://www.chicagoblackhawks.com/           11    True  \n",
       "15     http://www.detroitredwings.com/           12    True  \n",
       "16  http://www.nashvillepredators.com/           34    True  \n",
       "17        http://www.stlouisblues.com/           18    True  \n",
       "18       http://www.calgaryflames.com/           21    True  \n",
       "19   http://www.coloradoavalanche.com/           27    True  \n",
       "20      http://www.edmontonoilers.com/           25    True  \n",
       "21             http://www.canucks.com/           20    True  \n",
       "22        http://www.anaheimducks.com/           32    True  \n",
       "23         http://www.dallasstars.com/           15    True  \n",
       "24             http://www.lakings.com/           14    True  \n",
       "25            http://www.sjsharks.com/           29    True  \n",
       "26         http://www.bluejackets.com/           36    True  \n",
       "27                http://www.wild.com/           37    True  \n",
       "28            http://winnipegjets.com/           35    True  \n",
       "29      http://www.arizonacoyotes.com/           28    True  \n",
       "30  http://www.vegasgoldenknights.com/           38    True  "
      ]
     },
     "execution_count": 42,
     "metadata": {},
     "output_type": "execute_result"
    }
   ],
   "source": [
    "df_teams"
   ]
  },
  {
   "cell_type": "code",
   "execution_count": 53,
   "metadata": {},
   "outputs": [],
   "source": [
    "resp = requests.get('https://statsapi.web.nhl.com/api/v1/teams/2')"
   ]
  },
  {
   "cell_type": "code",
   "execution_count": 54,
   "metadata": {},
   "outputs": [],
   "source": [
    "resp_nyi_dict = resp.json()"
   ]
  },
  {
   "cell_type": "code",
   "execution_count": 55,
   "metadata": {},
   "outputs": [
    {
     "data": {
      "text/plain": [
       "dict_keys(['copyright', 'teams'])"
      ]
     },
     "execution_count": 55,
     "metadata": {},
     "output_type": "execute_result"
    }
   ],
   "source": [
    "resp_nyi_dict.keys()"
   ]
  },
  {
   "cell_type": "code",
   "execution_count": 56,
   "metadata": {},
   "outputs": [
    {
     "data": {
      "text/plain": [
       "[{'id': 2,\n",
       "  'name': 'New York Islanders',\n",
       "  'link': '/api/v1/teams/2',\n",
       "  'venue': {'id': 5026,\n",
       "   'name': 'Barclays Center',\n",
       "   'link': '/api/v1/venues/5026',\n",
       "   'city': 'Brooklyn',\n",
       "   'timeZone': {'id': 'America/New_York', 'offset': -5, 'tz': 'EST'}},\n",
       "  'abbreviation': 'NYI',\n",
       "  'teamName': 'Islanders',\n",
       "  'locationName': 'New York',\n",
       "  'firstYearOfPlay': '1972',\n",
       "  'division': {'id': 18,\n",
       "   'name': 'Metropolitan',\n",
       "   'nameShort': 'Metro',\n",
       "   'link': '/api/v1/divisions/18',\n",
       "   'abbreviation': 'M'},\n",
       "  'conference': {'id': 6, 'name': 'Eastern', 'link': '/api/v1/conferences/6'},\n",
       "  'franchise': {'franchiseId': 22,\n",
       "   'teamName': 'Islanders',\n",
       "   'link': '/api/v1/franchises/22'},\n",
       "  'shortName': 'NY Islanders',\n",
       "  'officialSiteUrl': 'http://www.newyorkislanders.com/',\n",
       "  'franchiseId': 22,\n",
       "  'active': True}]"
      ]
     },
     "execution_count": 56,
     "metadata": {},
     "output_type": "execute_result"
    }
   ],
   "source": [
    "resp_nyi_dict['teams']"
   ]
  },
  {
   "cell_type": "code",
   "execution_count": 58,
   "metadata": {},
   "outputs": [],
   "source": [
    "resp_nyi_roster = requests.get('https://statsapi.web.nhl.com/api/v1/teams/2/roster')"
   ]
  },
  {
   "cell_type": "code",
   "execution_count": 59,
   "metadata": {},
   "outputs": [],
   "source": [
    "resp_nyi_roster = resp_nyi_roster.json()"
   ]
  },
  {
   "cell_type": "code",
   "execution_count": 60,
   "metadata": {},
   "outputs": [
    {
     "data": {
      "text/plain": [
       "dict_keys(['copyright', 'roster', 'link'])"
      ]
     },
     "execution_count": 60,
     "metadata": {},
     "output_type": "execute_result"
    }
   ],
   "source": [
    "resp_nyi_roster.keys()"
   ]
  },
  {
   "cell_type": "code",
   "execution_count": 61,
   "metadata": {},
   "outputs": [],
   "source": [
    "df_isles_roster = pd.DataFrame(resp_nyi_roster['roster'])"
   ]
  },
  {
   "cell_type": "code",
   "execution_count": 62,
   "metadata": {},
   "outputs": [
    {
     "data": {
      "text/html": [
       "<div>\n",
       "<style scoped>\n",
       "    .dataframe tbody tr th:only-of-type {\n",
       "        vertical-align: middle;\n",
       "    }\n",
       "\n",
       "    .dataframe tbody tr th {\n",
       "        vertical-align: top;\n",
       "    }\n",
       "\n",
       "    .dataframe thead th {\n",
       "        text-align: right;\n",
       "    }\n",
       "</style>\n",
       "<table border=\"1\" class=\"dataframe\">\n",
       "  <thead>\n",
       "    <tr style=\"text-align: right;\">\n",
       "      <th></th>\n",
       "      <th>person</th>\n",
       "      <th>jerseyNumber</th>\n",
       "      <th>position</th>\n",
       "    </tr>\n",
       "  </thead>\n",
       "  <tbody>\n",
       "    <tr>\n",
       "      <th>0</th>\n",
       "      <td>{'id': 8474709, 'fullName': 'Matt Martin', 'li...</td>\n",
       "      <td>17</td>\n",
       "      <td>{'code': 'L', 'name': 'Left Wing', 'type': 'Fo...</td>\n",
       "    </tr>\n",
       "    <tr>\n",
       "      <th>1</th>\n",
       "      <td>{'id': 8475832, 'fullName': 'Tom Kuhnhackl', '...</td>\n",
       "      <td>14</td>\n",
       "      <td>{'code': 'R', 'name': 'Right Wing', 'type': 'F...</td>\n",
       "    </tr>\n",
       "    <tr>\n",
       "      <th>2</th>\n",
       "      <td>{'id': 8471217, 'fullName': 'Andrew Ladd', 'li...</td>\n",
       "      <td>16</td>\n",
       "      <td>{'code': 'L', 'name': 'Left Wing', 'type': 'Fo...</td>\n",
       "    </tr>\n",
       "    <tr>\n",
       "      <th>3</th>\n",
       "      <td>{'id': 8470187, 'fullName': 'Johnny Boychuk', ...</td>\n",
       "      <td>55</td>\n",
       "      <td>{'code': 'D', 'name': 'Defenseman', 'type': 'D...</td>\n",
       "    </tr>\n",
       "    <tr>\n",
       "      <th>4</th>\n",
       "      <td>{'id': 8471306, 'fullName': 'Thomas Greiss', '...</td>\n",
       "      <td>1</td>\n",
       "      <td>{'code': 'G', 'name': 'Goalie', 'type': 'Goali...</td>\n",
       "    </tr>\n",
       "    <tr>\n",
       "      <th>5</th>\n",
       "      <td>{'id': 8473463, 'fullName': 'Leo Komarov', 'li...</td>\n",
       "      <td>47</td>\n",
       "      <td>{'code': 'C', 'name': 'Center', 'type': 'Forwa...</td>\n",
       "    </tr>\n",
       "    <tr>\n",
       "      <th>6</th>\n",
       "      <td>{'id': 8473504, 'fullName': 'Cal Clutterbuck',...</td>\n",
       "      <td>15</td>\n",
       "      <td>{'code': 'R', 'name': 'Right Wing', 'type': 'F...</td>\n",
       "    </tr>\n",
       "    <tr>\n",
       "      <th>7</th>\n",
       "      <td>{'id': 8473544, 'fullName': 'Derick Brassard',...</td>\n",
       "      <td>10</td>\n",
       "      <td>{'code': 'C', 'name': 'Center', 'type': 'Forwa...</td>\n",
       "    </tr>\n",
       "    <tr>\n",
       "      <th>8</th>\n",
       "      <td>{'id': 8473575, 'fullName': 'Semyon Varlamov',...</td>\n",
       "      <td>40</td>\n",
       "      <td>{'code': 'G', 'name': 'Goalie', 'type': 'Goali...</td>\n",
       "    </tr>\n",
       "    <tr>\n",
       "      <th>9</th>\n",
       "      <td>{'id': 8474573, 'fullName': 'Josh Bailey', 'li...</td>\n",
       "      <td>12</td>\n",
       "      <td>{'code': 'C', 'name': 'Center', 'type': 'Forwa...</td>\n",
       "    </tr>\n",
       "    <tr>\n",
       "      <th>10</th>\n",
       "      <td>{'id': 8474586, 'fullName': 'Jordan Eberle', '...</td>\n",
       "      <td>7</td>\n",
       "      <td>{'code': 'C', 'name': 'Center', 'type': 'Forwa...</td>\n",
       "    </tr>\n",
       "    <tr>\n",
       "      <th>11</th>\n",
       "      <td>{'id': 8475181, 'fullName': 'Nick Leddy', 'lin...</td>\n",
       "      <td>2</td>\n",
       "      <td>{'code': 'D', 'name': 'Defenseman', 'type': 'D...</td>\n",
       "    </tr>\n",
       "    <tr>\n",
       "      <th>12</th>\n",
       "      <td>{'id': 8475231, 'fullName': 'Casey Cizikas', '...</td>\n",
       "      <td>53</td>\n",
       "      <td>{'code': 'C', 'name': 'Center', 'type': 'Forwa...</td>\n",
       "    </tr>\n",
       "    <tr>\n",
       "      <th>13</th>\n",
       "      <td>{'id': 8475314, 'fullName': 'Anders Lee', 'lin...</td>\n",
       "      <td>27</td>\n",
       "      <td>{'code': 'C', 'name': 'Center', 'type': 'Forwa...</td>\n",
       "    </tr>\n",
       "    <tr>\n",
       "      <th>14</th>\n",
       "      <td>{'id': 8475754, 'fullName': 'Brock Nelson', 'l...</td>\n",
       "      <td>29</td>\n",
       "      <td>{'code': 'C', 'name': 'Center', 'type': 'Forwa...</td>\n",
       "    </tr>\n",
       "    <tr>\n",
       "      <th>15</th>\n",
       "      <td>{'id': 8476429, 'fullName': 'Scott Mayfield', ...</td>\n",
       "      <td>24</td>\n",
       "      <td>{'code': 'D', 'name': 'Defenseman', 'type': 'D...</td>\n",
       "    </tr>\n",
       "    <tr>\n",
       "      <th>16</th>\n",
       "      <td>{'id': 8476917, 'fullName': 'Adam Pelech', 'li...</td>\n",
       "      <td>3</td>\n",
       "      <td>{'code': 'D', 'name': 'Defenseman', 'type': 'D...</td>\n",
       "    </tr>\n",
       "    <tr>\n",
       "      <th>17</th>\n",
       "      <td>{'id': 8477506, 'fullName': 'Ryan Pulock', 'li...</td>\n",
       "      <td>6</td>\n",
       "      <td>{'code': 'D', 'name': 'Defenseman', 'type': 'D...</td>\n",
       "    </tr>\n",
       "    <tr>\n",
       "      <th>18</th>\n",
       "      <td>{'id': 8477527, 'fullName': 'Ross Johnston', '...</td>\n",
       "      <td>32</td>\n",
       "      <td>{'code': 'L', 'name': 'Left Wing', 'type': 'Fo...</td>\n",
       "    </tr>\n",
       "    <tr>\n",
       "      <th>19</th>\n",
       "      <td>{'id': 8477936, 'fullName': 'Michael Dal Colle...</td>\n",
       "      <td>28</td>\n",
       "      <td>{'code': 'L', 'name': 'Left Wing', 'type': 'Fo...</td>\n",
       "    </tr>\n",
       "    <tr>\n",
       "      <th>20</th>\n",
       "      <td>{'id': 8478038, 'fullName': 'Devon Toews', 'li...</td>\n",
       "      <td>25</td>\n",
       "      <td>{'code': 'D', 'name': 'Defenseman', 'type': 'D...</td>\n",
       "    </tr>\n",
       "    <tr>\n",
       "      <th>21</th>\n",
       "      <td>{'id': 8478445, 'fullName': 'Mathew Barzal', '...</td>\n",
       "      <td>13</td>\n",
       "      <td>{'code': 'C', 'name': 'Center', 'type': 'Forwa...</td>\n",
       "    </tr>\n",
       "    <tr>\n",
       "      <th>22</th>\n",
       "      <td>{'id': 8478463, 'fullName': 'Anthony Beauvilli...</td>\n",
       "      <td>18</td>\n",
       "      <td>{'code': 'L', 'name': 'Left Wing', 'type': 'Fo...</td>\n",
       "    </tr>\n",
       "    <tr>\n",
       "      <th>23</th>\n",
       "      <td>{'id': 8479526, 'fullName': 'Otto Koivula', 'l...</td>\n",
       "      <td>21</td>\n",
       "      <td>{'code': 'L', 'name': 'Left Wing', 'type': 'Fo...</td>\n",
       "    </tr>\n",
       "    <tr>\n",
       "      <th>24</th>\n",
       "      <td>{'id': 8480865, 'fullName': 'Noah Dobson', 'li...</td>\n",
       "      <td>8</td>\n",
       "      <td>{'code': 'D', 'name': 'Defenseman', 'type': 'D...</td>\n",
       "    </tr>\n",
       "  </tbody>\n",
       "</table>\n",
       "</div>"
      ],
      "text/plain": [
       "                                               person jerseyNumber  \\\n",
       "0   {'id': 8474709, 'fullName': 'Matt Martin', 'li...           17   \n",
       "1   {'id': 8475832, 'fullName': 'Tom Kuhnhackl', '...           14   \n",
       "2   {'id': 8471217, 'fullName': 'Andrew Ladd', 'li...           16   \n",
       "3   {'id': 8470187, 'fullName': 'Johnny Boychuk', ...           55   \n",
       "4   {'id': 8471306, 'fullName': 'Thomas Greiss', '...            1   \n",
       "5   {'id': 8473463, 'fullName': 'Leo Komarov', 'li...           47   \n",
       "6   {'id': 8473504, 'fullName': 'Cal Clutterbuck',...           15   \n",
       "7   {'id': 8473544, 'fullName': 'Derick Brassard',...           10   \n",
       "8   {'id': 8473575, 'fullName': 'Semyon Varlamov',...           40   \n",
       "9   {'id': 8474573, 'fullName': 'Josh Bailey', 'li...           12   \n",
       "10  {'id': 8474586, 'fullName': 'Jordan Eberle', '...            7   \n",
       "11  {'id': 8475181, 'fullName': 'Nick Leddy', 'lin...            2   \n",
       "12  {'id': 8475231, 'fullName': 'Casey Cizikas', '...           53   \n",
       "13  {'id': 8475314, 'fullName': 'Anders Lee', 'lin...           27   \n",
       "14  {'id': 8475754, 'fullName': 'Brock Nelson', 'l...           29   \n",
       "15  {'id': 8476429, 'fullName': 'Scott Mayfield', ...           24   \n",
       "16  {'id': 8476917, 'fullName': 'Adam Pelech', 'li...            3   \n",
       "17  {'id': 8477506, 'fullName': 'Ryan Pulock', 'li...            6   \n",
       "18  {'id': 8477527, 'fullName': 'Ross Johnston', '...           32   \n",
       "19  {'id': 8477936, 'fullName': 'Michael Dal Colle...           28   \n",
       "20  {'id': 8478038, 'fullName': 'Devon Toews', 'li...           25   \n",
       "21  {'id': 8478445, 'fullName': 'Mathew Barzal', '...           13   \n",
       "22  {'id': 8478463, 'fullName': 'Anthony Beauvilli...           18   \n",
       "23  {'id': 8479526, 'fullName': 'Otto Koivula', 'l...           21   \n",
       "24  {'id': 8480865, 'fullName': 'Noah Dobson', 'li...            8   \n",
       "\n",
       "                                             position  \n",
       "0   {'code': 'L', 'name': 'Left Wing', 'type': 'Fo...  \n",
       "1   {'code': 'R', 'name': 'Right Wing', 'type': 'F...  \n",
       "2   {'code': 'L', 'name': 'Left Wing', 'type': 'Fo...  \n",
       "3   {'code': 'D', 'name': 'Defenseman', 'type': 'D...  \n",
       "4   {'code': 'G', 'name': 'Goalie', 'type': 'Goali...  \n",
       "5   {'code': 'C', 'name': 'Center', 'type': 'Forwa...  \n",
       "6   {'code': 'R', 'name': 'Right Wing', 'type': 'F...  \n",
       "7   {'code': 'C', 'name': 'Center', 'type': 'Forwa...  \n",
       "8   {'code': 'G', 'name': 'Goalie', 'type': 'Goali...  \n",
       "9   {'code': 'C', 'name': 'Center', 'type': 'Forwa...  \n",
       "10  {'code': 'C', 'name': 'Center', 'type': 'Forwa...  \n",
       "11  {'code': 'D', 'name': 'Defenseman', 'type': 'D...  \n",
       "12  {'code': 'C', 'name': 'Center', 'type': 'Forwa...  \n",
       "13  {'code': 'C', 'name': 'Center', 'type': 'Forwa...  \n",
       "14  {'code': 'C', 'name': 'Center', 'type': 'Forwa...  \n",
       "15  {'code': 'D', 'name': 'Defenseman', 'type': 'D...  \n",
       "16  {'code': 'D', 'name': 'Defenseman', 'type': 'D...  \n",
       "17  {'code': 'D', 'name': 'Defenseman', 'type': 'D...  \n",
       "18  {'code': 'L', 'name': 'Left Wing', 'type': 'Fo...  \n",
       "19  {'code': 'L', 'name': 'Left Wing', 'type': 'Fo...  \n",
       "20  {'code': 'D', 'name': 'Defenseman', 'type': 'D...  \n",
       "21  {'code': 'C', 'name': 'Center', 'type': 'Forwa...  \n",
       "22  {'code': 'L', 'name': 'Left Wing', 'type': 'Fo...  \n",
       "23  {'code': 'L', 'name': 'Left Wing', 'type': 'Fo...  \n",
       "24  {'code': 'D', 'name': 'Defenseman', 'type': 'D...  "
      ]
     },
     "execution_count": 62,
     "metadata": {},
     "output_type": "execute_result"
    }
   ],
   "source": [
    "df_isles_roster"
   ]
  },
  {
   "cell_type": "code",
   "execution_count": 1,
   "metadata": {},
   "outputs": [
    {
     "ename": "NameError",
     "evalue": "name 'df_nhl' is not defined",
     "output_type": "error",
     "traceback": [
      "\u001b[0;31m---------------------------------------------------------------------------\u001b[0m",
      "\u001b[0;31mNameError\u001b[0m                                 Traceback (most recent call last)",
      "\u001b[0;32m<ipython-input-1-6f5fdfc9a353>\u001b[0m in \u001b[0;36m<module>\u001b[0;34m\u001b[0m\n\u001b[0;32m----> 1\u001b[0;31m \u001b[0mdf_nhl\u001b[0m\u001b[0;34m\u001b[0m\u001b[0;34m\u001b[0m\u001b[0m\n\u001b[0m",
      "\u001b[0;31mNameError\u001b[0m: name 'df_nhl' is not defined"
     ]
    }
   ],
   "source": [
    "df_nhl"
   ]
  },
  {
   "cell_type": "code",
   "execution_count": 318,
   "metadata": {},
   "outputs": [
    {
     "name": "stdout",
     "output_type": "stream",
     "text": [
      "<class 'pandas.core.frame.DataFrame'>\n",
      "RangeIndex: 37825 entries, 0 to 37824\n",
      "Data columns (total 28 columns):\n",
      "Season    37825 non-null int64\n",
      "Player    37825 non-null object\n",
      "Age       37823 non-null float64\n",
      "Tm        37825 non-null object\n",
      "Pos       37825 non-null object\n",
      "GP        37825 non-null int64\n",
      "G         37825 non-null object\n",
      "GPG       37825 non-null float64\n",
      "A         37825 non-null object\n",
      "PTS       37825 non-null object\n",
      "+/-       33913 non-null object\n",
      "PIM       37824 non-null object\n",
      "EVG       34537 non-null object\n",
      "PPG       34537 non-null object\n",
      "SHG       34537 non-null object\n",
      "GWG       34537 non-null object\n",
      "EVA       33913 non-null object\n",
      "PPA       33913 non-null object\n",
      "SHA       33913 non-null object\n",
      "S         33911 non-null object\n",
      "S%        32723 non-null object\n",
      "TOI       16625 non-null object\n",
      "ATOI      16625 non-null object\n",
      "BLK       9674 non-null float64\n",
      "HIT       9684 non-null float64\n",
      "FOwin     9674 non-null float64\n",
      "FOloss    9674 non-null float64\n",
      "FO%       6149 non-null float64\n",
      "dtypes: float64(7), int64(2), object(19)\n",
      "memory usage: 8.1+ MB\n"
     ]
    }
   ],
   "source": [
    "df_nhl.info()"
   ]
  },
  {
   "cell_type": "code",
   "execution_count": 321,
   "metadata": {},
   "outputs": [
    {
     "data": {
      "text/html": [
       "<div>\n",
       "<style scoped>\n",
       "    .dataframe tbody tr th:only-of-type {\n",
       "        vertical-align: middle;\n",
       "    }\n",
       "\n",
       "    .dataframe tbody tr th {\n",
       "        vertical-align: top;\n",
       "    }\n",
       "\n",
       "    .dataframe thead th {\n",
       "        text-align: right;\n",
       "    }\n",
       "</style>\n",
       "<table border=\"1\" class=\"dataframe\">\n",
       "  <thead>\n",
       "    <tr style=\"text-align: right;\">\n",
       "      <th></th>\n",
       "      <th>Season</th>\n",
       "      <th>Player</th>\n",
       "      <th>Age</th>\n",
       "      <th>Tm</th>\n",
       "      <th>Pos</th>\n",
       "      <th>GP</th>\n",
       "      <th>G</th>\n",
       "      <th>GPG</th>\n",
       "      <th>A</th>\n",
       "      <th>PTS</th>\n",
       "      <th>...</th>\n",
       "      <th>SHA</th>\n",
       "      <th>S</th>\n",
       "      <th>S%</th>\n",
       "      <th>TOI</th>\n",
       "      <th>ATOI</th>\n",
       "      <th>BLK</th>\n",
       "      <th>HIT</th>\n",
       "      <th>FOwin</th>\n",
       "      <th>FOloss</th>\n",
       "      <th>FO%</th>\n",
       "    </tr>\n",
       "  </thead>\n",
       "  <tbody>\n",
       "    <tr>\n",
       "      <th>0</th>\n",
       "      <td>2018</td>\n",
       "      <td>Justin Abdelkader</td>\n",
       "      <td>30.0</td>\n",
       "      <td>DET</td>\n",
       "      <td>LW</td>\n",
       "      <td>75</td>\n",
       "      <td>13</td>\n",
       "      <td>0.1733</td>\n",
       "      <td>22</td>\n",
       "      <td>35</td>\n",
       "      <td>...</td>\n",
       "      <td>-</td>\n",
       "      <td>110</td>\n",
       "      <td>12</td>\n",
       "      <td>1,241</td>\n",
       "      <td>16:33</td>\n",
       "      <td>40.0</td>\n",
       "      <td>174.0</td>\n",
       "      <td>47.0</td>\n",
       "      <td>50.0</td>\n",
       "      <td>48.5</td>\n",
       "    </tr>\n",
       "    <tr>\n",
       "      <th>1</th>\n",
       "      <td>2018</td>\n",
       "      <td>Pontus Aberg</td>\n",
       "      <td>24.0</td>\n",
       "      <td>TOT</td>\n",
       "      <td>LW</td>\n",
       "      <td>53</td>\n",
       "      <td>4</td>\n",
       "      <td>0.0755</td>\n",
       "      <td>12</td>\n",
       "      <td>16</td>\n",
       "      <td>...</td>\n",
       "      <td>-</td>\n",
       "      <td>70</td>\n",
       "      <td>6</td>\n",
       "      <td>645</td>\n",
       "      <td>12:10</td>\n",
       "      <td>8.0</td>\n",
       "      <td>24.0</td>\n",
       "      <td>4.0</td>\n",
       "      <td>8.0</td>\n",
       "      <td>33.3</td>\n",
       "    </tr>\n",
       "    <tr>\n",
       "      <th>2</th>\n",
       "      <td>2018</td>\n",
       "      <td>Noel Acciari</td>\n",
       "      <td>26.0</td>\n",
       "      <td>BOS</td>\n",
       "      <td>C</td>\n",
       "      <td>60</td>\n",
       "      <td>10</td>\n",
       "      <td>0.1667</td>\n",
       "      <td>1</td>\n",
       "      <td>11</td>\n",
       "      <td>...</td>\n",
       "      <td>-</td>\n",
       "      <td>66</td>\n",
       "      <td>15</td>\n",
       "      <td>775</td>\n",
       "      <td>12:55</td>\n",
       "      <td>41.0</td>\n",
       "      <td>152.0</td>\n",
       "      <td>42.0</td>\n",
       "      <td>51.0</td>\n",
       "      <td>45.2</td>\n",
       "    </tr>\n",
       "    <tr>\n",
       "      <th>3</th>\n",
       "      <td>2018</td>\n",
       "      <td>Kenny Agostino</td>\n",
       "      <td>25.0</td>\n",
       "      <td>BOS</td>\n",
       "      <td>LW</td>\n",
       "      <td>5</td>\n",
       "      <td>-</td>\n",
       "      <td>0.0000</td>\n",
       "      <td>1</td>\n",
       "      <td>1</td>\n",
       "      <td>...</td>\n",
       "      <td>-</td>\n",
       "      <td>11</td>\n",
       "      <td>-</td>\n",
       "      <td>60</td>\n",
       "      <td>12:03</td>\n",
       "      <td>1.0</td>\n",
       "      <td>4.0</td>\n",
       "      <td>0.0</td>\n",
       "      <td>1.0</td>\n",
       "      <td>0.0</td>\n",
       "    </tr>\n",
       "    <tr>\n",
       "      <th>4</th>\n",
       "      <td>2018</td>\n",
       "      <td>Sebastian Aho</td>\n",
       "      <td>20.0</td>\n",
       "      <td>CAR</td>\n",
       "      <td>RW</td>\n",
       "      <td>78</td>\n",
       "      <td>29</td>\n",
       "      <td>0.3718</td>\n",
       "      <td>36</td>\n",
       "      <td>65</td>\n",
       "      <td>...</td>\n",
       "      <td>-</td>\n",
       "      <td>200</td>\n",
       "      <td>15</td>\n",
       "      <td>1,398</td>\n",
       "      <td>17:55</td>\n",
       "      <td>17.0</td>\n",
       "      <td>65.0</td>\n",
       "      <td>78.0</td>\n",
       "      <td>94.0</td>\n",
       "      <td>45.3</td>\n",
       "    </tr>\n",
       "    <tr>\n",
       "      <th>5</th>\n",
       "      <td>2018</td>\n",
       "      <td>Sebastian Aho</td>\n",
       "      <td>21.0</td>\n",
       "      <td>NYI</td>\n",
       "      <td>D</td>\n",
       "      <td>22</td>\n",
       "      <td>1</td>\n",
       "      <td>0.0455</td>\n",
       "      <td>3</td>\n",
       "      <td>4</td>\n",
       "      <td>...</td>\n",
       "      <td>-</td>\n",
       "      <td>24</td>\n",
       "      <td>4</td>\n",
       "      <td>357</td>\n",
       "      <td>16:15</td>\n",
       "      <td>13.0</td>\n",
       "      <td>10.0</td>\n",
       "      <td>0.0</td>\n",
       "      <td>1.0</td>\n",
       "      <td>0.0</td>\n",
       "    </tr>\n",
       "    <tr>\n",
       "      <th>6</th>\n",
       "      <td>2018</td>\n",
       "      <td>Mark Alt</td>\n",
       "      <td>26.0</td>\n",
       "      <td>TOT</td>\n",
       "      <td>D</td>\n",
       "      <td>15</td>\n",
       "      <td>-</td>\n",
       "      <td>0.0000</td>\n",
       "      <td>-</td>\n",
       "      <td>-</td>\n",
       "      <td>...</td>\n",
       "      <td>-</td>\n",
       "      <td>11</td>\n",
       "      <td>-</td>\n",
       "      <td>187</td>\n",
       "      <td>12:27</td>\n",
       "      <td>18.0</td>\n",
       "      <td>17.0</td>\n",
       "      <td>0.0</td>\n",
       "      <td>0.0</td>\n",
       "      <td>NaN</td>\n",
       "    </tr>\n",
       "    <tr>\n",
       "      <th>7</th>\n",
       "      <td>2018</td>\n",
       "      <td>Karl Alzner</td>\n",
       "      <td>29.0</td>\n",
       "      <td>MTL</td>\n",
       "      <td>D</td>\n",
       "      <td>82</td>\n",
       "      <td>1</td>\n",
       "      <td>0.0122</td>\n",
       "      <td>11</td>\n",
       "      <td>12</td>\n",
       "      <td>...</td>\n",
       "      <td>1</td>\n",
       "      <td>84</td>\n",
       "      <td>1</td>\n",
       "      <td>1,647</td>\n",
       "      <td>20:05</td>\n",
       "      <td>144.0</td>\n",
       "      <td>141.0</td>\n",
       "      <td>0.0</td>\n",
       "      <td>0.0</td>\n",
       "      <td>NaN</td>\n",
       "    </tr>\n",
       "    <tr>\n",
       "      <th>8</th>\n",
       "      <td>2018</td>\n",
       "      <td>Michael Amadio</td>\n",
       "      <td>21.0</td>\n",
       "      <td>LAK</td>\n",
       "      <td>C</td>\n",
       "      <td>37</td>\n",
       "      <td>4</td>\n",
       "      <td>0.1081</td>\n",
       "      <td>4</td>\n",
       "      <td>8</td>\n",
       "      <td>...</td>\n",
       "      <td>-</td>\n",
       "      <td>28</td>\n",
       "      <td>14</td>\n",
       "      <td>345</td>\n",
       "      <td>9:19</td>\n",
       "      <td>9.0</td>\n",
       "      <td>18.0</td>\n",
       "      <td>74.0</td>\n",
       "      <td>96.0</td>\n",
       "      <td>43.5</td>\n",
       "    </tr>\n",
       "    <tr>\n",
       "      <th>9</th>\n",
       "      <td>2018</td>\n",
       "      <td>Josh Anderson</td>\n",
       "      <td>23.0</td>\n",
       "      <td>CBJ</td>\n",
       "      <td>RW</td>\n",
       "      <td>63</td>\n",
       "      <td>19</td>\n",
       "      <td>0.3016</td>\n",
       "      <td>11</td>\n",
       "      <td>30</td>\n",
       "      <td>...</td>\n",
       "      <td>-</td>\n",
       "      <td>188</td>\n",
       "      <td>10</td>\n",
       "      <td>1,136</td>\n",
       "      <td>18:02</td>\n",
       "      <td>24.0</td>\n",
       "      <td>109.0</td>\n",
       "      <td>26.0</td>\n",
       "      <td>36.0</td>\n",
       "      <td>41.9</td>\n",
       "    </tr>\n",
       "  </tbody>\n",
       "</table>\n",
       "<p>10 rows × 28 columns</p>\n",
       "</div>"
      ],
      "text/plain": [
       "   Season             Player   Age     Tm   Pos  GP      G     GPG      A  \\\n",
       "0    2018  Justin Abdelkader  30.0   DET    LW   75    13   0.1733    22    \n",
       "1    2018       Pontus Aberg  24.0   TOT    LW   53     4   0.0755    12    \n",
       "2    2018       Noel Acciari  26.0   BOS     C   60    10   0.1667     1    \n",
       "3    2018     Kenny Agostino  25.0   BOS    LW    5   -     0.0000     1    \n",
       "4    2018      Sebastian Aho  20.0   CAR    RW   78    29   0.3718    36    \n",
       "5    2018      Sebastian Aho  21.0   NYI     D   22     1   0.0455     3    \n",
       "6    2018           Mark Alt  26.0   TOT     D   15   -     0.0000   -      \n",
       "7    2018        Karl Alzner  29.0   MTL     D   82     1   0.0122    11    \n",
       "8    2018     Michael Amadio  21.0   LAK     C   37     4   0.1081     4    \n",
       "9    2018      Josh Anderson  23.0   CBJ    RW   63    19   0.3016    11    \n",
       "\n",
       "     PTS  ...    SHA      S     S%      TOI   ATOI    BLK    HIT FOwin FOloss  \\\n",
       "0    35   ...   -      110     12    1,241   16:33   40.0  174.0  47.0   50.0   \n",
       "1    16   ...   -       70      6      645   12:10    8.0   24.0   4.0    8.0   \n",
       "2    11   ...   -       66     15      775   12:55   41.0  152.0  42.0   51.0   \n",
       "3     1   ...   -       11    -         60   12:03    1.0    4.0   0.0    1.0   \n",
       "4    65   ...   -      200     15    1,398   17:55   17.0   65.0  78.0   94.0   \n",
       "5     4   ...   -       24      4      357   16:15   13.0   10.0   0.0    1.0   \n",
       "6   -     ...   -       11    -        187   12:27   18.0   17.0   0.0    0.0   \n",
       "7    12   ...     1     84      1    1,647   20:05  144.0  141.0   0.0    0.0   \n",
       "8     8   ...   -       28     14      345    9:19    9.0   18.0  74.0   96.0   \n",
       "9    30   ...   -      188     10    1,136   18:02   24.0  109.0  26.0   36.0   \n",
       "\n",
       "    FO%  \n",
       "0  48.5  \n",
       "1  33.3  \n",
       "2  45.2  \n",
       "3   0.0  \n",
       "4  45.3  \n",
       "5   0.0  \n",
       "6   NaN  \n",
       "7   NaN  \n",
       "8  43.5  \n",
       "9  41.9  \n",
       "\n",
       "[10 rows x 28 columns]"
      ]
     },
     "execution_count": 321,
     "metadata": {},
     "output_type": "execute_result"
    }
   ],
   "source": [
    "df_nhl.head(10)"
   ]
  },
  {
   "cell_type": "markdown",
   "metadata": {},
   "source": [
    "### Cohen's D tto show that there is some kind of importance and the change is not trivial.\n",
    "\n",
    "Think about paired t-test as well between means from seasons before change to seasons after change.  Maybe 2000-06 and 06-10.\n",
    "\n",
    "Bootstrapping before aggregating into years may be more informative.\n",
    "\n",
    "NEVER MIND MURAT SAYS NONE OF THIS WORKS\n"
   ]
  },
  {
   "cell_type": "code",
   "execution_count": 324,
   "metadata": {},
   "outputs": [
    {
     "name": "stdout",
     "output_type": "stream",
     "text": [
      "<class 'pandas.core.frame.DataFrame'>\n",
      "RangeIndex: 37825 entries, 0 to 37824\n",
      "Data columns (total 28 columns):\n",
      "Season    37825 non-null int64\n",
      "Player    37825 non-null object\n",
      "Age       37823 non-null float64\n",
      "Tm        37825 non-null object\n",
      "Pos       37825 non-null object\n",
      "GP        37825 non-null int64\n",
      "G         37825 non-null object\n",
      "GPG       37825 non-null float64\n",
      "A         37825 non-null object\n",
      "PTS       37825 non-null object\n",
      "+/-       33913 non-null object\n",
      "PIM       37824 non-null object\n",
      "EVG       34537 non-null object\n",
      "PPG       34537 non-null object\n",
      "SHG       34537 non-null object\n",
      "GWG       34537 non-null object\n",
      "EVA       33913 non-null object\n",
      "PPA       33913 non-null object\n",
      "SHA       33913 non-null object\n",
      "S         33911 non-null object\n",
      "S%        32723 non-null object\n",
      "TOI       16625 non-null object\n",
      "ATOI      16625 non-null object\n",
      "BLK       9674 non-null float64\n",
      "HIT       9684 non-null float64\n",
      "FOwin     9674 non-null float64\n",
      "FOloss    9674 non-null float64\n",
      "FO%       6149 non-null float64\n",
      "dtypes: float64(7), int64(2), object(19)\n",
      "memory usage: 8.1+ MB\n"
     ]
    }
   ],
   "source": [
    "df_nhl.info()"
   ]
  },
  {
   "cell_type": "markdown",
   "metadata": {},
   "source": [
    "### For tomorrow:\n",
    "\n",
    "Change idea to show that the rule changes from 2003-04 to 2005-06 did in fact result in a statisically significant increase in goals.\n",
    "\n",
    "For second question, figure out if players really do decline after 30.  Is there a statistically signiifcant decrease in points scored by a player after 30?\n",
    "\n",
    "Maybe do the save percentage thing as well?  It's a different question."
   ]
  },
  {
   "cell_type": "code",
   "execution_count": null,
   "metadata": {},
   "outputs": [],
   "source": []
  }
 ],
 "metadata": {
  "kernelspec": {
   "display_name": "Python 3",
   "language": "python",
   "name": "python3"
  },
  "language_info": {
   "codemirror_mode": {
    "name": "ipython",
    "version": 3
   },
   "file_extension": ".py",
   "mimetype": "text/x-python",
   "name": "python",
   "nbconvert_exporter": "python",
   "pygments_lexer": "ipython3",
   "version": "3.7.3"
  }
 },
 "nbformat": 4,
 "nbformat_minor": 2
}
