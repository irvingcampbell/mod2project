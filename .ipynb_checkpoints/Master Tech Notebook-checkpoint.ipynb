{
 "cells": [
  {
   "cell_type": "markdown",
   "metadata": {},
   "source": [
    "# Technical Notebook: Buddy Bernhard and Irving Campbell"
   ]
  },
  {
   "cell_type": "markdown",
   "metadata": {},
   "source": [
    "## TWO QUESTIONS (in no particular order)\n",
    "\n",
    "### 1. It is said that after age 30, a player becomes \"too old\" for hockey.  But is that really true?  We form our null and alternative hypotheses to be:\n",
    "\n",
    "#### H0: In comparing the point totals from the seasons when an NHL forward turns 30 and when that same NHL forward turns 31, there is either no difference or net positive change in points scored by the forward in the later season.\n",
    "\n",
    "#### Ha: In comparing the point totals from the seasons when an NHL forward turns 30 and when that same NHL forward turns 31, there is a net negative change in points scored by the forward in the later season.\n",
    "\n",
    "### 2. In the 2005-06 offseason, some changes were made to the rulebook.  It is known that these changes were made in an attempt to increase scoring in the league.   We form our null and alternative hypotheses to be:\n",
    "\n",
    "#### H0: There is no statistically significant difference between teams' goals scored per game between the season before rule change (2003-2004) and the season after the rule change (2005-2006).\n",
    "\n",
    "#### Ha: There is a statistically significant difference between teams' goals scored per game between the season before rule change (2003-2004) and the season after the rule change (2005-2006)."
   ]
  },
  {
   "cell_type": "markdown",
   "metadata": {},
   "source": [
    "# QUESTION 1"
   ]
  },
  {
   "cell_type": "markdown",
   "metadata": {},
   "source": [
    "##### Import appropriate packages:"
   ]
  },
  {
   "cell_type": "code",
   "execution_count": 1,
   "metadata": {},
   "outputs": [],
   "source": [
    "import requests\n",
    "import pandas as pd\n",
    "import json\n",
    "import matplotlib.pyplot as plt  \n",
    "import numpy as np\n",
    "import seaborn as sns\n",
    "import scipy.stats as stats\n",
    "import statsmodels.stats as sm"
   ]
  },
  {
   "cell_type": "markdown",
   "metadata": {},
   "source": [
    "##### We found two separate data sources: a skater statistics database downloadable at http://inalitic.com/datasets/nhl%20player%20data.html and a list of team statistics gotten from the NHL API."
   ]
  },
  {
   "cell_type": "code",
   "execution_count": 2,
   "metadata": {
    "scrolled": false
   },
   "outputs": [
    {
     "name": "stderr",
     "output_type": "stream",
     "text": [
      "//anaconda3/lib/python3.7/site-packages/IPython/core/interactiveshell.py:3058: DtypeWarning: Columns (22,23) have mixed types. Specify dtype option on import or set low_memory=False.\n",
      "  interactivity=interactivity, compiler=compiler, result=result)\n"
     ]
    }
   ],
   "source": [
    "df = pd.read_csv('skater_stats.csv', encoding='latin1')"
   ]
  },
  {
   "cell_type": "code",
   "execution_count": 3,
   "metadata": {},
   "outputs": [
    {
     "data": {
      "text/html": [
       "<div>\n",
       "<style scoped>\n",
       "    .dataframe tbody tr th:only-of-type {\n",
       "        vertical-align: middle;\n",
       "    }\n",
       "\n",
       "    .dataframe tbody tr th {\n",
       "        vertical-align: top;\n",
       "    }\n",
       "\n",
       "    .dataframe thead th {\n",
       "        text-align: right;\n",
       "    }\n",
       "</style>\n",
       "<table border=\"1\" class=\"dataframe\">\n",
       "  <thead>\n",
       "    <tr style=\"text-align: right;\">\n",
       "      <th></th>\n",
       "      <th>Season</th>\n",
       "      <th>Player</th>\n",
       "      <th>Age</th>\n",
       "      <th>Tm</th>\n",
       "      <th>Pos</th>\n",
       "      <th>GP</th>\n",
       "      <th>G</th>\n",
       "      <th>GPG</th>\n",
       "      <th>A</th>\n",
       "      <th>PTS</th>\n",
       "      <th>...</th>\n",
       "      <th>SHA</th>\n",
       "      <th>S</th>\n",
       "      <th>S%</th>\n",
       "      <th>TOI</th>\n",
       "      <th>ATOI</th>\n",
       "      <th>BLK</th>\n",
       "      <th>HIT</th>\n",
       "      <th>FOwin</th>\n",
       "      <th>FOloss</th>\n",
       "      <th>FO%</th>\n",
       "    </tr>\n",
       "  </thead>\n",
       "  <tbody>\n",
       "    <tr>\n",
       "      <th>0</th>\n",
       "      <td>2018</td>\n",
       "      <td>Justin Abdelkader</td>\n",
       "      <td>30.0</td>\n",
       "      <td>DET</td>\n",
       "      <td>LW</td>\n",
       "      <td>75</td>\n",
       "      <td>13</td>\n",
       "      <td>0.1733</td>\n",
       "      <td>22</td>\n",
       "      <td>35</td>\n",
       "      <td>...</td>\n",
       "      <td>-</td>\n",
       "      <td>110</td>\n",
       "      <td>12</td>\n",
       "      <td>1,241</td>\n",
       "      <td>16:33</td>\n",
       "      <td>40.0</td>\n",
       "      <td>174.0</td>\n",
       "      <td>47.0</td>\n",
       "      <td>50.0</td>\n",
       "      <td>48.5</td>\n",
       "    </tr>\n",
       "    <tr>\n",
       "      <th>1</th>\n",
       "      <td>2018</td>\n",
       "      <td>Pontus Aberg</td>\n",
       "      <td>24.0</td>\n",
       "      <td>TOT</td>\n",
       "      <td>LW</td>\n",
       "      <td>53</td>\n",
       "      <td>4</td>\n",
       "      <td>0.0755</td>\n",
       "      <td>12</td>\n",
       "      <td>16</td>\n",
       "      <td>...</td>\n",
       "      <td>-</td>\n",
       "      <td>70</td>\n",
       "      <td>6</td>\n",
       "      <td>645</td>\n",
       "      <td>12:10</td>\n",
       "      <td>8.0</td>\n",
       "      <td>24.0</td>\n",
       "      <td>4.0</td>\n",
       "      <td>8.0</td>\n",
       "      <td>33.3</td>\n",
       "    </tr>\n",
       "    <tr>\n",
       "      <th>2</th>\n",
       "      <td>2018</td>\n",
       "      <td>Noel Acciari</td>\n",
       "      <td>26.0</td>\n",
       "      <td>BOS</td>\n",
       "      <td>C</td>\n",
       "      <td>60</td>\n",
       "      <td>10</td>\n",
       "      <td>0.1667</td>\n",
       "      <td>1</td>\n",
       "      <td>11</td>\n",
       "      <td>...</td>\n",
       "      <td>-</td>\n",
       "      <td>66</td>\n",
       "      <td>15</td>\n",
       "      <td>775</td>\n",
       "      <td>12:55</td>\n",
       "      <td>41.0</td>\n",
       "      <td>152.0</td>\n",
       "      <td>42.0</td>\n",
       "      <td>51.0</td>\n",
       "      <td>45.2</td>\n",
       "    </tr>\n",
       "    <tr>\n",
       "      <th>3</th>\n",
       "      <td>2018</td>\n",
       "      <td>Kenny Agostino</td>\n",
       "      <td>25.0</td>\n",
       "      <td>BOS</td>\n",
       "      <td>LW</td>\n",
       "      <td>5</td>\n",
       "      <td>-</td>\n",
       "      <td>0.0000</td>\n",
       "      <td>1</td>\n",
       "      <td>1</td>\n",
       "      <td>...</td>\n",
       "      <td>-</td>\n",
       "      <td>11</td>\n",
       "      <td>-</td>\n",
       "      <td>60</td>\n",
       "      <td>12:03</td>\n",
       "      <td>1.0</td>\n",
       "      <td>4.0</td>\n",
       "      <td>0.0</td>\n",
       "      <td>1.0</td>\n",
       "      <td>0.0</td>\n",
       "    </tr>\n",
       "    <tr>\n",
       "      <th>4</th>\n",
       "      <td>2018</td>\n",
       "      <td>Sebastian Aho</td>\n",
       "      <td>20.0</td>\n",
       "      <td>CAR</td>\n",
       "      <td>RW</td>\n",
       "      <td>78</td>\n",
       "      <td>29</td>\n",
       "      <td>0.3718</td>\n",
       "      <td>36</td>\n",
       "      <td>65</td>\n",
       "      <td>...</td>\n",
       "      <td>-</td>\n",
       "      <td>200</td>\n",
       "      <td>15</td>\n",
       "      <td>1,398</td>\n",
       "      <td>17:55</td>\n",
       "      <td>17.0</td>\n",
       "      <td>65.0</td>\n",
       "      <td>78.0</td>\n",
       "      <td>94.0</td>\n",
       "      <td>45.3</td>\n",
       "    </tr>\n",
       "    <tr>\n",
       "      <th>8</th>\n",
       "      <td>2018</td>\n",
       "      <td>Michael Amadio</td>\n",
       "      <td>21.0</td>\n",
       "      <td>LAK</td>\n",
       "      <td>C</td>\n",
       "      <td>37</td>\n",
       "      <td>4</td>\n",
       "      <td>0.1081</td>\n",
       "      <td>4</td>\n",
       "      <td>8</td>\n",
       "      <td>...</td>\n",
       "      <td>-</td>\n",
       "      <td>28</td>\n",
       "      <td>14</td>\n",
       "      <td>345</td>\n",
       "      <td>9:19</td>\n",
       "      <td>9.0</td>\n",
       "      <td>18.0</td>\n",
       "      <td>74.0</td>\n",
       "      <td>96.0</td>\n",
       "      <td>43.5</td>\n",
       "    </tr>\n",
       "    <tr>\n",
       "      <th>9</th>\n",
       "      <td>2018</td>\n",
       "      <td>Josh Anderson</td>\n",
       "      <td>23.0</td>\n",
       "      <td>CBJ</td>\n",
       "      <td>RW</td>\n",
       "      <td>63</td>\n",
       "      <td>19</td>\n",
       "      <td>0.3016</td>\n",
       "      <td>11</td>\n",
       "      <td>30</td>\n",
       "      <td>...</td>\n",
       "      <td>-</td>\n",
       "      <td>188</td>\n",
       "      <td>10</td>\n",
       "      <td>1,136</td>\n",
       "      <td>18:02</td>\n",
       "      <td>24.0</td>\n",
       "      <td>109.0</td>\n",
       "      <td>26.0</td>\n",
       "      <td>36.0</td>\n",
       "      <td>41.9</td>\n",
       "    </tr>\n",
       "    <tr>\n",
       "      <th>10</th>\n",
       "      <td>2018</td>\n",
       "      <td>Lias Andersson</td>\n",
       "      <td>19.0</td>\n",
       "      <td>NYR</td>\n",
       "      <td>C</td>\n",
       "      <td>7</td>\n",
       "      <td>1</td>\n",
       "      <td>0.1429</td>\n",
       "      <td>1</td>\n",
       "      <td>2</td>\n",
       "      <td>...</td>\n",
       "      <td>-</td>\n",
       "      <td>5</td>\n",
       "      <td>20</td>\n",
       "      <td>84</td>\n",
       "      <td>11:57</td>\n",
       "      <td>3.0</td>\n",
       "      <td>9.0</td>\n",
       "      <td>19.0</td>\n",
       "      <td>28.0</td>\n",
       "      <td>40.4</td>\n",
       "    </tr>\n",
       "    <tr>\n",
       "      <th>12</th>\n",
       "      <td>2018</td>\n",
       "      <td>Andy Andreoff</td>\n",
       "      <td>26.0</td>\n",
       "      <td>LAK</td>\n",
       "      <td>LW</td>\n",
       "      <td>45</td>\n",
       "      <td>3</td>\n",
       "      <td>0.0667</td>\n",
       "      <td>6</td>\n",
       "      <td>9</td>\n",
       "      <td>...</td>\n",
       "      <td>-</td>\n",
       "      <td>47</td>\n",
       "      <td>6</td>\n",
       "      <td>423</td>\n",
       "      <td>9:23</td>\n",
       "      <td>11.0</td>\n",
       "      <td>77.0</td>\n",
       "      <td>24.0</td>\n",
       "      <td>29.0</td>\n",
       "      <td>45.3</td>\n",
       "    </tr>\n",
       "    <tr>\n",
       "      <th>13</th>\n",
       "      <td>2018</td>\n",
       "      <td>Sven Andrighetto</td>\n",
       "      <td>24.0</td>\n",
       "      <td>COL</td>\n",
       "      <td>RW</td>\n",
       "      <td>50</td>\n",
       "      <td>8</td>\n",
       "      <td>0.1600</td>\n",
       "      <td>14</td>\n",
       "      <td>22</td>\n",
       "      <td>...</td>\n",
       "      <td>-</td>\n",
       "      <td>111</td>\n",
       "      <td>7</td>\n",
       "      <td>724</td>\n",
       "      <td>14:29</td>\n",
       "      <td>18.0</td>\n",
       "      <td>38.0</td>\n",
       "      <td>7.0</td>\n",
       "      <td>15.0</td>\n",
       "      <td>31.8</td>\n",
       "    </tr>\n",
       "  </tbody>\n",
       "</table>\n",
       "<p>10 rows × 28 columns</p>\n",
       "</div>"
      ],
      "text/plain": [
       "    Season             Player   Age     Tm   Pos  GP      G     GPG     A  \\\n",
       "0     2018  Justin Abdelkader  30.0   DET    LW   75    13   0.1733   22    \n",
       "1     2018       Pontus Aberg  24.0   TOT    LW   53     4   0.0755   12    \n",
       "2     2018       Noel Acciari  26.0   BOS     C   60    10   0.1667    1    \n",
       "3     2018     Kenny Agostino  25.0   BOS    LW    5   -     0.0000    1    \n",
       "4     2018      Sebastian Aho  20.0   CAR    RW   78    29   0.3718   36    \n",
       "8     2018     Michael Amadio  21.0   LAK     C   37     4   0.1081    4    \n",
       "9     2018      Josh Anderson  23.0   CBJ    RW   63    19   0.3016   11    \n",
       "10    2018     Lias Andersson  19.0   NYR     C    7     1   0.1429    1    \n",
       "12    2018      Andy Andreoff  26.0   LAK    LW   45     3   0.0667    6    \n",
       "13    2018   Sven Andrighetto  24.0   COL    RW   50     8   0.1600   14    \n",
       "\n",
       "     PTS  ...    SHA      S     S%      TOI   ATOI   BLK    HIT FOwin FOloss  \\\n",
       "0    35   ...   -      110     12    1,241   16:33  40.0  174.0  47.0   50.0   \n",
       "1    16   ...   -       70      6      645   12:10   8.0   24.0   4.0    8.0   \n",
       "2    11   ...   -       66     15      775   12:55  41.0  152.0  42.0   51.0   \n",
       "3     1   ...   -       11    -         60   12:03   1.0    4.0   0.0    1.0   \n",
       "4    65   ...   -      200     15    1,398   17:55  17.0   65.0  78.0   94.0   \n",
       "8     8   ...   -       28     14      345    9:19   9.0   18.0  74.0   96.0   \n",
       "9    30   ...   -      188     10    1,136   18:02  24.0  109.0  26.0   36.0   \n",
       "10    2   ...   -        5     20       84   11:57   3.0    9.0  19.0   28.0   \n",
       "12    9   ...   -       47      6      423    9:23  11.0   77.0  24.0   29.0   \n",
       "13   22   ...   -      111      7      724   14:29  18.0   38.0   7.0   15.0   \n",
       "\n",
       "     FO%  \n",
       "0   48.5  \n",
       "1   33.3  \n",
       "2   45.2  \n",
       "3    0.0  \n",
       "4   45.3  \n",
       "8   43.5  \n",
       "9   41.9  \n",
       "10  40.4  \n",
       "12  45.3  \n",
       "13  31.8  \n",
       "\n",
       "[10 rows x 28 columns]"
      ]
     },
     "execution_count": 3,
     "metadata": {},
     "output_type": "execute_result"
    }
   ],
   "source": [
    "# Quick DataFrame cleanup.  Here we are looking at scoring points, so we\n",
    "# are purposefully not looking at defensemen.  They are dropped from the\n",
    "# DataFrame.\n",
    "\n",
    "df = df.drop('Unnamed: 0', axis = 1)\n",
    "d_men = df[df.Pos == \" D \"].index\n",
    "df.drop(d_men, inplace=True)\n",
    "\n",
    "df.head(10)"
   ]
  },
  {
   "cell_type": "code",
   "execution_count": 4,
   "metadata": {
    "scrolled": true
   },
   "outputs": [],
   "source": [
    "# Initializing variables\n",
    "players_30 = []\n",
    "df_30 = df.loc[df.Age == 30.0]\n",
    "df_31 = df.loc[df.Age == 31.0]\n",
    "df_35 = df.loc[df.Age == 35.0]\n",
    "series_30 = df_30.Player\n",
    "series_31 = df_31.Player\n",
    "series_35 = df_35.Player\n",
    "player_dict_30 = {}\n",
    "player_dict_31 = {}\n",
    "player_dict_35 = {}\n",
    "\n",
    "# The csv includes asterisks after some player names.  The next two\n",
    "# for loops remove these asterisks and add {name: [points, games]} as a\n",
    "# new dictionary entry\n",
    "\n",
    "for key30, value30 in series_30.iteritems():\n",
    "    if value30 not in player_dict_30.keys():\n",
    "        if value30.endswith('*'):\n",
    "            player_dict_30[value30[:-1]] = df.loc[key30, ['PTS', 'GP']]\n",
    "        else:\n",
    "            player_dict_30[value30] = df.loc[key30, ['PTS', 'GP']]\n",
    "            \n",
    "for key31, value31 in series_31.iteritems():\n",
    "    if value31 not in player_dict_31.keys():\n",
    "        if value31.endswith('*'):\n",
    "            player_dict_31[value31[:-1]] = df.loc[key31, ['PTS', 'GP']]\n",
    "        else:\n",
    "            player_dict_31[value31] = df.loc[key31, ['PTS', 'GP']]\n",
    "            \n",
    "for key35, value35 in series_35.iteritems():\n",
    "    if value35 not in player_dict_35.keys():\n",
    "        if value35.endswith('*'):\n",
    "            player_dict_35[value35[:-1]] = df.loc[key35, ['PTS', 'GP']]\n",
    "        else:\n",
    "            player_dict_35[value35] = df.loc[key35, ['PTS', 'GP']]"
   ]
  },
  {
   "cell_type": "code",
   "execution_count": 5,
   "metadata": {},
   "outputs": [],
   "source": [
    "# Initialize variables\n",
    "dict_diff_3031 = {}\n",
    "dict_diff_3035 = {}\n",
    "ppg30 = 0\n",
    "ppg31 = 0\n",
    "ppg35 = 0\n",
    "\n",
    "# Making all point totals int values.  Also correctly changes point\n",
    "# values from ' -  ' to 0.\n",
    "for key,value in player_dict_30.items():\n",
    "    if value.PTS == ' -   ':\n",
    "        value.PTS = 0\n",
    "    else:\n",
    "        value.PTS = int(value.PTS)\n",
    "\n",
    "for key,value in player_dict_31.items():\n",
    "    if value.PTS == ' -   ':\n",
    "        value.PTS = 0\n",
    "    else:\n",
    "        value.PTS = int(value.PTS)\n",
    "        \n",
    "for key,value in player_dict_35.items():\n",
    "    if value.PTS == ' -   ':\n",
    "        value.PTS = 0\n",
    "    else:\n",
    "        value.PTS = int(value.PTS)\n",
    "\n",
    "# If the name exists in our 30-year-old player dictionary and our\n",
    "# 31-year-old player dictionary, then we calculate points per game for\n",
    "# each and enter {name: [ppg at 30, ppg at 31]} as a new dictionary entry.\n",
    "# The same thing is done between 30- and 35-year-old players.\n",
    "for key30, value30 in player_dict_30.items():\n",
    "    if key30 in player_dict_31.keys():\n",
    "        ppg30 = (value30.PTS/value30.GP)\n",
    "        ppg31 = (player_dict_31[key30].PTS/player_dict_31[key30].GP)\n",
    "        dict_diff_3031[key30] = [ppg30, ppg31]\n",
    "        \n",
    "    if key30 in player_dict_35.keys():\n",
    "        ppg30 = (value30.PTS/value30.GP)\n",
    "        ppg35 = (player_dict_35[key30].PTS/player_dict_35[key30].GP)\n",
    "        dict_diff_3035[key30] = [ppg30, ppg35]"
   ]
  },
  {
   "cell_type": "code",
   "execution_count": 6,
   "metadata": {},
   "outputs": [],
   "source": [
    "# Initialize values\n",
    "dict_30_ppg_for_31 = []\n",
    "dict_30_ppg_for_35 = []\n",
    "dict_31_ppg = []\n",
    "dict_35_ppg = []\n",
    "\n",
    "# Make 30-year-old ppg list and 31-year-old ppg list for direct\n",
    "# comparison\n",
    "for key, value in dict_diff_3031.items():\n",
    "    dict_30_ppg_for_31.append(value[0])\n",
    "    dict_31_ppg.append(value[1])\n",
    "    \n",
    "for key, value in dict_diff_3035.items():\n",
    "    dict_30_ppg_for_35.append(value[0])\n",
    "    dict_35_ppg.append(value[1])"
   ]
  },
  {
   "cell_type": "markdown",
   "metadata": {},
   "source": [
    "##### The next cell shows that there is a statistically significant decrease in points when comparing seasons when the forward is 30 and 31.  It also shows that there is a statistically significant decrease in points when comparing the forwards' 30- and 35-year old seasons."
   ]
  },
  {
   "cell_type": "code",
   "execution_count": 7,
   "metadata": {
    "scrolled": false
   },
   "outputs": [
    {
     "name": "stdout",
     "output_type": "stream",
     "text": [
      "Between ages 30 and 31, our paired t-test result is\n",
      "   Ttest_relResult(statistic=7.556196786277496, pvalue=1.0173574094877106e-13)\n",
      "Between ages 30 and 35, our paired t-test result is\n",
      "   Ttest_relResult(statistic=11.84727847357693, pvalue=6.016046360150265e-27)\n"
     ]
    }
   ],
   "source": [
    "# Paired t-test\n",
    "\n",
    "print(f'Between ages 30 and 31, our paired t-test result is\\n   {stats.ttest_rel(dict_30_ppg_for_31, dict_31_ppg)}')\n",
    "print(f'Between ages 30 and 35, our paired t-test result is\\n   {stats.ttest_rel(dict_30_ppg_for_35, dict_35_ppg)}')"
   ]
  },
  {
   "cell_type": "markdown",
   "metadata": {},
   "source": [
    "#### The next few cells define a fuction for the calculation of Cohen's d and the application of the function to the test statistics.  A discussion of the results follows below the cells."
   ]
  },
  {
   "cell_type": "code",
   "execution_count": 8,
   "metadata": {},
   "outputs": [],
   "source": [
    "# Quick Cohen's d implementation to check importance\n",
    "\n",
    "def cohen_d(x,y):\n",
    "    nx = len(x)\n",
    "    ny = len(y)\n",
    "    dof = nx + ny - 2\n",
    "    return (np.average(x) - np.average(y)) / np.sqrt(((nx-1)*np.std(x, ddof=1) ** 2 + (ny-1)*np.std(y, ddof=1) ** 2) / dof)"
   ]
  },
  {
   "cell_type": "code",
   "execution_count": 9,
   "metadata": {},
   "outputs": [],
   "source": [
    "d_3031 = cohen_d(dict_30_ppg_for_31, dict_31_ppg)"
   ]
  },
  {
   "cell_type": "code",
   "execution_count": 10,
   "metadata": {},
   "outputs": [],
   "source": [
    "d_3035 = cohen_d(dict_30_ppg_for_35, dict_35_ppg)"
   ]
  },
  {
   "cell_type": "code",
   "execution_count": 11,
   "metadata": {},
   "outputs": [],
   "source": [
    "avg_3035 = (np.average(dict_30_ppg_for_35) - np.average(dict_35_ppg))*82\n",
    "avg_3031 = (np.average(dict_30_ppg_for_31) - np.average(dict_31_ppg))*82"
   ]
  },
  {
   "cell_type": "code",
   "execution_count": 12,
   "metadata": {},
   "outputs": [
    {
     "name": "stdout",
     "output_type": "stream",
     "text": [
      "Cohen's d statistics between 30/31 year old forwards and 30/35 year old forwards:\n",
      "For 30 to 31: 0.164\n",
      "For 30 to 35: 0.5488\n",
      "\n",
      "The average points per game dropped extended over a whole 82 game season:\n",
      "From 30 to 31: 4.237\n",
      "From 30 to 35: 14.0411\n"
     ]
    }
   ],
   "source": [
    "print(f'Cohen\\'s d statistics between 30/31 year old forwards and 30/35 year old forwards:')\n",
    "print(f'For 30 to 31: {round(d_3031, 4)}')\n",
    "print(f'For 30 to 35: {round(d_3035, 4)}')\n",
    "print()\n",
    "print('The average points per game dropped extended over a whole 82 game season:')\n",
    "print(f'From 30 to 31: {round(avg_3031, 4)}')\n",
    "print(f'From 30 to 35: {round(avg_3035, 4)}')\n"
   ]
  },
  {
   "cell_type": "markdown",
   "metadata": {},
   "source": [
    "#### The Cohen's d stats show that, while both of the t-tests showed a significance to the result of a net decrease in points, the importance of turning from 30 to 31 was pretty small ('small importance' is smaller than 0.2).   Turning from 30 to 35 showed a hgher importance level ('medium importance' is typically between 0.2 and 0.8)\n",
    "\n",
    "#### This makes sense when looking at the amount of points *less* that a player would score over the course of their 31 and 35-year-old seasons.  The 31 year old loses an average of only 4 points over an entire season.  This is relatively small.  The 35 year old loses an average of 14 which, depending on the role he is being used for, may be quite important."
   ]
  },
  {
   "cell_type": "markdown",
   "metadata": {},
   "source": [
    "#### Below are a few boxplots showing the differences between the seasons."
   ]
  },
  {
   "cell_type": "code",
   "execution_count": 13,
   "metadata": {
    "scrolled": true
   },
   "outputs": [
    {
     "data": {
      "image/png": "[encoded data removed]",
      "text/plain": [
       "<Figure size 432x288 with 1 Axes>"
      ]
     },
     "metadata": {
      "needs_background": "light"
     },
     "output_type": "display_data"
    }
   ],
   "source": [
    "# Showing the tiny drop off in points per game.  The outliers are a \n",
    "# little more drastic, but outliers tend to be drastic anyway.\n",
    "sns.boxplot( x=['Points per game at\\n30 years of age', 'Points per game at\\n31 years of age'], y=[dict_30_ppg_for_31, dict_31_ppg]);"
   ]
  },
  {
   "cell_type": "code",
   "execution_count": 14,
   "metadata": {},
   "outputs": [
    {
     "data": {
      "image/png": "[encoded data removed]",
      "text/plain": [
       "<Figure size 432x288 with 1 Axes>"
      ]
     },
     "metadata": {
      "needs_background": "light"
     },
     "output_type": "display_data"
    }
   ],
   "source": [
    "sns.boxplot( x=['Points per game at\\n30 years of age', 'Points per game at\\n35 years of age'], y=[dict_30_ppg_for_35, dict_35_ppg]);"
   ]
  },
  {
   "cell_type": "markdown",
   "metadata": {},
   "source": [
    "### Conclusion for question 1:\n",
    "#### We have enough here to reject the null hypothesis at an alpha of 0.05.  However, the Cohen's d statistic shows that, even though the change is significant, it isn't so important.  The exact drop in points per game is right around 1/20th of a point and for at least the better players, that dropoff would be pretty negligible.\n",
    "\n",
    "#### As a comparison, the dropoff for the 35 year old (not the question asked, but an interesting statistic nonetheless) shows a dropoff that is more than three times as high, and even still...it is possible that even with that dropoff, a player may still be useful to an organization."
   ]
  },
  {
   "cell_type": "markdown",
   "metadata": {},
   "source": [
    "# QUESTION 2"
   ]
  },
  {
   "cell_type": "markdown",
   "metadata": {},
   "source": [
    "#### Not the cleanest way to do this.  Given more time, we would remake this block into a function, so we can call it instead of having to copy and paste loops.\n",
    "\n",
    "#### However, it is still effective.  These loops grab team data from the api and then create dictionaries with (key, value) pairs of (Team name, Goals per game) for each season.  This makes it easier to keep track of who scored what."
   ]
  },
  {
   "cell_type": "code",
   "execution_count": 15,
   "metadata": {},
   "outputs": [],
   "source": [
    "teamGoalsPerGame_04 = {}\n",
    "teamGoalsPerGame_06 = {}\n",
    "teamGoalsPerGame_07 = {}\n",
    "teamGoalsPerGame_08 = {}\n",
    "teamGoalsPerGame_09 = {}\n",
    "teamGoalsPerGame_10 = {}\n",
    "teamGoalsPerGame_11 = {}\n",
    "teamGoalsPerGame_12 = {}\n",
    "\n",
    "yearhtml = 'https://statsapi.web.nhl.com/api/v1/teams?expand=team.stats&season=20032004'\n",
    "r = requests.get(yearhtml, auth=('user', 'pass'))\n",
    "nestdict = r.json()\n",
    "\n",
    "\n",
    "for i in range(len(nestdict['teams'])):\n",
    "    name = nestdict['teams'][i]['name']\n",
    "    goalsPerGame = nestdict['teams'][i]['teamStats'][0]['splits'][0]['stat']['goalsPerGame']\n",
    "    teamGoalsPerGame_04[name] = goalsPerGame\n",
    "    \n",
    "yearhtml = 'https://statsapi.web.nhl.com/api/v1/teams?expand=team.stats&season=20052006'\n",
    "r = requests.get(yearhtml, auth=('user', 'pass'))\n",
    "nestdict = r.json()\n",
    "\n",
    "for i in range(len(nestdict['teams'])):\n",
    "    name = nestdict['teams'][i]['name']\n",
    "    goalsPerGame = nestdict['teams'][i]['teamStats'][0]['splits'][0]['stat']['goalsPerGame']\n",
    "    teamGoalsPerGame_06[name] = goalsPerGame\n",
    "    \n",
    "yearhtml = 'https://statsapi.web.nhl.com/api/v1/teams?expand=team.stats&season=20062007'\n",
    "r = requests.get(yearhtml, auth=('user', 'pass'))\n",
    "nestdict = r.json()\n",
    "\n",
    "for i in range(len(nestdict['teams'])):\n",
    "    name = nestdict['teams'][i]['name']\n",
    "    goalsPerGame = nestdict['teams'][i]['teamStats'][0]['splits'][0]['stat']['goalsPerGame']\n",
    "    teamGoalsPerGame_07[name] = goalsPerGame\n",
    "    \n",
    "yearhtml = 'https://statsapi.web.nhl.com/api/v1/teams?expand=team.stats&season=20072008'\n",
    "r = requests.get(yearhtml, auth=('user', 'pass'))\n",
    "nestdict = r.json()\n",
    "\n",
    "for i in range(len(nestdict['teams'])):\n",
    "    name = nestdict['teams'][i]['name']\n",
    "    goalsPerGame = nestdict['teams'][i]['teamStats'][0]['splits'][0]['stat']['goalsPerGame']\n",
    "    teamGoalsPerGame_08[name] = goalsPerGame\n",
    "    \n",
    "yearhtml = 'https://statsapi.web.nhl.com/api/v1/teams?expand=team.stats&season=20082009'\n",
    "r = requests.get(yearhtml, auth=('user', 'pass'))\n",
    "nestdict = r.json()\n",
    "\n",
    "for i in range(len(nestdict['teams'])):\n",
    "    name = nestdict['teams'][i]['name']\n",
    "    goalsPerGame = nestdict['teams'][i]['teamStats'][0]['splits'][0]['stat']['goalsPerGame']\n",
    "    teamGoalsPerGame_09[name] = goalsPerGame\n",
    "    \n",
    "yearhtml = 'https://statsapi.web.nhl.com/api/v1/teams?expand=team.stats&season=20092010'\n",
    "r = requests.get(yearhtml, auth=('user', 'pass'))\n",
    "nestdict = r.json()\n",
    "\n",
    "for i in range(len(nestdict['teams'])):\n",
    "    name = nestdict['teams'][i]['name']\n",
    "    goalsPerGame = nestdict['teams'][i]['teamStats'][0]['splits'][0]['stat']['goalsPerGame']\n",
    "    teamGoalsPerGame_10[name] = goalsPerGame\n",
    "    \n",
    "\n",
    "yearhtml = 'https://statsapi.web.nhl.com/api/v1/teams?expand=team.stats&season=20102011'\n",
    "r = requests.get(yearhtml, auth=('user', 'pass'))\n",
    "nestdict = r.json()\n",
    "\n",
    "for i in range(len(nestdict['teams'])):\n",
    "    name = nestdict['teams'][i]['name']\n",
    "    goalsPerGame = nestdict['teams'][i]['teamStats'][0]['splits'][0]['stat']['goalsPerGame']\n",
    "    teamGoalsPerGame_11[name] = goalsPerGame\n",
    "    \n",
    "yearhtml = 'https://statsapi.web.nhl.com/api/v1/teams?expand=team.stats&season=20112012'\n",
    "r = requests.get(yearhtml, auth=('user', 'pass'))\n",
    "nestdict = r.json()\n",
    "\n",
    "for i in range(len(nestdict['teams'])):\n",
    "    name = nestdict['teams'][i]['name']\n",
    "    goalsPerGame = nestdict['teams'][i]['teamStats'][0]['splits'][0]['stat']['goalsPerGame']\n",
    "    teamGoalsPerGame_12[name] = goalsPerGame"
   ]
  },
  {
   "cell_type": "markdown",
   "metadata": {},
   "source": [
    "#### This cell is creating a list of the goals per game in team order.  The NHL API gave us data for these years where the team data was ordered the same way, so we could blindly iterate through the dictionaries without having to check the names."
   ]
  },
  {
   "cell_type": "code",
   "execution_count": 16,
   "metadata": {},
   "outputs": [],
   "source": [
    "gpg04 = []\n",
    "gpg06 = []\n",
    "gpg07 = []\n",
    "gpg08 = []\n",
    "gpg09 = []\n",
    "gpg10 = []\n",
    "gpg11 = []\n",
    "\n",
    "for teamname in teamGoalsPerGame_04.keys():\n",
    "    gpg04.append(teamGoalsPerGame_04[teamname])\n",
    "    gpg06.append(teamGoalsPerGame_06[teamname])\n",
    "    gpg07.append(teamGoalsPerGame_07[teamname])\n",
    "    gpg08.append(teamGoalsPerGame_08[teamname])\n",
    "    gpg09.append(teamGoalsPerGame_09[teamname])\n",
    "    gpg10.append(teamGoalsPerGame_10[teamname])\n",
    "    gpg11.append(teamGoalsPerGame_11[teamname])\n",
    " "
   ]
  },
  {
   "cell_type": "markdown",
   "metadata": {},
   "source": [
    "#### The next two cells calculate the immediate change in goals per game per team, i.e. the change from the 03-04 season to the 05-06 season.  Clearly, both of these analyses resulted in significant statistical differences.  This represents a significant change between the 03-04 and 05-06 seasons, along with a significant change between the 03-04 season and the averages of the following five seasons.\n",
    "\n",
    "##### Note: The 04-05 season was actually never played due to a lockout by the players union."
   ]
  },
  {
   "cell_type": "code",
   "execution_count": 17,
   "metadata": {},
   "outputs": [
    {
     "data": {
      "text/plain": [
       "Ttest_relResult(statistic=-8.430935861838218, pvalue=2.7254557252413516e-09)"
      ]
     },
     "execution_count": 17,
     "metadata": {},
     "output_type": "execute_result"
    }
   ],
   "source": [
    "# Paired t-test\n",
    "stats.ttest_rel(gpg04, gpg06)"
   ]
  },
  {
   "cell_type": "code",
   "execution_count": 18,
   "metadata": {},
   "outputs": [
    {
     "data": {
      "text/plain": [
       "Ttest_relResult(statistic=-5.258912208578422, pvalue=1.2351911502708235e-05)"
      ]
     },
     "execution_count": 18,
     "metadata": {},
     "output_type": "execute_result"
    }
   ],
   "source": [
    "meanofnextfiveseasons = np.array(gpg06)+np.array(gpg07)+np.array(gpg08)+np.array(gpg09)+np.array(gpg10)\n",
    "meanofnextfiveseasons = meanofnextfiveseasons/5\n",
    "stats.ttest_rel(gpg04, meanofnextfiveseasons)"
   ]
  },
  {
   "cell_type": "markdown",
   "metadata": {},
   "source": [
    "#### The cell below shows a graph of individual teams' goals per game across seven seasons.  The lighter blue boxplot represents the season before the changes were implemented, while the darker blue boxplots represent the seasons after.  Using this result as an eye test, we can see that the seasons after the rule change showed higher goal numbers but may also indicate a downward trend."
   ]
  },
  {
   "cell_type": "code",
   "execution_count": 19,
   "metadata": {
    "scrolled": false
   },
   "outputs": [
    {
     "data": {
      "image/png": "[encoded data removed]",
      "text/plain": [
       "<Figure size 1152x432 with 1 Axes>"
      ]
     },
     "metadata": {
      "needs_background": "light"
     },
     "output_type": "display_data"
    }
   ],
   "source": [
    "my_pal = {'2004': 'skyblue', '2006': 'dodgerblue', '2007': 'dodgerblue', '2008': 'dodgerblue', '2009': 'dodgerblue', '2010': 'dodgerblue', '2011': 'dodgerblue'}\n",
    "plt.figure(figsize=(16, 6))\n",
    "plt.title('Individual Team Goals Per Game from 2004-2010')\n",
    "sns.boxplot( x=['2004', '2006', '2007', '2008', '2009', '2010', '2011'], y=[gpg04, gpg06, gpg07, gpg08, gpg09, gpg10, gpg11], palette=my_pal);"
   ]
  },
  {
   "cell_type": "markdown",
   "metadata": {},
   "source": [
    "#### The next cells show the Cohen's d statistics for the two comparison analyses.  The numbers are high and represent a change of high importance for both analyses.  So, not only are these changes significant but they mark a real and lartge differences in NHL goal scoring."
   ]
  },
  {
   "cell_type": "code",
   "execution_count": 20,
   "metadata": {},
   "outputs": [
    {
     "name": "stdout",
     "output_type": "stream",
     "text": [
      "Cohen's d statistics:\n",
      "Between 03-04 and 05-06: -1.4787\n",
      "Between 03-04 and an average of the next five seasons: -1.1382\n"
     ]
    }
   ],
   "source": [
    "gpg0406 = cohen_d(gpg04, gpg06)\n",
    "gpg0410 = cohen_d(gpg04, meanofnextfiveseasons)\n",
    "\n",
    "print('Cohen\\'s d statistics:')\n",
    "print(f'Between 03-04 and 05-06: {round(gpg0406, 4)}')\n",
    "print(f'Between 03-04 and an average of the next five seasons: {round(gpg0410, 4)}')"
   ]
  },
  {
   "cell_type": "markdown",
   "metadata": {},
   "source": [
    "### Conclusion for question 2:\n",
    "#### We have enough here to reject the null hypothesis at an alpha of 0.05.  The league saw a sigificant increase in individual teams' goals per game between the seasons directly before and after the rule change.  The Cohen's d statistic of ~1.48 also represents a change of high importance ('large importance' typically classified at higher than 0.8).\n",
    "\n",
    "#### As a comparison, we made a comparison between the season before the change and an average of the five seasons afterwards.  With this idea, we were hoping to capture any regression back towards the mean.  However, the t statistic was still significant and the Cohen's d variable was still large.  If there is a change here, it is not enough to state that we fail to reject the null hypothesis."
   ]
  },
  {
   "cell_type": "markdown",
   "metadata": {},
   "source": [
    "# MOVING FORWARD\n",
    "\n",
    "#### For question 1, we can find other age ranges where declines begin to appear.  Defensemen are not known for scoring so they are not included in this analysis, but a similar analysis of defensemen using a different statistic (e.g, +/- or shots blocked) could be implemented.\n",
    "\n",
    "#### For question 2, we can run a repeated measures ANOVA to further find differences between seasons, but we were unable to perform it here due to lack of time.  "
   ]
  }
 ],
 "metadata": {
  "kernelspec": {
   "display_name": "Python 3",
   "language": "python",
   "name": "python3"
  },
  "language_info": {
   "codemirror_mode": {
    "name": "ipython",
    "version": 3
   },
   "file_extension": ".py",
   "mimetype": "text/x-python",
   "name": "python",
   "nbconvert_exporter": "python",
   "pygments_lexer": "ipython3",
   "version": "3.7.3"
  }
 },
 "nbformat": 4,
 "nbformat_minor": 2
}
