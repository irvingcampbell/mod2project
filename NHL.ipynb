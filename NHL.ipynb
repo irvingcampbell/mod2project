{
 "cells": [
  {
   "cell_type": "code",
   "execution_count": 69,
   "metadata": {},
   "outputs": [],
   "source": [
    "import requests\n",
    "import pandas as pd\n",
    "import json\n",
    "import matplotlib.pyplot as plt  \n",
    "\n"
   ]
  },
  {
   "cell_type": "markdown",
   "metadata": {},
   "source": [
    "# Depreicated"
   ]
  },
  {
   "cell_type": "markdown",
   "metadata": {},
   "source": [
    "***This file was downloaded directly to the laptop.  Since it's available for download, there is no API call made.  You'll have to download this yourself. http://inalitic.com/datasets/nhl%20player%20data.html*** "
   ]
  },
  {
   "cell_type": "code",
   "execution_count": 70,
   "metadata": {
    "scrolled": false
   },
   "outputs": [
    {
     "name": "stderr",
     "output_type": "stream",
     "text": [
      "C:\\ProgramData\\Anaconda3\\lib\\site-packages\\IPython\\core\\interactiveshell.py:3057: DtypeWarning: Columns (22,23) have mixed types. Specify dtype option on import or set low_memory=False.\n",
      "  interactivity=interactivity, compiler=compiler, result=result)\n"
     ]
    }
   ],
   "source": [
    "df = pd.read_csv('skater_stats.csv', encoding='latin1')"
   ]
  },
  {
   "cell_type": "markdown",
   "metadata": {},
   "source": [
    "# New API"
   ]
  },
  {
   "cell_type": "code",
   "execution_count": 152,
   "metadata": {},
   "outputs": [
    {
     "name": "stdout",
     "output_type": "stream",
     "text": [
      "https://statsapi.web.nhl.com/api/v1/teams?expand=team.stats&season=20002001\n",
      "https://statsapi.web.nhl.com/api/v1/teams?expand=team.stats&season=20012002\n",
      "https://statsapi.web.nhl.com/api/v1/teams?expand=team.stats&season=20022003\n",
      "https://statsapi.web.nhl.com/api/v1/teams?expand=team.stats&season=20032004\n",
      "https://statsapi.web.nhl.com/api/v1/teams?expand=team.stats&season=20052006\n",
      "https://statsapi.web.nhl.com/api/v1/teams?expand=team.stats&season=20062007\n",
      "https://statsapi.web.nhl.com/api/v1/teams?expand=team.stats&season=20072008\n",
      "https://statsapi.web.nhl.com/api/v1/teams?expand=team.stats&season=20082009\n",
      "https://statsapi.web.nhl.com/api/v1/teams?expand=team.stats&season=20092010\n",
      "https://statsapi.web.nhl.com/api/v1/teams?expand=team.stats&season=20102011\n",
      "https://statsapi.web.nhl.com/api/v1/teams?expand=team.stats&season=20112012\n",
      "https://statsapi.web.nhl.com/api/v1/teams?expand=team.stats&season=20122013\n",
      "https://statsapi.web.nhl.com/api/v1/teams?expand=team.stats&season=20132014\n",
      "https://statsapi.web.nhl.com/api/v1/teams?expand=team.stats&season=20142015\n",
      "https://statsapi.web.nhl.com/api/v1/teams?expand=team.stats&season=20152016\n",
      "https://statsapi.web.nhl.com/api/v1/teams?expand=team.stats&season=20162017\n"
     ]
    }
   ],
   "source": [
    "teamgoalsdict = {}\n",
    "yeardict = {}\n",
    "listofgoalgpg = []\n",
    "\n",
    "# For each year that there was an NHL season \n",
    "for i in range(17):\n",
    "    year = 2000+i\n",
    "    year2 = year+1\n",
    "    if year != 2004:\n",
    "        yearhtml = 'https://statsapi.web.nhl.com/api/v1/teams?expand=team.stats&season=' + str(year) + str(year2)\n",
    "        r = requests.get(yearhtml, auth=('user', 'pass'))\n",
    "        nestdict = r.json()\n",
    "        for i in range(30):\n",
    "            name = nestdict['teams'][i]['teamStats'][0]['splits'][0]['team']['name']\n",
    "            goalsPerGame = nestdict['teams'][i]['teamStats'][0]['splits'][0]['stat']['goalsPerGame']\n",
    "            listofgoalgpg.append(goalsPerGame)\n",
    "# \n",
    "# 'goalsPerGame'"
   ]
  },
  {
   "cell_type": "code",
   "execution_count": 165,
   "metadata": {},
   "outputs": [],
   "source": [
    "listofgpg = []\n",
    "yearhtml = 'https://statsapi.web.nhl.com/api/v1/teams?expand=team.stats&season=20052006'\n",
    "r = requests.get(yearhtml, auth=('user', 'pass'))\n",
    "nestdict = r.json()\n",
    "for i in range(30):\n",
    "    name = nestdict['teams'][i]['teamStats'][0]['splits'][0]['team']['name']\n",
    "    goalsPerGame = nestdict['teams'][i]['teamStats'][0]['splits'][0]['stat']['goalsPerGame']\n",
    "    listofgpg.append(goalsPerGame)"
   ]
  },
  {
   "cell_type": "code",
   "execution_count": 154,
   "metadata": {},
   "outputs": [
    {
     "data": {
      "text/plain": [
       "480"
      ]
     },
     "execution_count": 154,
     "metadata": {},
     "output_type": "execute_result"
    }
   ],
   "source": [
    "len(newlist)"
   ]
  },
  {
   "cell_type": "code",
   "execution_count": 168,
   "metadata": {},
   "outputs": [
    {
     "data": {
      "image/png": "[encoded data removed]",
      "text/plain": [
       "<Figure size 432x288 with 1 Axes>"
      ]
     },
     "metadata": {
      "needs_background": "light"
     },
     "output_type": "display_data"
    }
   ],
   "source": [
    "plt.hist(newlist, color = 'green', \n",
    "        histtype = 'bar', rwidth = 0.8) \n",
    "plt.hist(listofgpg, color = 'blue', histtype= 'bar', rwidth= .8)\n",
    "\n",
    "# x-axis label \n",
    "plt.xlabel('Goals Per Game') \n",
    "# frequency label \n",
    "plt.ylabel('Number of times teams have scored in this range') \n",
    "# plot title \n",
    "plt.title('My histogram') \n",
    "  \n",
    "# function to show the plot \n",
    "plt.show() "
   ]
  },
  {
   "cell_type": "code",
   "execution_count": 166,
   "metadata": {},
   "outputs": [
    {
     "data": {
      "image/png": "[encoded data removed]",
      "text/plain": [
       "<Figure size 432x288 with 1 Axes>"
      ]
     },
     "metadata": {
      "needs_background": "light"
     },
     "output_type": "display_data"
    }
   ],
   "source": []
  },
  {
   "cell_type": "code",
   "execution_count": null,
   "metadata": {},
   "outputs": [],
   "source": [
    "a"
   ]
  }
 ],
 "metadata": {
  "kernelspec": {
   "display_name": "Python 3",
   "language": "python",
   "name": "python3"
  },
  "language_info": {
   "codemirror_mode": {
    "name": "ipython",
    "version": 3
   },
   "file_extension": ".py",
   "mimetype": "text/x-python",
   "name": "python",
   "nbconvert_exporter": "python",
   "pygments_lexer": "ipython3",
   "version": "3.7.3"
  }
 },
 "nbformat": 4,
 "nbformat_minor": 2
}
